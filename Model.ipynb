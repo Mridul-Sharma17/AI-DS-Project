{
 "cells": [
  {
   "cell_type": "markdown",
   "metadata": {
    "id": "o9HXUsV3dky2"
   },
   "source": [
    "# Importing the dataset\n"
   ]
  },
  {
   "cell_type": "code",
   "execution_count": 1,
   "metadata": {
    "id": "hxP5xtdVV-XZ"
   },
   "outputs": [],
   "source": [
    "import pandas as pd\n",
    "df = pd.read_csv('tweets.csv')"
   ]
  },
  {
   "cell_type": "markdown",
   "metadata": {
    "id": "8Q9QBQy6WamU"
   },
   "source": [
    "# Basic Understanding of data\n"
   ]
  },
  {
   "cell_type": "code",
   "execution_count": 2,
   "metadata": {
    "colab": {
     "base_uri": "https://localhost:8080/"
    },
    "id": "N7Yx1FEBV7F1",
    "outputId": "400135c2-9351-4c56-929d-2c59197407aa"
   },
   "outputs": [
    {
     "data": {
      "text/plain": [
       "(100000, 6)"
      ]
     },
     "execution_count": 2,
     "metadata": {},
     "output_type": "execute_result"
    }
   ],
   "source": [
    "# shape of the dataset\n",
    "df.shape"
   ]
  },
  {
   "cell_type": "code",
   "execution_count": 3,
   "metadata": {
    "colab": {
     "base_uri": "https://localhost:8080/"
    },
    "id": "ZxVYrQM5WhNR",
    "outputId": "bbbc9beb-6d5d-4067-e23c-b907dfc4eb45"
   },
   "outputs": [
    {
     "name": "stdout",
     "output_type": "stream",
     "text": [
      "<class 'pandas.core.frame.DataFrame'>\n",
      "RangeIndex: 100000 entries, 0 to 99999\n",
      "Data columns (total 6 columns):\n",
      " #   Column  Non-Null Count   Dtype \n",
      "---  ------  --------------   ----- \n",
      " 0   target  100000 non-null  int64 \n",
      " 1   id      100000 non-null  int64 \n",
      " 2   date    100000 non-null  object\n",
      " 3   flag    100000 non-null  object\n",
      " 4   user    100000 non-null  object\n",
      " 5   text    100000 non-null  object\n",
      "dtypes: int64(2), object(4)\n",
      "memory usage: 4.6+ MB\n"
     ]
    }
   ],
   "source": [
    "# checking the dtype and null values in the dataset\n",
    "df.info()"
   ]
  },
  {
   "cell_type": "code",
   "execution_count": 4,
   "metadata": {
    "colab": {
     "base_uri": "https://localhost:8080/",
     "height": 0
    },
    "id": "F48EEx6yWi4V",
    "outputId": "2727a04d-a83c-432e-ae1e-cb58b7b71c2c"
   },
   "outputs": [
    {
     "data": {
      "text/plain": [
       "target    0\n",
       "id        0\n",
       "date      0\n",
       "flag      0\n",
       "user      0\n",
       "text      0\n",
       "dtype: int64"
      ]
     },
     "execution_count": 4,
     "metadata": {},
     "output_type": "execute_result"
    }
   ],
   "source": [
    "# checking for null values\n",
    "df.isnull().sum()"
   ]
  },
  {
   "cell_type": "code",
   "execution_count": 5,
   "metadata": {
    "colab": {
     "base_uri": "https://localhost:8080/"
    },
    "id": "cxX6vHJmWmAP",
    "outputId": "a0a44d90-2ea6-49ce-a273-2dc50f8da9b0"
   },
   "outputs": [
    {
     "data": {
      "text/plain": [
       "0"
      ]
     },
     "execution_count": 5,
     "metadata": {},
     "output_type": "execute_result"
    }
   ],
   "source": [
    "# checking for duplicates\n",
    "df.duplicated().sum()"
   ]
  },
  {
   "cell_type": "code",
   "execution_count": 6,
   "metadata": {
    "colab": {
     "base_uri": "https://localhost:8080/",
     "height": 0
    },
    "id": "X-duexLIWosM",
    "outputId": "5d82b890-be4e-4c73-eb5c-f9a6660d0601"
   },
   "outputs": [
    {
     "data": {
      "text/html": [
       "<div>\n",
       "<style scoped>\n",
       "    .dataframe tbody tr th:only-of-type {\n",
       "        vertical-align: middle;\n",
       "    }\n",
       "\n",
       "    .dataframe tbody tr th {\n",
       "        vertical-align: top;\n",
       "    }\n",
       "\n",
       "    .dataframe thead th {\n",
       "        text-align: right;\n",
       "    }\n",
       "</style>\n",
       "<table border=\"1\" class=\"dataframe\">\n",
       "  <thead>\n",
       "    <tr style=\"text-align: right;\">\n",
       "      <th></th>\n",
       "      <th>target</th>\n",
       "      <th>id</th>\n",
       "      <th>date</th>\n",
       "      <th>flag</th>\n",
       "      <th>user</th>\n",
       "      <th>text</th>\n",
       "    </tr>\n",
       "  </thead>\n",
       "  <tbody>\n",
       "    <tr>\n",
       "      <th>71618</th>\n",
       "      <td>0</td>\n",
       "      <td>2326296366</td>\n",
       "      <td>Thu Jun 25 06:50:25 PDT 2009</td>\n",
       "      <td>NO_QUERY</td>\n",
       "      <td>DomC234</td>\n",
       "      <td>@jemmahatty You promised us no aneamic breasts</td>\n",
       "    </tr>\n",
       "    <tr>\n",
       "      <th>86513</th>\n",
       "      <td>1</td>\n",
       "      <td>1986216885</td>\n",
       "      <td>Sun May 31 18:30:24 PDT 2009</td>\n",
       "      <td>NO_QUERY</td>\n",
       "      <td>five2cute</td>\n",
       "      <td>@yomissb have some ice cream I always tweet ha...</td>\n",
       "    </tr>\n",
       "    <tr>\n",
       "      <th>36659</th>\n",
       "      <td>1</td>\n",
       "      <td>1969352953</td>\n",
       "      <td>Fri May 29 23:46:09 PDT 2009</td>\n",
       "      <td>NO_QUERY</td>\n",
       "      <td>BeccaCheung</td>\n",
       "      <td>cha jung myeon, seafood pancake, and kimchi so...</td>\n",
       "    </tr>\n",
       "    <tr>\n",
       "      <th>66509</th>\n",
       "      <td>1</td>\n",
       "      <td>1677427906</td>\n",
       "      <td>Sat May 02 02:01:29 PDT 2009</td>\n",
       "      <td>NO_QUERY</td>\n",
       "      <td>Mya152</td>\n",
       "      <td>@gfalcone601 Nice &amp;amp; sunny?? I'm so jealous...</td>\n",
       "    </tr>\n",
       "    <tr>\n",
       "      <th>40875</th>\n",
       "      <td>1</td>\n",
       "      <td>2009188125</td>\n",
       "      <td>Tue Jun 02 15:17:18 PDT 2009</td>\n",
       "      <td>NO_QUERY</td>\n",
       "      <td>NOCrimeExaminer</td>\n",
       "      <td>Thanks to everyone for their well wishes. My n...</td>\n",
       "    </tr>\n",
       "  </tbody>\n",
       "</table>\n",
       "</div>"
      ],
      "text/plain": [
       "       target          id                          date      flag  \\\n",
       "71618       0  2326296366  Thu Jun 25 06:50:25 PDT 2009  NO_QUERY   \n",
       "86513       1  1986216885  Sun May 31 18:30:24 PDT 2009  NO_QUERY   \n",
       "36659       1  1969352953  Fri May 29 23:46:09 PDT 2009  NO_QUERY   \n",
       "66509       1  1677427906  Sat May 02 02:01:29 PDT 2009  NO_QUERY   \n",
       "40875       1  2009188125  Tue Jun 02 15:17:18 PDT 2009  NO_QUERY   \n",
       "\n",
       "                  user                                               text  \n",
       "71618          DomC234    @jemmahatty You promised us no aneamic breasts   \n",
       "86513        five2cute  @yomissb have some ice cream I always tweet ha...  \n",
       "36659      BeccaCheung  cha jung myeon, seafood pancake, and kimchi so...  \n",
       "66509           Mya152  @gfalcone601 Nice &amp; sunny?? I'm so jealous...  \n",
       "40875  NOCrimeExaminer  Thanks to everyone for their well wishes. My n...  "
      ]
     },
     "execution_count": 6,
     "metadata": {},
     "output_type": "execute_result"
    }
   ],
   "source": [
    "# looking at 5 random datapoints\n",
    "df.sample(5)"
   ]
  },
  {
   "cell_type": "markdown",
   "metadata": {
    "id": "KR3fQYWoXBBy"
   },
   "source": [
    "# Basic Pre-Processing of text\n"
   ]
  },
  {
   "cell_type": "code",
   "execution_count": 7,
   "metadata": {
    "colab": {
     "base_uri": "https://localhost:8080/",
     "height": 112
    },
    "id": "gqtTn0b9XLHh",
    "outputId": "59bbfdd1-cfc7-48a3-f51f-99561eb45292"
   },
   "outputs": [
    {
     "data": {
      "text/html": [
       "<div>\n",
       "<style scoped>\n",
       "    .dataframe tbody tr th:only-of-type {\n",
       "        vertical-align: middle;\n",
       "    }\n",
       "\n",
       "    .dataframe tbody tr th {\n",
       "        vertical-align: top;\n",
       "    }\n",
       "\n",
       "    .dataframe thead th {\n",
       "        text-align: right;\n",
       "    }\n",
       "</style>\n",
       "<table border=\"1\" class=\"dataframe\">\n",
       "  <thead>\n",
       "    <tr style=\"text-align: right;\">\n",
       "      <th></th>\n",
       "      <th>target</th>\n",
       "      <th>id</th>\n",
       "      <th>date</th>\n",
       "      <th>flag</th>\n",
       "      <th>user</th>\n",
       "      <th>text</th>\n",
       "    </tr>\n",
       "  </thead>\n",
       "  <tbody>\n",
       "    <tr>\n",
       "      <th>0</th>\n",
       "      <td>0</td>\n",
       "      <td>2200003196</td>\n",
       "      <td>Tue Jun 16 18:18:12 PDT 2009</td>\n",
       "      <td>NO_QUERY</td>\n",
       "      <td>LaLaLindsey0609</td>\n",
       "      <td>@chrishasboobs ahhh i hope your ok!!!</td>\n",
       "    </tr>\n",
       "    <tr>\n",
       "      <th>1</th>\n",
       "      <td>0</td>\n",
       "      <td>1467998485</td>\n",
       "      <td>Mon Apr 06 23:11:14 PDT 2009</td>\n",
       "      <td>NO_QUERY</td>\n",
       "      <td>sexygrneyes</td>\n",
       "      <td>@misstoriblack cool , i have no tweet apps  fo...</td>\n",
       "    </tr>\n",
       "  </tbody>\n",
       "</table>\n",
       "</div>"
      ],
      "text/plain": [
       "   target          id                          date      flag  \\\n",
       "0       0  2200003196  Tue Jun 16 18:18:12 PDT 2009  NO_QUERY   \n",
       "1       0  1467998485  Mon Apr 06 23:11:14 PDT 2009  NO_QUERY   \n",
       "\n",
       "              user                                               text  \n",
       "0  LaLaLindsey0609             @chrishasboobs ahhh i hope your ok!!!   \n",
       "1      sexygrneyes  @misstoriblack cool , i have no tweet apps  fo...  "
      ]
     },
     "execution_count": 7,
     "metadata": {},
     "output_type": "execute_result"
    }
   ],
   "source": [
    "# lowercasing\n",
    "df['text'] = df['text'].str.lower()\n",
    "df.head(2)"
   ]
  },
  {
   "cell_type": "code",
   "execution_count": 8,
   "metadata": {
    "colab": {
     "base_uri": "https://localhost:8080/",
     "height": 112
    },
    "id": "OQNoZCTXX1o-",
    "outputId": "cbdb7252-f089-44b6-b0d8-472890e15e78"
   },
   "outputs": [
    {
     "data": {
      "text/html": [
       "<div>\n",
       "<style scoped>\n",
       "    .dataframe tbody tr th:only-of-type {\n",
       "        vertical-align: middle;\n",
       "    }\n",
       "\n",
       "    .dataframe tbody tr th {\n",
       "        vertical-align: top;\n",
       "    }\n",
       "\n",
       "    .dataframe thead th {\n",
       "        text-align: right;\n",
       "    }\n",
       "</style>\n",
       "<table border=\"1\" class=\"dataframe\">\n",
       "  <thead>\n",
       "    <tr style=\"text-align: right;\">\n",
       "      <th></th>\n",
       "      <th>target</th>\n",
       "      <th>id</th>\n",
       "      <th>date</th>\n",
       "      <th>flag</th>\n",
       "      <th>user</th>\n",
       "      <th>text</th>\n",
       "    </tr>\n",
       "  </thead>\n",
       "  <tbody>\n",
       "    <tr>\n",
       "      <th>0</th>\n",
       "      <td>0</td>\n",
       "      <td>2200003196</td>\n",
       "      <td>Tue Jun 16 18:18:12 PDT 2009</td>\n",
       "      <td>NO_QUERY</td>\n",
       "      <td>LaLaLindsey0609</td>\n",
       "      <td>@chrishasboobs ahhh i hope your ok!!!</td>\n",
       "    </tr>\n",
       "    <tr>\n",
       "      <th>1</th>\n",
       "      <td>0</td>\n",
       "      <td>1467998485</td>\n",
       "      <td>Mon Apr 06 23:11:14 PDT 2009</td>\n",
       "      <td>NO_QUERY</td>\n",
       "      <td>sexygrneyes</td>\n",
       "      <td>@misstoriblack cool , i have no tweet apps  fo...</td>\n",
       "    </tr>\n",
       "  </tbody>\n",
       "</table>\n",
       "</div>"
      ],
      "text/plain": [
       "   target          id                          date      flag  \\\n",
       "0       0  2200003196  Tue Jun 16 18:18:12 PDT 2009  NO_QUERY   \n",
       "1       0  1467998485  Mon Apr 06 23:11:14 PDT 2009  NO_QUERY   \n",
       "\n",
       "              user                                               text  \n",
       "0  LaLaLindsey0609             @chrishasboobs ahhh i hope your ok!!!   \n",
       "1      sexygrneyes  @misstoriblack cool , i have no tweet apps  fo...  "
      ]
     },
     "execution_count": 8,
     "metadata": {},
     "output_type": "execute_result"
    }
   ],
   "source": [
    "# removing html tags\n",
    "import re\n",
    "def remove_html(text):\n",
    "  pattern = re.compile('<.*?>')\n",
    "  return pattern.sub(r'', text)\n",
    "\n",
    "df['text'] = df['text'].apply(remove_html)\n",
    "df.head(2)"
   ]
  },
  {
   "cell_type": "code",
   "execution_count": 9,
   "metadata": {
    "colab": {
     "base_uri": "https://localhost:8080/",
     "height": 112
    },
    "id": "MyS8mLZmYTFT",
    "outputId": "99687ca3-acc1-4030-d157-f94119501207"
   },
   "outputs": [
    {
     "data": {
      "text/html": [
       "<div>\n",
       "<style scoped>\n",
       "    .dataframe tbody tr th:only-of-type {\n",
       "        vertical-align: middle;\n",
       "    }\n",
       "\n",
       "    .dataframe tbody tr th {\n",
       "        vertical-align: top;\n",
       "    }\n",
       "\n",
       "    .dataframe thead th {\n",
       "        text-align: right;\n",
       "    }\n",
       "</style>\n",
       "<table border=\"1\" class=\"dataframe\">\n",
       "  <thead>\n",
       "    <tr style=\"text-align: right;\">\n",
       "      <th></th>\n",
       "      <th>target</th>\n",
       "      <th>id</th>\n",
       "      <th>date</th>\n",
       "      <th>flag</th>\n",
       "      <th>user</th>\n",
       "      <th>text</th>\n",
       "    </tr>\n",
       "  </thead>\n",
       "  <tbody>\n",
       "    <tr>\n",
       "      <th>0</th>\n",
       "      <td>0</td>\n",
       "      <td>2200003196</td>\n",
       "      <td>Tue Jun 16 18:18:12 PDT 2009</td>\n",
       "      <td>NO_QUERY</td>\n",
       "      <td>LaLaLindsey0609</td>\n",
       "      <td>@chrishasboobs ahhh i hope your ok!!!</td>\n",
       "    </tr>\n",
       "    <tr>\n",
       "      <th>1</th>\n",
       "      <td>0</td>\n",
       "      <td>1467998485</td>\n",
       "      <td>Mon Apr 06 23:11:14 PDT 2009</td>\n",
       "      <td>NO_QUERY</td>\n",
       "      <td>sexygrneyes</td>\n",
       "      <td>@misstoriblack cool , i have no tweet apps  fo...</td>\n",
       "    </tr>\n",
       "  </tbody>\n",
       "</table>\n",
       "</div>"
      ],
      "text/plain": [
       "   target          id                          date      flag  \\\n",
       "0       0  2200003196  Tue Jun 16 18:18:12 PDT 2009  NO_QUERY   \n",
       "1       0  1467998485  Mon Apr 06 23:11:14 PDT 2009  NO_QUERY   \n",
       "\n",
       "              user                                               text  \n",
       "0  LaLaLindsey0609             @chrishasboobs ahhh i hope your ok!!!   \n",
       "1      sexygrneyes  @misstoriblack cool , i have no tweet apps  fo...  "
      ]
     },
     "execution_count": 9,
     "metadata": {},
     "output_type": "execute_result"
    }
   ],
   "source": [
    "# removing URLs\n",
    "def remove_url(text):\n",
    "  pattern = re.compile(r'https?://\\S+|www\\.\\S+')\n",
    "  return pattern.sub(r'', text)\n",
    "\n",
    "df['text'] = df['text'].apply(remove_url)\n",
    "df.head(2)"
   ]
  },
  {
   "cell_type": "code",
   "execution_count": 10,
   "metadata": {
    "colab": {
     "base_uri": "https://localhost:8080/",
     "height": 112
    },
    "id": "z3NDdHP4YIVW",
    "outputId": "24278e00-1d5f-4b73-e294-493043499c97"
   },
   "outputs": [
    {
     "data": {
      "text/html": [
       "<div>\n",
       "<style scoped>\n",
       "    .dataframe tbody tr th:only-of-type {\n",
       "        vertical-align: middle;\n",
       "    }\n",
       "\n",
       "    .dataframe tbody tr th {\n",
       "        vertical-align: top;\n",
       "    }\n",
       "\n",
       "    .dataframe thead th {\n",
       "        text-align: right;\n",
       "    }\n",
       "</style>\n",
       "<table border=\"1\" class=\"dataframe\">\n",
       "  <thead>\n",
       "    <tr style=\"text-align: right;\">\n",
       "      <th></th>\n",
       "      <th>target</th>\n",
       "      <th>id</th>\n",
       "      <th>date</th>\n",
       "      <th>flag</th>\n",
       "      <th>user</th>\n",
       "      <th>text</th>\n",
       "    </tr>\n",
       "  </thead>\n",
       "  <tbody>\n",
       "    <tr>\n",
       "      <th>0</th>\n",
       "      <td>0</td>\n",
       "      <td>2200003196</td>\n",
       "      <td>Tue Jun 16 18:18:12 PDT 2009</td>\n",
       "      <td>NO_QUERY</td>\n",
       "      <td>LaLaLindsey0609</td>\n",
       "      <td>@chrishasboobs ahhh i hope your ok!!!</td>\n",
       "    </tr>\n",
       "    <tr>\n",
       "      <th>1</th>\n",
       "      <td>0</td>\n",
       "      <td>1467998485</td>\n",
       "      <td>Mon Apr 06 23:11:14 PDT 2009</td>\n",
       "      <td>NO_QUERY</td>\n",
       "      <td>sexygrneyes</td>\n",
       "      <td>@misstoriblack cool , i have no tweet apps for...</td>\n",
       "    </tr>\n",
       "  </tbody>\n",
       "</table>\n",
       "</div>"
      ],
      "text/plain": [
       "   target          id                          date      flag  \\\n",
       "0       0  2200003196  Tue Jun 16 18:18:12 PDT 2009  NO_QUERY   \n",
       "1       0  1467998485  Mon Apr 06 23:11:14 PDT 2009  NO_QUERY   \n",
       "\n",
       "              user                                               text  \n",
       "0  LaLaLindsey0609              @chrishasboobs ahhh i hope your ok!!!  \n",
       "1      sexygrneyes  @misstoriblack cool , i have no tweet apps for...  "
      ]
     },
     "execution_count": 10,
     "metadata": {},
     "output_type": "execute_result"
    }
   ],
   "source": [
    "# handling chat words\n",
    "chat_words = {\n",
    "    \"AFAIK\": \"As Far As I Know\",\n",
    "    \"AFK\": \"Away From Keyboard\",\n",
    "    \"ASAP\": \"As Soon As Possible\",\n",
    "    \"ATK\": \"At The Keyboard\",\n",
    "    \"ATM\": \"At The Moment\",\n",
    "    \"A3\": \"Anytime, Anywhere, Anyplace\",\n",
    "    \"BAK\": \"Back At Keyboard\",\n",
    "    \"BBL\": \"Be Back Later\",\n",
    "    \"BBS\": \"Be Back Soon\",\n",
    "    \"BFN\": \"Bye For Now\",\n",
    "    \"B4N\": \"Bye For Now\",\n",
    "    \"BRB\": \"Be Right Back\",\n",
    "    \"BRT\": \"Be Right There\",\n",
    "    \"BTW\": \"By The Way\",\n",
    "    \"B4\": \"Before\",\n",
    "    \"B4N\": \"Bye For Now\",\n",
    "    \"CU\": \"See You\",\n",
    "    \"CUL8R\": \"See You Later\",\n",
    "    \"CYA\": \"See You\",\n",
    "    \"FAQ\": \"Frequently Asked Questions\",\n",
    "    \"FC\": \"Fingers Crossed\",\n",
    "    \"FWIW\": \"For What It's Worth\",\n",
    "    \"FYI\": \"For Your Information\",\n",
    "    \"GAL\": \"Get A Life\",\n",
    "    \"GG\": \"Good Game\",\n",
    "    \"GN\": \"Good Night\",\n",
    "    \"GMTA\": \"Great Minds Think Alike\",\n",
    "    \"GR8\": \"Great!\",\n",
    "    \"G9\": \"Genius\",\n",
    "    \"IC\": \"I See\",\n",
    "    \"ICQ\": \"I Seek you (also a chat program)\",\n",
    "    \"ILU\": \"ILU: I Love You\",\n",
    "    \"IMHO\": \"In My Honest/Humble Opinion\",\n",
    "    \"IMO\": \"In My Opinion\",\n",
    "    \"IOW\": \"In Other Words\",\n",
    "    \"IRL\": \"In Real Life\",\n",
    "    \"KISS\": \"Keep It Simple, Stupid\",\n",
    "    \"LDR\": \"Long Distance Relationship\",\n",
    "    \"LMAO\": \"Laugh My A.. Off\",\n",
    "    \"LOL\": \"Laughing Out Loud\",\n",
    "    \"LTNS\": \"Long Time No See\",\n",
    "    \"L8R\": \"Later\",\n",
    "    \"MTE\": \"My Thoughts Exactly\",\n",
    "    \"M8\": \"Mate\",\n",
    "    \"NRN\": \"No Reply Necessary\",\n",
    "    \"OIC\": \"Oh I See\",\n",
    "    \"PITA\": \"Pain In The A..\",\n",
    "    \"PRT\": \"Party\",\n",
    "    \"PRW\": \"Parents Are Watching\",\n",
    "    \"QPSA?\": \"Que Pasa?\",\n",
    "    \"ROFL\": \"Rolling On The Floor Laughing\",\n",
    "    \"ROFLOL\": \"Rolling On The Floor Laughing Out Loud\",\n",
    "    \"ROTFLMAO\": \"Rolling On The Floor Laughing My A.. Off\",\n",
    "    \"SK8\": \"Skate\",\n",
    "    \"STATS\": \"Your sex and age\",\n",
    "    \"ASL\": \"Age, Sex, Location\",\n",
    "    \"THX\": \"Thank You\",\n",
    "    \"TTFN\": \"Ta-Ta For Now!\",\n",
    "    \"TTYL\": \"Talk To You Later\",\n",
    "    \"U\": \"You\",\n",
    "    \"U2\": \"You Too\",\n",
    "    \"U4E\": \"Yours For Ever\",\n",
    "    \"WB\": \"Welcome Back\",\n",
    "    \"WTF\": \"What The F...\",\n",
    "    \"WTG\": \"Way To Go!\",\n",
    "    \"WUF\": \"Where Are You From?\",\n",
    "    \"W8\": \"Wait...\",\n",
    "    \"7K\": \"Sick:-D Laugher\",\n",
    "    \"TFW\": \"That feeling when\",\n",
    "    \"MFW\": \"My face when\",\n",
    "    \"MRW\": \"My reaction when\",\n",
    "    \"IFYP\": \"I feel your pain\",\n",
    "    \"TNTL\": \"Trying not to laugh\",\n",
    "    \"JK\": \"Just kidding\",\n",
    "    \"IDC\": \"I don't care\",\n",
    "    \"ILY\": \"I love you\",\n",
    "    \"IMU\": \"I miss you\",\n",
    "    \"ADIH\": \"Another day in hell\",\n",
    "    \"ZZZ\": \"Sleeping, bored, tired\",\n",
    "    \"WYWH\": \"Wish you were here\",\n",
    "    \"TIME\": \"Tears in my eyes\",\n",
    "    \"BAE\": \"Before anyone else\",\n",
    "    \"FIMH\": \"Forever in my heart\",\n",
    "    \"BSAAW\": \"Big smile and a wink\",\n",
    "    \"BWL\": \"Bursting with laughter\",\n",
    "    \"BFF\": \"Best friends forever\",\n",
    "    \"CSL\": \"Can't stop laughing\"\n",
    "}\n",
    "\n",
    "# Function\n",
    "def chat_conversion(text):\n",
    "    new_text = []\n",
    "    for i in text.split():\n",
    "        if i.upper() in chat_words:\n",
    "            new_text.append(chat_words[i.upper()])\n",
    "        else:\n",
    "            new_text.append(i)\n",
    "    return \" \".join(new_text)\n",
    "\n",
    "df['text'] = df['text'].apply(chat_conversion)\n",
    "df.head(2)"
   ]
  },
  {
   "cell_type": "code",
   "execution_count": 11,
   "metadata": {
    "id": "NsfvPBsYpamv"
   },
   "outputs": [],
   "source": [
    "# decontraction of words\n",
    "import re\n",
    "\n",
    "# Contractions dictionary\n",
    "contractions = {\n",
    "    \"ain't\": \"am not\", \"aren't\": \"are not\", \"can't\": \"can not\", \"can't've\": \"can not have\", \"'cause\": \"because\",\n",
    "    \"could've\": \"could have\", \"couldn't\": \"could not\", \"couldn't've\": \"could not have\", \"didn't\": \"did not\",\n",
    "    \"doesn't\": \"does not\", \"don't\": \"do not\", \"hadn't\": \"had not\", \"hadn't've\": \"had not have\", \"hasn't\": \"has not\",\n",
    "    \"haven't\": \"have not\", \"he'd\": \"he would\", \"he'd've\": \"he would have\", \"he'll\": \"he will\", \"he'll've\": \"he will have\",\n",
    "    \"he's\": \"he is\", \"how'd\": \"how did\", \"how'd'y\": \"how do you\", \"how'll\": \"how will\", \"how's\": \"how is\", \"i'd\": \"i would\",\n",
    "    \"i'd've\": \"i would have\", \"i'll\": \"i will\", \"i'll've\": \"i will have\", \"i'm\": \"i am\", \"i've\": \"i have\", \"isn't\": \"is not\",\n",
    "    \"it'd\": \"it would\", \"it'd've\": \"it would have\", \"it'll\": \"it will\", \"it'll've\": \"it will have\", \"it's\": \"it is\",\n",
    "    \"let's\": \"let us\", \"ma'am\": \"madam\", \"mayn't\": \"may not\", \"might've\": \"might have\", \"mightn't\": \"might not\",\n",
    "    \"mightn't've\": \"might not have\", \"must've\": \"must have\", \"mustn't\": \"must not\", \"mustn't've\": \"must not have\",\n",
    "    \"needn't\": \"need not\", \"needn't've\": \"need not have\", \"o'clock\": \"of the clock\", \"oughtn't\": \"ought not\",\n",
    "    \"oughtn't've\": \"ought not have\", \"shan't\": \"shall not\", \"sha'n't\": \"shall not\", \"shan't've\": \"shall not have\",\n",
    "    \"she'd\": \"she would\", \"she'd've\": \"she would have\", \"she'll\": \"she will\", \"she'll've\": \"she will have\", \"she's\": \"she is\",\n",
    "    \"should've\": \"should have\", \"shouldn't\": \"should not\", \"shouldn't've\": \"should not have\", \"so've\": \"so have\",\n",
    "    \"so's\": \"so as\", \"that'd\": \"that would\", \"that'd've\": \"that would have\", \"that's\": \"that is\", \"there'd\": \"there would\",\n",
    "    \"there'd've\": \"there would have\", \"there's\": \"there is\", \"they'd\": \"they would\", \"they'd've\": \"they would have\",\n",
    "    \"they'll\": \"they will\", \"they'll've\": \"they will have\", \"they're\": \"they are\", \"they've\": \"they have\", \"to've\": \"to have\",\n",
    "    \"wasn't\": \"was not\", \"we'd\": \"we would\", \"we'd've\": \"we would have\", \"we'll\": \"we will\", \"we'll've\": \"we will have\",\n",
    "    \"we're\": \"we are\", \"we've\": \"we have\", \"weren't\": \"were not\", \"what'll\": \"what will\", \"what'll've\": \"what will have\",\n",
    "    \"what're\": \"what are\", \"what's\": \"what is\", \"what've\": \"what have\", \"when's\": \"when is\", \"when've\": \"when have\",\n",
    "    \"where'd\": \"where did\", \"where's\": \"where is\", \"where've\": \"where have\", \"who'll\": \"who will\", \"who'll've\": \"who will have\",\n",
    "    \"who's\": \"who is\", \"who've\": \"who have\", \"why's\": \"why is\", \"why've\": \"why have\", \"will've\": \"will have\", \"won't\": \"will not\",\n",
    "    \"won't've\": \"will not have\", \"would've\": \"would have\", \"wouldn't\": \"would not\", \"wouldn't've\": \"would not have\",\n",
    "    \"y'all\": \"you all\", \"y'all'd\": \"you all would\", \"y'all'd've\": \"you all would have\", \"y'all're\": \"you all are\",\n",
    "    \"y'all've\": \"you all have\", \"you'd\": \"you would\", \"you'd've\": \"you would have\", \"you'll\": \"you will\", \"you'll've\": \"you will have\",\n",
    "    \"you're\": \"you are\", \"you've\": \"you have\"\n",
    "}\n",
    "\n",
    "def decontract_text(text):\n",
    "    \"\"\"\n",
    "    Decontracts common English contractions in a given text.\n",
    "    \"\"\"\n",
    "    if not isinstance(text, str):\n",
    "        return text\n",
    "\n",
    "    # Split the text into words\n",
    "    words = text.split()\n",
    "    # Replace each contracted form in the words with the expanded form\n",
    "    expanded_words = [contractions[word.lower()] if word.lower() in contractions else word for word in words]\n",
    "\n",
    "    # Join words back into a sentence\n",
    "    text = ' '.join(expanded_words)\n",
    "\n",
    "    # Handle remaining common contractions in case insensitive manner\n",
    "    text = re.sub(r\"\\b've\\b\", \" have\", text, flags=re.IGNORECASE)\n",
    "    text = re.sub(r\"\\bn't\\b\", \" not\", text, flags=re.IGNORECASE)\n",
    "    text = re.sub(r\"\\b're\\b\", \" are\", text, flags=re.IGNORECASE)\n",
    "    text = re.sub(r\"\\b'll\\b\", \" will\", text, flags=re.IGNORECASE)\n",
    "\n",
    "    return text\n",
    "\n",
    "df['text'] = df['text'].apply(decontract_text)"
   ]
  },
  {
   "cell_type": "code",
   "execution_count": 12,
   "metadata": {
    "colab": {
     "base_uri": "https://localhost:8080/",
     "height": 112
    },
    "id": "ctcM9OIqYDhM",
    "outputId": "6be19e65-a3b8-42fb-f82f-455fa928e17e"
   },
   "outputs": [
    {
     "data": {
      "text/html": [
       "<div>\n",
       "<style scoped>\n",
       "    .dataframe tbody tr th:only-of-type {\n",
       "        vertical-align: middle;\n",
       "    }\n",
       "\n",
       "    .dataframe tbody tr th {\n",
       "        vertical-align: top;\n",
       "    }\n",
       "\n",
       "    .dataframe thead th {\n",
       "        text-align: right;\n",
       "    }\n",
       "</style>\n",
       "<table border=\"1\" class=\"dataframe\">\n",
       "  <thead>\n",
       "    <tr style=\"text-align: right;\">\n",
       "      <th></th>\n",
       "      <th>target</th>\n",
       "      <th>id</th>\n",
       "      <th>date</th>\n",
       "      <th>flag</th>\n",
       "      <th>user</th>\n",
       "      <th>text</th>\n",
       "    </tr>\n",
       "  </thead>\n",
       "  <tbody>\n",
       "    <tr>\n",
       "      <th>0</th>\n",
       "      <td>0</td>\n",
       "      <td>2200003196</td>\n",
       "      <td>Tue Jun 16 18:18:12 PDT 2009</td>\n",
       "      <td>NO_QUERY</td>\n",
       "      <td>LaLaLindsey0609</td>\n",
       "      <td>chrishasboobs ahhh i hope your ok</td>\n",
       "    </tr>\n",
       "    <tr>\n",
       "      <th>1</th>\n",
       "      <td>0</td>\n",
       "      <td>1467998485</td>\n",
       "      <td>Mon Apr 06 23:11:14 PDT 2009</td>\n",
       "      <td>NO_QUERY</td>\n",
       "      <td>sexygrneyes</td>\n",
       "      <td>misstoriblack cool  i have no tweet apps for m...</td>\n",
       "    </tr>\n",
       "  </tbody>\n",
       "</table>\n",
       "</div>"
      ],
      "text/plain": [
       "   target          id                          date      flag  \\\n",
       "0       0  2200003196  Tue Jun 16 18:18:12 PDT 2009  NO_QUERY   \n",
       "1       0  1467998485  Mon Apr 06 23:11:14 PDT 2009  NO_QUERY   \n",
       "\n",
       "              user                                               text  \n",
       "0  LaLaLindsey0609                  chrishasboobs ahhh i hope your ok  \n",
       "1      sexygrneyes  misstoriblack cool  i have no tweet apps for m...  "
      ]
     },
     "execution_count": 12,
     "metadata": {},
     "output_type": "execute_result"
    }
   ],
   "source": [
    "# removing punctuation\n",
    "import string\n",
    "punc = string.punctuation\n",
    "def remove_punc(text):\n",
    "  return text.translate(str.maketrans('', '', punc))\n",
    "\n",
    "df['text'] = df['text'].apply(remove_punc)\n",
    "df.head(2)"
   ]
  },
  {
   "cell_type": "code",
   "execution_count": 13,
   "metadata": {
    "colab": {
     "base_uri": "https://localhost:8080/",
     "height": 311
    },
    "id": "hG8y90YvY9vP",
    "outputId": "a47ef7bb-11fc-4291-a9ed-15086fd18ff0"
   },
   "outputs": [
    {
     "name": "stdout",
     "output_type": "stream",
     "text": [
      "Defaulting to user installation because normal site-packages is not writeable\n",
      "Requirement already satisfied: symspellpy in /home/mridul/.local/lib/python3.10/site-packages (6.7.8)\n",
      "Requirement already satisfied: editdistpy>=0.1.3 in /home/mridul/.local/lib/python3.10/site-packages (from symspellpy) (0.1.5)\n"
     ]
    },
    {
     "data": {
      "text/html": [
       "<div>\n",
       "<style scoped>\n",
       "    .dataframe tbody tr th:only-of-type {\n",
       "        vertical-align: middle;\n",
       "    }\n",
       "\n",
       "    .dataframe tbody tr th {\n",
       "        vertical-align: top;\n",
       "    }\n",
       "\n",
       "    .dataframe thead th {\n",
       "        text-align: right;\n",
       "    }\n",
       "</style>\n",
       "<table border=\"1\" class=\"dataframe\">\n",
       "  <thead>\n",
       "    <tr style=\"text-align: right;\">\n",
       "      <th></th>\n",
       "      <th>target</th>\n",
       "      <th>id</th>\n",
       "      <th>date</th>\n",
       "      <th>flag</th>\n",
       "      <th>user</th>\n",
       "      <th>text</th>\n",
       "    </tr>\n",
       "  </thead>\n",
       "  <tbody>\n",
       "    <tr>\n",
       "      <th>0</th>\n",
       "      <td>0</td>\n",
       "      <td>2200003196</td>\n",
       "      <td>Tue Jun 16 18:18:12 PDT 2009</td>\n",
       "      <td>NO_QUERY</td>\n",
       "      <td>LaLaLindsey0609</td>\n",
       "      <td>chrishasboobs hath i hope your ok</td>\n",
       "    </tr>\n",
       "    <tr>\n",
       "      <th>1</th>\n",
       "      <td>0</td>\n",
       "      <td>1467998485</td>\n",
       "      <td>Mon Apr 06 23:11:14 PDT 2009</td>\n",
       "      <td>NO_QUERY</td>\n",
       "      <td>sexygrneyes</td>\n",
       "      <td>misstoriblack cool i have no tweet apps for my...</td>\n",
       "    </tr>\n",
       "  </tbody>\n",
       "</table>\n",
       "</div>"
      ],
      "text/plain": [
       "   target          id                          date      flag  \\\n",
       "0       0  2200003196  Tue Jun 16 18:18:12 PDT 2009  NO_QUERY   \n",
       "1       0  1467998485  Mon Apr 06 23:11:14 PDT 2009  NO_QUERY   \n",
       "\n",
       "              user                                               text  \n",
       "0  LaLaLindsey0609                  chrishasboobs hath i hope your ok  \n",
       "1      sexygrneyes  misstoriblack cool i have no tweet apps for my...  "
      ]
     },
     "execution_count": 13,
     "metadata": {},
     "output_type": "execute_result"
    }
   ],
   "source": [
    "!pip install symspellpy\n",
    "\n",
    "from symspellpy import SymSpell, Verbosity\n",
    "\n",
    "# Initialize SymSpell with default values\n",
    "sym_spell = SymSpell(max_dictionary_edit_distance=2, prefix_length=7)\n",
    "\n",
    "# Load a dictionary for spell correction\n",
    "dictionary_path = \"en-80k.txt\"\n",
    "sym_spell.load_dictionary(dictionary_path, term_index=0, count_index=1)\n",
    "\n",
    "# Define a function for spell correction using SymSpell\n",
    "def correct_spelling(text):\n",
    "    corrected_words = []\n",
    "    for word in text.split():\n",
    "        # Get the best suggestion for each word\n",
    "        suggestion = sym_spell.lookup(word, Verbosity.CLOSEST, max_edit_distance=2)\n",
    "        corrected_words.append(suggestion[0].term if suggestion else word)  # Append the corrected term or original\n",
    "    return \" \".join(corrected_words)\n",
    "\n",
    "# Apply the spell correction function to the DataFrame\n",
    "df['text'] = df['text'].apply(correct_spelling)\n",
    "\n",
    "df.head(2)"
   ]
  },
  {
   "cell_type": "code",
   "execution_count": 14,
   "metadata": {
    "colab": {
     "base_uri": "https://localhost:8080/"
    },
    "id": "HSNs6Nefiow4",
    "outputId": "c142d645-76ea-4d7f-ba4a-37b59980f970"
   },
   "outputs": [
    {
     "name": "stderr",
     "output_type": "stream",
     "text": [
      "[nltk_data] Downloading package stopwords to /home/mridul/nltk_data...\n",
      "[nltk_data]   Package stopwords is already up-to-date!\n"
     ]
    },
    {
     "data": {
      "text/plain": [
       "True"
      ]
     },
     "execution_count": 14,
     "metadata": {},
     "output_type": "execute_result"
    }
   ],
   "source": [
    "import nltk\n",
    "nltk.download('stopwords')"
   ]
  },
  {
   "cell_type": "code",
   "execution_count": 15,
   "metadata": {
    "colab": {
     "base_uri": "https://localhost:8080/",
     "height": 112
    },
    "id": "VEVCFvKBZH4M",
    "outputId": "d7ad15bc-0afa-4cbc-a8b8-177014c7b91a"
   },
   "outputs": [
    {
     "data": {
      "text/html": [
       "<div>\n",
       "<style scoped>\n",
       "    .dataframe tbody tr th:only-of-type {\n",
       "        vertical-align: middle;\n",
       "    }\n",
       "\n",
       "    .dataframe tbody tr th {\n",
       "        vertical-align: top;\n",
       "    }\n",
       "\n",
       "    .dataframe thead th {\n",
       "        text-align: right;\n",
       "    }\n",
       "</style>\n",
       "<table border=\"1\" class=\"dataframe\">\n",
       "  <thead>\n",
       "    <tr style=\"text-align: right;\">\n",
       "      <th></th>\n",
       "      <th>target</th>\n",
       "      <th>id</th>\n",
       "      <th>date</th>\n",
       "      <th>flag</th>\n",
       "      <th>user</th>\n",
       "      <th>text</th>\n",
       "    </tr>\n",
       "  </thead>\n",
       "  <tbody>\n",
       "    <tr>\n",
       "      <th>0</th>\n",
       "      <td>0</td>\n",
       "      <td>2200003196</td>\n",
       "      <td>Tue Jun 16 18:18:12 PDT 2009</td>\n",
       "      <td>NO_QUERY</td>\n",
       "      <td>LaLaLindsey0609</td>\n",
       "      <td>chrishasboobs hath  hope  ok</td>\n",
       "    </tr>\n",
       "    <tr>\n",
       "      <th>1</th>\n",
       "      <td>0</td>\n",
       "      <td>1467998485</td>\n",
       "      <td>Mon Apr 06 23:11:14 PDT 2009</td>\n",
       "      <td>NO_QUERY</td>\n",
       "      <td>sexygrneyes</td>\n",
       "      <td>misstoriblack cool    tweet apps   razor</td>\n",
       "    </tr>\n",
       "  </tbody>\n",
       "</table>\n",
       "</div>"
      ],
      "text/plain": [
       "   target          id                          date      flag  \\\n",
       "0       0  2200003196  Tue Jun 16 18:18:12 PDT 2009  NO_QUERY   \n",
       "1       0  1467998485  Mon Apr 06 23:11:14 PDT 2009  NO_QUERY   \n",
       "\n",
       "              user                                       text  \n",
       "0  LaLaLindsey0609               chrishasboobs hath  hope  ok  \n",
       "1      sexygrneyes  misstoriblack cool    tweet apps   razor   "
      ]
     },
     "execution_count": 15,
     "metadata": {},
     "output_type": "execute_result"
    }
   ],
   "source": [
    "# removing StopWords\n",
    "from nltk.corpus import stopwords\n",
    "stopword = stopwords.words('english')\n",
    "\n",
    "# Function\n",
    "def remove_stopwords(text):\n",
    "    new_text = []\n",
    "\n",
    "    for word in text.split():\n",
    "        if word in stopword:\n",
    "            new_text.append('')\n",
    "        else:\n",
    "            new_text.append(word)\n",
    "    x = new_text[:]\n",
    "    new_text.clear()\n",
    "    return \" \".join(x)\n",
    "\n",
    "df['text'] = df['text'].apply(remove_stopwords)\n",
    "df.head(2)"
   ]
  },
  {
   "cell_type": "code",
   "execution_count": 16,
   "metadata": {
    "colab": {
     "base_uri": "https://localhost:8080/",
     "height": 219
    },
    "id": "iuPvbrpFZUGe",
    "outputId": "e327b40d-9963-463a-e3a8-543140c553f7"
   },
   "outputs": [
    {
     "name": "stdout",
     "output_type": "stream",
     "text": [
      "Defaulting to user installation because normal site-packages is not writeable\n",
      "Requirement already satisfied: emoji in /home/mridul/.local/lib/python3.10/site-packages (2.14.0)\n"
     ]
    },
    {
     "data": {
      "text/html": [
       "<div>\n",
       "<style scoped>\n",
       "    .dataframe tbody tr th:only-of-type {\n",
       "        vertical-align: middle;\n",
       "    }\n",
       "\n",
       "    .dataframe tbody tr th {\n",
       "        vertical-align: top;\n",
       "    }\n",
       "\n",
       "    .dataframe thead th {\n",
       "        text-align: right;\n",
       "    }\n",
       "</style>\n",
       "<table border=\"1\" class=\"dataframe\">\n",
       "  <thead>\n",
       "    <tr style=\"text-align: right;\">\n",
       "      <th></th>\n",
       "      <th>target</th>\n",
       "      <th>id</th>\n",
       "      <th>date</th>\n",
       "      <th>flag</th>\n",
       "      <th>user</th>\n",
       "      <th>text</th>\n",
       "    </tr>\n",
       "  </thead>\n",
       "  <tbody>\n",
       "    <tr>\n",
       "      <th>0</th>\n",
       "      <td>0</td>\n",
       "      <td>2200003196</td>\n",
       "      <td>Tue Jun 16 18:18:12 PDT 2009</td>\n",
       "      <td>NO_QUERY</td>\n",
       "      <td>LaLaLindsey0609</td>\n",
       "      <td>chrishasboobs hath  hope  ok</td>\n",
       "    </tr>\n",
       "    <tr>\n",
       "      <th>1</th>\n",
       "      <td>0</td>\n",
       "      <td>1467998485</td>\n",
       "      <td>Mon Apr 06 23:11:14 PDT 2009</td>\n",
       "      <td>NO_QUERY</td>\n",
       "      <td>sexygrneyes</td>\n",
       "      <td>misstoriblack cool    tweet apps   razor</td>\n",
       "    </tr>\n",
       "  </tbody>\n",
       "</table>\n",
       "</div>"
      ],
      "text/plain": [
       "   target          id                          date      flag  \\\n",
       "0       0  2200003196  Tue Jun 16 18:18:12 PDT 2009  NO_QUERY   \n",
       "1       0  1467998485  Mon Apr 06 23:11:14 PDT 2009  NO_QUERY   \n",
       "\n",
       "              user                                       text  \n",
       "0  LaLaLindsey0609               chrishasboobs hath  hope  ok  \n",
       "1      sexygrneyes  misstoriblack cool    tweet apps   razor   "
      ]
     },
     "execution_count": 16,
     "metadata": {},
     "output_type": "execute_result"
    }
   ],
   "source": [
    "# Handling Emojis\n",
    "!pip install emoji\n",
    "import emoji\n",
    "\n",
    "df['text'] = df['text'].apply(lambda x: emoji.demojize(x))\n",
    "df.head(2)"
   ]
  },
  {
   "cell_type": "code",
   "execution_count": 17,
   "metadata": {
    "colab": {
     "base_uri": "https://localhost:8080/"
    },
    "id": "_XQb7rNvwW9r",
    "outputId": "52c59158-fde2-4323-e9e0-2c33d20ffef4"
   },
   "outputs": [
    {
     "name": "stderr",
     "output_type": "stream",
     "text": [
      "[nltk_data] Downloading package wordnet to /home/mridul/nltk_data...\n",
      "[nltk_data]   Package wordnet is already up-to-date!\n"
     ]
    },
    {
     "data": {
      "text/plain": [
       "True"
      ]
     },
     "execution_count": 17,
     "metadata": {},
     "output_type": "execute_result"
    }
   ],
   "source": [
    "import nltk\n",
    "nltk.download('wordnet')"
   ]
  },
  {
   "cell_type": "code",
   "execution_count": 18,
   "metadata": {
    "colab": {
     "base_uri": "https://localhost:8080/",
     "height": 112
    },
    "id": "uRxlzlXkeNr8",
    "outputId": "072c2099-a76c-4e7b-c043-f8f193f8a50d"
   },
   "outputs": [
    {
     "data": {
      "text/html": [
       "<div>\n",
       "<style scoped>\n",
       "    .dataframe tbody tr th:only-of-type {\n",
       "        vertical-align: middle;\n",
       "    }\n",
       "\n",
       "    .dataframe tbody tr th {\n",
       "        vertical-align: top;\n",
       "    }\n",
       "\n",
       "    .dataframe thead th {\n",
       "        text-align: right;\n",
       "    }\n",
       "</style>\n",
       "<table border=\"1\" class=\"dataframe\">\n",
       "  <thead>\n",
       "    <tr style=\"text-align: right;\">\n",
       "      <th></th>\n",
       "      <th>target</th>\n",
       "      <th>id</th>\n",
       "      <th>date</th>\n",
       "      <th>flag</th>\n",
       "      <th>user</th>\n",
       "      <th>text</th>\n",
       "    </tr>\n",
       "  </thead>\n",
       "  <tbody>\n",
       "    <tr>\n",
       "      <th>0</th>\n",
       "      <td>0</td>\n",
       "      <td>2200003196</td>\n",
       "      <td>Tue Jun 16 18:18:12 PDT 2009</td>\n",
       "      <td>NO_QUERY</td>\n",
       "      <td>LaLaLindsey0609</td>\n",
       "      <td>chrishasboobs hath hope ok</td>\n",
       "    </tr>\n",
       "    <tr>\n",
       "      <th>1</th>\n",
       "      <td>0</td>\n",
       "      <td>1467998485</td>\n",
       "      <td>Mon Apr 06 23:11:14 PDT 2009</td>\n",
       "      <td>NO_QUERY</td>\n",
       "      <td>sexygrneyes</td>\n",
       "      <td>misstoriblack cool tweet apps razor</td>\n",
       "    </tr>\n",
       "  </tbody>\n",
       "</table>\n",
       "</div>"
      ],
      "text/plain": [
       "   target          id                          date      flag  \\\n",
       "0       0  2200003196  Tue Jun 16 18:18:12 PDT 2009  NO_QUERY   \n",
       "1       0  1467998485  Mon Apr 06 23:11:14 PDT 2009  NO_QUERY   \n",
       "\n",
       "              user                                 text  \n",
       "0  LaLaLindsey0609           chrishasboobs hath hope ok  \n",
       "1      sexygrneyes  misstoriblack cool tweet apps razor  "
      ]
     },
     "execution_count": 18,
     "metadata": {},
     "output_type": "execute_result"
    }
   ],
   "source": [
    "# Import WordNetLemmatizer from NLTK library\n",
    "from nltk.stem import WordNetLemmatizer\n",
    "\n",
    "# Initialize lemmatizer\n",
    "lemmatizer = WordNetLemmatizer()\n",
    "\n",
    "# Function to lemmatize words\n",
    "def lemmatize_words(text):\n",
    "    return \" \".join([lemmatizer.lemmatize(word) for word in text.split()])\n",
    "\n",
    "# Apply the lemmatization function to the 'text' column\n",
    "df['text'] = df['text'].apply(lemmatize_words)\n",
    "df.head(2)"
   ]
  },
  {
   "cell_type": "markdown",
   "metadata": {
    "id": "xM7SDDThXHCS"
   },
   "source": [
    "# Basic Feature Engineering\n"
   ]
  },
  {
   "cell_type": "markdown",
   "metadata": {
    "id": "lnEu7z2pEZZN"
   },
   "source": [
    "## id\n"
   ]
  },
  {
   "cell_type": "code",
   "execution_count": 19,
   "metadata": {
    "colab": {
     "base_uri": "https://localhost:8080/"
    },
    "id": "TXIEa49IdS0O",
    "outputId": "384648a1-6bfc-4dbd-caec-2309dedaf606"
   },
   "outputs": [
    {
     "data": {
      "text/plain": [
       "99993"
      ]
     },
     "execution_count": 19,
     "metadata": {},
     "output_type": "execute_result"
    }
   ],
   "source": [
    "df['id'].nunique()"
   ]
  },
  {
   "cell_type": "code",
   "execution_count": 20,
   "metadata": {
    "colab": {
     "base_uri": "https://localhost:8080/",
     "height": 338
    },
    "id": "sEkmGxwEx4ey",
    "outputId": "302eba9a-2294-47ee-f82e-44f020c601ab"
   },
   "outputs": [
    {
     "data": {
      "text/html": [
       "<div>\n",
       "<style scoped>\n",
       "    .dataframe tbody tr th:only-of-type {\n",
       "        vertical-align: middle;\n",
       "    }\n",
       "\n",
       "    .dataframe tbody tr th {\n",
       "        vertical-align: top;\n",
       "    }\n",
       "\n",
       "    .dataframe thead th {\n",
       "        text-align: right;\n",
       "    }\n",
       "</style>\n",
       "<table border=\"1\" class=\"dataframe\">\n",
       "  <thead>\n",
       "    <tr style=\"text-align: right;\">\n",
       "      <th></th>\n",
       "      <th>target</th>\n",
       "      <th>id</th>\n",
       "      <th>date</th>\n",
       "      <th>flag</th>\n",
       "      <th>user</th>\n",
       "      <th>text</th>\n",
       "    </tr>\n",
       "  </thead>\n",
       "  <tbody>\n",
       "    <tr>\n",
       "      <th>14298</th>\n",
       "      <td>1</td>\n",
       "      <td>1835531233</td>\n",
       "      <td>Mon May 18 06:12:08 PDT 2009</td>\n",
       "      <td>NO_QUERY</td>\n",
       "      <td>alexmotu</td>\n",
       "      <td>shit party great working new track raining ams...</td>\n",
       "    </tr>\n",
       "    <tr>\n",
       "      <th>40779</th>\n",
       "      <td>1</td>\n",
       "      <td>1880879223</td>\n",
       "      <td>Fri May 22 02:49:47 PDT 2009</td>\n",
       "      <td>NO_QUERY</td>\n",
       "      <td>GemmaSugapop</td>\n",
       "      <td>business study happy friday yeyyyyyyyyy happy ...</td>\n",
       "    </tr>\n",
       "    <tr>\n",
       "      <th>56882</th>\n",
       "      <td>0</td>\n",
       "      <td>1982434182</td>\n",
       "      <td>Sun May 31 11:12:02 PDT 2009</td>\n",
       "      <td>NO_QUERY</td>\n",
       "      <td>Wingkit</td>\n",
       "      <td>ooohmtv movie award cant wait really cant watc...</td>\n",
       "    </tr>\n",
       "    <tr>\n",
       "      <th>72084</th>\n",
       "      <td>1</td>\n",
       "      <td>1961298167</td>\n",
       "      <td>Fri May 29 09:17:11 PDT 2009</td>\n",
       "      <td>NO_QUERY</td>\n",
       "      <td>skotakiscool</td>\n",
       "      <td>lanceseabourn know sub voodoo good</td>\n",
       "    </tr>\n",
       "    <tr>\n",
       "      <th>94273</th>\n",
       "      <td>1</td>\n",
       "      <td>1971497459</td>\n",
       "      <td>Sat May 30 07:14:58 PDT 2009</td>\n",
       "      <td>NO_QUERY</td>\n",
       "      <td>xXHAZELXx</td>\n",
       "      <td>dreamingofd yeah lovely change laughing loud n...</td>\n",
       "    </tr>\n",
       "    <tr>\n",
       "      <th>98580</th>\n",
       "      <td>0</td>\n",
       "      <td>2055800600</td>\n",
       "      <td>Sat Jun 06 09:58:50 PDT 2009</td>\n",
       "      <td>NO_QUERY</td>\n",
       "      <td>benny92</td>\n",
       "      <td>revision born good day yesterday tho hahn took...</td>\n",
       "    </tr>\n",
       "    <tr>\n",
       "      <th>99791</th>\n",
       "      <td>1</td>\n",
       "      <td>2062422497</td>\n",
       "      <td>Sat Jun 06 23:11:16 PDT 2009</td>\n",
       "      <td>NO_QUERY</td>\n",
       "      <td>nagham</td>\n",
       "      <td>parulbh wish come event may dna live chat join u</td>\n",
       "    </tr>\n",
       "  </tbody>\n",
       "</table>\n",
       "</div>"
      ],
      "text/plain": [
       "       target          id                          date      flag  \\\n",
       "14298       1  1835531233  Mon May 18 06:12:08 PDT 2009  NO_QUERY   \n",
       "40779       1  1880879223  Fri May 22 02:49:47 PDT 2009  NO_QUERY   \n",
       "56882       0  1982434182  Sun May 31 11:12:02 PDT 2009  NO_QUERY   \n",
       "72084       1  1961298167  Fri May 29 09:17:11 PDT 2009  NO_QUERY   \n",
       "94273       1  1971497459  Sat May 30 07:14:58 PDT 2009  NO_QUERY   \n",
       "98580       0  2055800600  Sat Jun 06 09:58:50 PDT 2009  NO_QUERY   \n",
       "99791       1  2062422497  Sat Jun 06 23:11:16 PDT 2009  NO_QUERY   \n",
       "\n",
       "               user                                               text  \n",
       "14298      alexmotu  shit party great working new track raining ams...  \n",
       "40779  GemmaSugapop  business study happy friday yeyyyyyyyyy happy ...  \n",
       "56882       Wingkit  ooohmtv movie award cant wait really cant watc...  \n",
       "72084  skotakiscool                 lanceseabourn know sub voodoo good  \n",
       "94273     xXHAZELXx  dreamingofd yeah lovely change laughing loud n...  \n",
       "98580       benny92  revision born good day yesterday tho hahn took...  \n",
       "99791        nagham   parulbh wish come event may dna live chat join u  "
      ]
     },
     "execution_count": 20,
     "metadata": {},
     "output_type": "execute_result"
    }
   ],
   "source": [
    "# checking for duplicates because in the previous output there are 99993 unique values which means 7 duplicates\n",
    "\n",
    "df[df['id'].duplicated()==True]\n",
    "\n",
    "# output is listing duplicates but on observing closely you will not find any similarity thus not dropping duplicates"
   ]
  },
  {
   "cell_type": "code",
   "execution_count": 21,
   "metadata": {
    "id": "3MR_ZaPyrMpA"
   },
   "outputs": [],
   "source": [
    "# dropping the id column\n",
    "df.drop('id', axis=1, inplace=True)"
   ]
  },
  {
   "cell_type": "markdown",
   "metadata": {
    "id": "hV_xSsVKEVNT",
    "jp-MarkdownHeadingCollapsed": true
   },
   "source": [
    "## Date\n"
   ]
  },
  {
   "cell_type": "code",
   "execution_count": 22,
   "metadata": {
    "colab": {
     "base_uri": "https://localhost:8080/"
    },
    "id": "7dPT4Bsgdb4v",
    "outputId": "a39c0e25-cd8b-4faf-b211-77742529093c"
   },
   "outputs": [
    {
     "name": "stderr",
     "output_type": "stream",
     "text": [
      "/home/mridul/.local/lib/python3.10/site-packages/dateutil/parser/_parser.py:1207: UnknownTimezoneWarning: tzname PDT identified but not understood.  Pass `tzinfos` argument in order to correctly return a timezone-aware datetime.  In a future version, this will raise an exception.\n",
      "  warnings.warn(\"tzname {tzname} identified but not understood.  \"\n"
     ]
    }
   ],
   "source": [
    "# dates: change the dtype to datetime64[ns]\n",
    "df['date'] = df['date'].astype('datetime64[ns]')"
   ]
  },
  {
   "cell_type": "code",
   "execution_count": 23,
   "metadata": {
    "id": "DZr41XW3uHjr"
   },
   "outputs": [],
   "source": [
    "# starting with the time features\n",
    "df['hour'] = df['date'].dt.hour\n",
    "df['minute'] = df['date'].dt.minute\n",
    "df['second'] = df['date'].dt.second"
   ]
  },
  {
   "cell_type": "code",
   "execution_count": 24,
   "metadata": {
    "id": "10E52YqCy7t_"
   },
   "outputs": [],
   "source": [
    "# applying sine and cosine transformation to hour\n",
    "\n",
    "import numpy as np\n",
    "# Convert 'hour' to radians (normalize to the range [0, 2π])\n",
    "df['hour_rad'] = df['hour'] * (2 * np.pi / 24)\n",
    "\n",
    "# Apply sine and cosine transformations\n",
    "df['hour_sin'] = np.sin(df['hour_rad'])\n",
    "df['hour_cos'] = np.cos(df['hour_rad'])\n",
    "\n",
    "\n",
    "df['minute_radian'] = df['minute'] * (2 * np.pi / 24)\n",
    "# Apply sine and cosine transformations\n",
    "df['min_sin'] = np.sin(df['minute_radian'])\n",
    "df['min_cos'] = np.cos(df['minute_radian'])\n",
    "\n",
    "\n",
    "# Convert 'second' to radians (normalize to the range [0, 2π])\n",
    "df['second_radian'] = df['second'] * (2 * np.pi / 24)\n",
    "# Apply sine and cosine transformations\n",
    "df['sec_sin'] = np.sin(df['second_radian'])\n",
    "df['sec_cos'] = np.cos(df['second_radian'])"
   ]
  },
  {
   "cell_type": "code",
   "execution_count": 25,
   "metadata": {
    "colab": {
     "base_uri": "https://localhost:8080/",
     "height": 363
    },
    "id": "noLfDKfOuSJS",
    "outputId": "22e393be-84b8-4a13-f013-5d4ebf99eb58"
   },
   "outputs": [
    {
     "data": {
      "text/html": [
       "<div>\n",
       "<style scoped>\n",
       "    .dataframe tbody tr th:only-of-type {\n",
       "        vertical-align: middle;\n",
       "    }\n",
       "\n",
       "    .dataframe tbody tr th {\n",
       "        vertical-align: top;\n",
       "    }\n",
       "\n",
       "    .dataframe thead th {\n",
       "        text-align: right;\n",
       "    }\n",
       "</style>\n",
       "<table border=\"1\" class=\"dataframe\">\n",
       "  <thead>\n",
       "    <tr style=\"text-align: right;\">\n",
       "      <th></th>\n",
       "      <th>hour</th>\n",
       "      <th>minute</th>\n",
       "      <th>second</th>\n",
       "      <th>hour_sin</th>\n",
       "      <th>hour_cos</th>\n",
       "      <th>min_sin</th>\n",
       "      <th>min_cos</th>\n",
       "      <th>sec_sin</th>\n",
       "      <th>sec_cos</th>\n",
       "      <th>target</th>\n",
       "    </tr>\n",
       "  </thead>\n",
       "  <tbody>\n",
       "    <tr>\n",
       "      <th>hour</th>\n",
       "      <td>1.000000</td>\n",
       "      <td>0.003214</td>\n",
       "      <td>-0.013137</td>\n",
       "      <td>-0.758319</td>\n",
       "      <td>-0.086177</td>\n",
       "      <td>0.007173</td>\n",
       "      <td>0.001599</td>\n",
       "      <td>-0.004295</td>\n",
       "      <td>0.001685</td>\n",
       "      <td>-0.056037</td>\n",
       "    </tr>\n",
       "    <tr>\n",
       "      <th>minute</th>\n",
       "      <td>0.003214</td>\n",
       "      <td>1.000000</td>\n",
       "      <td>-0.001407</td>\n",
       "      <td>0.000015</td>\n",
       "      <td>0.004858</td>\n",
       "      <td>0.006692</td>\n",
       "      <td>-0.044906</td>\n",
       "      <td>0.004266</td>\n",
       "      <td>-0.000710</td>\n",
       "      <td>-0.000320</td>\n",
       "    </tr>\n",
       "    <tr>\n",
       "      <th>second</th>\n",
       "      <td>-0.013137</td>\n",
       "      <td>-0.001407</td>\n",
       "      <td>1.000000</td>\n",
       "      <td>0.014190</td>\n",
       "      <td>-0.007896</td>\n",
       "      <td>0.002406</td>\n",
       "      <td>0.002926</td>\n",
       "      <td>0.002758</td>\n",
       "      <td>-0.036119</td>\n",
       "      <td>-0.001252</td>\n",
       "    </tr>\n",
       "    <tr>\n",
       "      <th>hour_sin</th>\n",
       "      <td>-0.758319</td>\n",
       "      <td>0.000015</td>\n",
       "      <td>0.014190</td>\n",
       "      <td>1.000000</td>\n",
       "      <td>-0.039470</td>\n",
       "      <td>-0.007727</td>\n",
       "      <td>-0.000591</td>\n",
       "      <td>-0.002253</td>\n",
       "      <td>-0.005056</td>\n",
       "      <td>0.045912</td>\n",
       "    </tr>\n",
       "    <tr>\n",
       "      <th>hour_cos</th>\n",
       "      <td>-0.086177</td>\n",
       "      <td>0.004858</td>\n",
       "      <td>-0.007896</td>\n",
       "      <td>-0.039470</td>\n",
       "      <td>1.000000</td>\n",
       "      <td>-0.003888</td>\n",
       "      <td>-0.006190</td>\n",
       "      <td>0.009172</td>\n",
       "      <td>0.001620</td>\n",
       "      <td>0.073294</td>\n",
       "    </tr>\n",
       "    <tr>\n",
       "      <th>min_sin</th>\n",
       "      <td>0.007173</td>\n",
       "      <td>0.006692</td>\n",
       "      <td>0.002406</td>\n",
       "      <td>-0.007727</td>\n",
       "      <td>-0.003888</td>\n",
       "      <td>1.000000</td>\n",
       "      <td>-0.006607</td>\n",
       "      <td>-0.007223</td>\n",
       "      <td>0.001062</td>\n",
       "      <td>-0.004311</td>\n",
       "    </tr>\n",
       "    <tr>\n",
       "      <th>min_cos</th>\n",
       "      <td>0.001599</td>\n",
       "      <td>-0.044906</td>\n",
       "      <td>0.002926</td>\n",
       "      <td>-0.000591</td>\n",
       "      <td>-0.006190</td>\n",
       "      <td>-0.006607</td>\n",
       "      <td>1.000000</td>\n",
       "      <td>-0.003393</td>\n",
       "      <td>0.004088</td>\n",
       "      <td>0.000492</td>\n",
       "    </tr>\n",
       "    <tr>\n",
       "      <th>sec_sin</th>\n",
       "      <td>-0.004295</td>\n",
       "      <td>0.004266</td>\n",
       "      <td>0.002758</td>\n",
       "      <td>-0.002253</td>\n",
       "      <td>0.009172</td>\n",
       "      <td>-0.007223</td>\n",
       "      <td>-0.003393</td>\n",
       "      <td>1.000000</td>\n",
       "      <td>-0.003441</td>\n",
       "      <td>-0.004449</td>\n",
       "    </tr>\n",
       "    <tr>\n",
       "      <th>sec_cos</th>\n",
       "      <td>0.001685</td>\n",
       "      <td>-0.000710</td>\n",
       "      <td>-0.036119</td>\n",
       "      <td>-0.005056</td>\n",
       "      <td>0.001620</td>\n",
       "      <td>0.001062</td>\n",
       "      <td>0.004088</td>\n",
       "      <td>-0.003441</td>\n",
       "      <td>1.000000</td>\n",
       "      <td>0.002284</td>\n",
       "    </tr>\n",
       "    <tr>\n",
       "      <th>target</th>\n",
       "      <td>-0.056037</td>\n",
       "      <td>-0.000320</td>\n",
       "      <td>-0.001252</td>\n",
       "      <td>0.045912</td>\n",
       "      <td>0.073294</td>\n",
       "      <td>-0.004311</td>\n",
       "      <td>0.000492</td>\n",
       "      <td>-0.004449</td>\n",
       "      <td>0.002284</td>\n",
       "      <td>1.000000</td>\n",
       "    </tr>\n",
       "  </tbody>\n",
       "</table>\n",
       "</div>"
      ],
      "text/plain": [
       "              hour    minute    second  hour_sin  hour_cos   min_sin  \\\n",
       "hour      1.000000  0.003214 -0.013137 -0.758319 -0.086177  0.007173   \n",
       "minute    0.003214  1.000000 -0.001407  0.000015  0.004858  0.006692   \n",
       "second   -0.013137 -0.001407  1.000000  0.014190 -0.007896  0.002406   \n",
       "hour_sin -0.758319  0.000015  0.014190  1.000000 -0.039470 -0.007727   \n",
       "hour_cos -0.086177  0.004858 -0.007896 -0.039470  1.000000 -0.003888   \n",
       "min_sin   0.007173  0.006692  0.002406 -0.007727 -0.003888  1.000000   \n",
       "min_cos   0.001599 -0.044906  0.002926 -0.000591 -0.006190 -0.006607   \n",
       "sec_sin  -0.004295  0.004266  0.002758 -0.002253  0.009172 -0.007223   \n",
       "sec_cos   0.001685 -0.000710 -0.036119 -0.005056  0.001620  0.001062   \n",
       "target   -0.056037 -0.000320 -0.001252  0.045912  0.073294 -0.004311   \n",
       "\n",
       "           min_cos   sec_sin   sec_cos    target  \n",
       "hour      0.001599 -0.004295  0.001685 -0.056037  \n",
       "minute   -0.044906  0.004266 -0.000710 -0.000320  \n",
       "second    0.002926  0.002758 -0.036119 -0.001252  \n",
       "hour_sin -0.000591 -0.002253 -0.005056  0.045912  \n",
       "hour_cos -0.006190  0.009172  0.001620  0.073294  \n",
       "min_sin  -0.006607 -0.007223  0.001062 -0.004311  \n",
       "min_cos   1.000000 -0.003393  0.004088  0.000492  \n",
       "sec_sin  -0.003393  1.000000 -0.003441 -0.004449  \n",
       "sec_cos   0.004088 -0.003441  1.000000  0.002284  \n",
       "target    0.000492 -0.004449  0.002284  1.000000  "
      ]
     },
     "execution_count": 25,
     "metadata": {},
     "output_type": "execute_result"
    }
   ],
   "source": [
    "# comparing the correlation between these time features and target column\n",
    "df[['hour', 'minute', 'second', 'hour_sin', 'hour_cos', 'min_sin', 'min_cos', 'sec_sin', 'sec_cos', 'target']].corr()"
   ]
  },
  {
   "cell_type": "code",
   "execution_count": 26,
   "metadata": {
    "id": "iFWuWt8HywER"
   },
   "outputs": [],
   "source": [
    "# as we can observe in the previous output that there is not much effect of min and sec features. hour_cos has the maximum correlation thus using that instead of hour\n",
    "drop_col =['hour', 'hour_rad', 'hour_sin', 'minute', 'minute_radian', 'min_sin', 'min_cos', 'second', 'second_radian', 'sec_sin', 'sec_cos']\n",
    "df.drop(columns = drop_col, axis=1, inplace=True)"
   ]
  },
  {
   "cell_type": "code",
   "execution_count": 27,
   "metadata": {
    "colab": {
     "base_uri": "https://localhost:8080/"
    },
    "id": "uXTL-hDi7kXA",
    "outputId": "86c2a757-3473-432b-86c1-83442b2b0d93"
   },
   "outputs": [
    {
     "data": {
      "text/plain": [
       "Index(['target', 'date', 'flag', 'user', 'text', 'hour_cos'], dtype='object')"
      ]
     },
     "execution_count": 27,
     "metadata": {},
     "output_type": "execute_result"
    }
   ],
   "source": [
    "df.columns"
   ]
  },
  {
   "cell_type": "code",
   "execution_count": 28,
   "metadata": {
    "id": "-1DhORYk1IZs"
   },
   "outputs": [],
   "source": [
    "# working with date features\n",
    "df['month'] = df['date'].dt.month\n",
    "df['day'] = df['date'].dt.day\n",
    "df['dayofweek'] = df['date'].dt.dayofweek\n",
    "\n",
    "# Cyclical transformations\n",
    "df['dayofweek_sin'] = np.sin(2 * np.pi * df['dayofweek'] / 7)\n",
    "df['dayofweek_cos'] = np.cos(2 * np.pi * df['dayofweek'] / 7)\n",
    "\n",
    "df['month_sin'] = np.sin(2 * np.pi * df['month'] / 12)\n",
    "df['month_cos'] = np.cos(2 * np.pi * df['month'] / 12)\n",
    "\n",
    "df['day_sin'] = np.sin(2 * np.pi * df['day'] / 29)\n",
    "df['day_cos'] = np.cos(2 * np.pi * df['day'] / 29)\n",
    "\n",
    "df['is_weekend'] = df['dayofweek'] >= 5  # 5 and 6 represent Saturday and Sunday"
   ]
  },
  {
   "cell_type": "code",
   "execution_count": 29,
   "metadata": {
    "colab": {
     "base_uri": "https://localhost:8080/",
     "height": 414
    },
    "id": "G_GN8hEj2Uds",
    "outputId": "6a4ca2e2-b9cd-4eb5-b103-b74fc0457357"
   },
   "outputs": [
    {
     "data": {
      "text/html": [
       "<div>\n",
       "<style scoped>\n",
       "    .dataframe tbody tr th:only-of-type {\n",
       "        vertical-align: middle;\n",
       "    }\n",
       "\n",
       "    .dataframe tbody tr th {\n",
       "        vertical-align: top;\n",
       "    }\n",
       "\n",
       "    .dataframe thead th {\n",
       "        text-align: right;\n",
       "    }\n",
       "</style>\n",
       "<table border=\"1\" class=\"dataframe\">\n",
       "  <thead>\n",
       "    <tr style=\"text-align: right;\">\n",
       "      <th></th>\n",
       "      <th>target</th>\n",
       "      <th>month</th>\n",
       "      <th>month_sin</th>\n",
       "      <th>month_cos</th>\n",
       "      <th>day</th>\n",
       "      <th>day_sin</th>\n",
       "      <th>day_cos</th>\n",
       "      <th>dayofweek</th>\n",
       "      <th>dayofweek_sin</th>\n",
       "      <th>dayofweek_cos</th>\n",
       "      <th>is_weekend</th>\n",
       "    </tr>\n",
       "  </thead>\n",
       "  <tbody>\n",
       "    <tr>\n",
       "      <th>target</th>\n",
       "      <td>1.000000</td>\n",
       "      <td>-0.166206</td>\n",
       "      <td>0.172408</td>\n",
       "      <td>0.129081</td>\n",
       "      <td>-0.091395</td>\n",
       "      <td>0.260514</td>\n",
       "      <td>0.166221</td>\n",
       "      <td>0.036476</td>\n",
       "      <td>-0.127139</td>\n",
       "      <td>0.118703</td>\n",
       "      <td>0.091205</td>\n",
       "    </tr>\n",
       "    <tr>\n",
       "      <th>month</th>\n",
       "      <td>-0.166206</td>\n",
       "      <td>1.000000</td>\n",
       "      <td>-0.996201</td>\n",
       "      <td>-0.939002</td>\n",
       "      <td>-0.425330</td>\n",
       "      <td>0.150829</td>\n",
       "      <td>-0.095176</td>\n",
       "      <td>-0.264550</td>\n",
       "      <td>0.274583</td>\n",
       "      <td>0.020967</td>\n",
       "      <td>-0.245992</td>\n",
       "    </tr>\n",
       "    <tr>\n",
       "      <th>month_sin</th>\n",
       "      <td>0.172408</td>\n",
       "      <td>-0.996201</td>\n",
       "      <td>1.000000</td>\n",
       "      <td>0.905486</td>\n",
       "      <td>0.449260</td>\n",
       "      <td>-0.137840</td>\n",
       "      <td>0.122512</td>\n",
       "      <td>0.285376</td>\n",
       "      <td>-0.293979</td>\n",
       "      <td>-0.035890</td>\n",
       "      <td>0.258677</td>\n",
       "    </tr>\n",
       "    <tr>\n",
       "      <th>month_cos</th>\n",
       "      <td>0.129081</td>\n",
       "      <td>-0.939002</td>\n",
       "      <td>0.905486</td>\n",
       "      <td>1.000000</td>\n",
       "      <td>0.298502</td>\n",
       "      <td>-0.190661</td>\n",
       "      <td>-0.020009</td>\n",
       "      <td>0.162200</td>\n",
       "      <td>-0.177118</td>\n",
       "      <td>0.039561</td>\n",
       "      <td>0.177199</td>\n",
       "    </tr>\n",
       "    <tr>\n",
       "      <th>day</th>\n",
       "      <td>-0.091395</td>\n",
       "      <td>-0.425330</td>\n",
       "      <td>0.449260</td>\n",
       "      <td>0.298502</td>\n",
       "      <td>1.000000</td>\n",
       "      <td>-0.496993</td>\n",
       "      <td>-0.027861</td>\n",
       "      <td>0.261155</td>\n",
       "      <td>-0.176768</td>\n",
       "      <td>-0.244092</td>\n",
       "      <td>0.134501</td>\n",
       "    </tr>\n",
       "    <tr>\n",
       "      <th>day_sin</th>\n",
       "      <td>0.260514</td>\n",
       "      <td>0.150829</td>\n",
       "      <td>-0.137840</td>\n",
       "      <td>-0.190661</td>\n",
       "      <td>-0.496993</td>\n",
       "      <td>1.000000</td>\n",
       "      <td>0.446891</td>\n",
       "      <td>0.245711</td>\n",
       "      <td>-0.254096</td>\n",
       "      <td>0.093804</td>\n",
       "      <td>0.319634</td>\n",
       "    </tr>\n",
       "    <tr>\n",
       "      <th>day_cos</th>\n",
       "      <td>0.166221</td>\n",
       "      <td>-0.095176</td>\n",
       "      <td>0.122512</td>\n",
       "      <td>-0.020009</td>\n",
       "      <td>-0.027861</td>\n",
       "      <td>0.446891</td>\n",
       "      <td>1.000000</td>\n",
       "      <td>0.161095</td>\n",
       "      <td>-0.172204</td>\n",
       "      <td>-0.128877</td>\n",
       "      <td>0.118927</td>\n",
       "    </tr>\n",
       "    <tr>\n",
       "      <th>dayofweek</th>\n",
       "      <td>0.036476</td>\n",
       "      <td>-0.264550</td>\n",
       "      <td>0.285376</td>\n",
       "      <td>0.162200</td>\n",
       "      <td>0.261155</td>\n",
       "      <td>0.245711</td>\n",
       "      <td>0.161095</td>\n",
       "      <td>1.000000</td>\n",
       "      <td>-0.763061</td>\n",
       "      <td>-0.371926</td>\n",
       "      <td>0.828072</td>\n",
       "    </tr>\n",
       "    <tr>\n",
       "      <th>dayofweek_sin</th>\n",
       "      <td>-0.127139</td>\n",
       "      <td>0.274583</td>\n",
       "      <td>-0.293979</td>\n",
       "      <td>-0.177118</td>\n",
       "      <td>-0.176768</td>\n",
       "      <td>-0.254096</td>\n",
       "      <td>-0.172204</td>\n",
       "      <td>-0.763061</td>\n",
       "      <td>1.000000</td>\n",
       "      <td>0.116036</td>\n",
       "      <td>-0.810856</td>\n",
       "    </tr>\n",
       "    <tr>\n",
       "      <th>dayofweek_cos</th>\n",
       "      <td>0.118703</td>\n",
       "      <td>0.020967</td>\n",
       "      <td>-0.035890</td>\n",
       "      <td>0.039561</td>\n",
       "      <td>-0.244092</td>\n",
       "      <td>0.093804</td>\n",
       "      <td>-0.128877</td>\n",
       "      <td>-0.371926</td>\n",
       "      <td>0.116036</td>\n",
       "      <td>1.000000</td>\n",
       "      <td>0.068647</td>\n",
       "    </tr>\n",
       "    <tr>\n",
       "      <th>is_weekend</th>\n",
       "      <td>0.091205</td>\n",
       "      <td>-0.245992</td>\n",
       "      <td>0.258677</td>\n",
       "      <td>0.177199</td>\n",
       "      <td>0.134501</td>\n",
       "      <td>0.319634</td>\n",
       "      <td>0.118927</td>\n",
       "      <td>0.828072</td>\n",
       "      <td>-0.810856</td>\n",
       "      <td>0.068647</td>\n",
       "      <td>1.000000</td>\n",
       "    </tr>\n",
       "  </tbody>\n",
       "</table>\n",
       "</div>"
      ],
      "text/plain": [
       "                 target     month  month_sin  month_cos       day   day_sin  \\\n",
       "target         1.000000 -0.166206   0.172408   0.129081 -0.091395  0.260514   \n",
       "month         -0.166206  1.000000  -0.996201  -0.939002 -0.425330  0.150829   \n",
       "month_sin      0.172408 -0.996201   1.000000   0.905486  0.449260 -0.137840   \n",
       "month_cos      0.129081 -0.939002   0.905486   1.000000  0.298502 -0.190661   \n",
       "day           -0.091395 -0.425330   0.449260   0.298502  1.000000 -0.496993   \n",
       "day_sin        0.260514  0.150829  -0.137840  -0.190661 -0.496993  1.000000   \n",
       "day_cos        0.166221 -0.095176   0.122512  -0.020009 -0.027861  0.446891   \n",
       "dayofweek      0.036476 -0.264550   0.285376   0.162200  0.261155  0.245711   \n",
       "dayofweek_sin -0.127139  0.274583  -0.293979  -0.177118 -0.176768 -0.254096   \n",
       "dayofweek_cos  0.118703  0.020967  -0.035890   0.039561 -0.244092  0.093804   \n",
       "is_weekend     0.091205 -0.245992   0.258677   0.177199  0.134501  0.319634   \n",
       "\n",
       "                day_cos  dayofweek  dayofweek_sin  dayofweek_cos  is_weekend  \n",
       "target         0.166221   0.036476      -0.127139       0.118703    0.091205  \n",
       "month         -0.095176  -0.264550       0.274583       0.020967   -0.245992  \n",
       "month_sin      0.122512   0.285376      -0.293979      -0.035890    0.258677  \n",
       "month_cos     -0.020009   0.162200      -0.177118       0.039561    0.177199  \n",
       "day           -0.027861   0.261155      -0.176768      -0.244092    0.134501  \n",
       "day_sin        0.446891   0.245711      -0.254096       0.093804    0.319634  \n",
       "day_cos        1.000000   0.161095      -0.172204      -0.128877    0.118927  \n",
       "dayofweek      0.161095   1.000000      -0.763061      -0.371926    0.828072  \n",
       "dayofweek_sin -0.172204  -0.763061       1.000000       0.116036   -0.810856  \n",
       "dayofweek_cos -0.128877  -0.371926       0.116036       1.000000    0.068647  \n",
       "is_weekend     0.118927   0.828072      -0.810856       0.068647    1.000000  "
      ]
     },
     "execution_count": 29,
     "metadata": {},
     "output_type": "execute_result"
    }
   ],
   "source": [
    "# finding correlation between these new features and target column\n",
    "df[['target', 'month', 'month_sin', 'month_cos', 'day', 'day_sin', 'day_cos', 'dayofweek', 'dayofweek_sin', 'dayofweek_cos', 'is_weekend']].corr()"
   ]
  },
  {
   "cell_type": "code",
   "execution_count": 30,
   "metadata": {
    "id": "olmIS_mY2z20"
   },
   "outputs": [],
   "source": [
    "# dropping column which weren't that useful\n",
    "drop_col = ['month', 'day', 'dayofweek', 'dayofweek_cos', 'month_cos', 'day_cos', 'date']\n",
    "df.drop(columns = drop_col, axis=1, inplace=True)"
   ]
  },
  {
   "cell_type": "code",
   "execution_count": 31,
   "metadata": {
    "colab": {
     "base_uri": "https://localhost:8080/"
    },
    "id": "_bEzUJau5t8r",
    "outputId": "8b2ed759-4da1-4af9-ed10-d7e90580f49f"
   },
   "outputs": [
    {
     "data": {
      "text/plain": [
       "Index(['target', 'flag', 'user', 'text', 'hour_cos', 'dayofweek_sin',\n",
       "       'month_sin', 'day_sin', 'is_weekend'],\n",
       "      dtype='object')"
      ]
     },
     "execution_count": 31,
     "metadata": {},
     "output_type": "execute_result"
    }
   ],
   "source": [
    "df.columns"
   ]
  },
  {
   "cell_type": "markdown",
   "metadata": {
    "id": "HugAufLaEPK6",
    "jp-MarkdownHeadingCollapsed": true
   },
   "source": [
    "## Flag\n"
   ]
  },
  {
   "cell_type": "code",
   "execution_count": 32,
   "metadata": {
    "id": "nh4r95EQ8BDG"
   },
   "outputs": [],
   "source": [
    "# dropping the flag column as it has only value = \"No_QUERY\"\n",
    "df.drop('flag', axis=1, inplace=True)"
   ]
  },
  {
   "cell_type": "markdown",
   "metadata": {
    "id": "LWavOGo0EIBH",
    "jp-MarkdownHeadingCollapsed": true
   },
   "source": [
    "## User\n"
   ]
  },
  {
   "cell_type": "code",
   "execution_count": 33,
   "metadata": {
    "id": "QtxW90VJ8KPa"
   },
   "outputs": [],
   "source": [
    "# Encoding the users column based on frequency distribution\n",
    "user_counts = df['user'].value_counts()\n",
    "df['user_encoded'] = df['user'].map(user_counts)"
   ]
  },
  {
   "cell_type": "code",
   "execution_count": 34,
   "metadata": {
    "colab": {
     "base_uri": "https://localhost:8080/"
    },
    "id": "EWiv3SPS-udd",
    "outputId": "2714cfdf-c764-4f2c-bc5f-b36396589c69"
   },
   "outputs": [
    {
     "data": {
      "text/plain": [
       "0.0515864288204148"
      ]
     },
     "execution_count": 34,
     "metadata": {},
     "output_type": "execute_result"
    }
   ],
   "source": [
    "# checking correlation of user_freq\n",
    "df['user_encoded'].corr(df['target'])"
   ]
  },
  {
   "cell_type": "code",
   "execution_count": 35,
   "metadata": {
    "id": "QONh1ujsFgtm"
   },
   "outputs": [],
   "source": [
    "df.drop('user', axis=1, inplace=True)"
   ]
  },
  {
   "cell_type": "markdown",
   "metadata": {
    "id": "p4F6WyddeUjz"
   },
   "source": [
    "## Text\n"
   ]
  },
  {
   "cell_type": "code",
   "execution_count": 36,
   "metadata": {
    "colab": {
     "base_uri": "https://localhost:8080/"
    },
    "id": "mp5-lfedB2WE",
    "outputId": "58ed4d6d-0c65-4651-f85d-6e3c54703283"
   },
   "outputs": [
    {
     "data": {
      "text/plain": [
       "0"
      ]
     },
     "execution_count": 36,
     "metadata": {},
     "output_type": "execute_result"
    }
   ],
   "source": [
    "# checking for null values in text column\n",
    "df['text'].isnull().sum()"
   ]
  },
  {
   "cell_type": "code",
   "execution_count": 37,
   "metadata": {
    "id": "ZMyskqcQB_Nb"
   },
   "outputs": [],
   "source": [
    "# dropping these null datapoint\n",
    "df.dropna(subset=['text'], inplace=True)"
   ]
  },
  {
   "cell_type": "code",
   "execution_count": 38,
   "metadata": {},
   "outputs": [
    {
     "name": "stdout",
     "output_type": "stream",
     "text": [
      "Defaulting to user installation because normal site-packages is not writeable\n",
      "Collecting en-core-web-sm==3.8.0\n",
      "  Downloading https://github.com/explosion/spacy-models/releases/download/en_core_web_sm-3.8.0/en_core_web_sm-3.8.0-py3-none-any.whl (12.8 MB)\n",
      "\u001b[2K     \u001b[38;2;114;156;31m━━━━━━━━━━━━━━━━━━━━━━━━━━━━━━━━━━━━━━━━\u001b[0m \u001b[32m12.8/12.8 MB\u001b[0m \u001b[31m5.1 MB/s\u001b[0m eta \u001b[36m0:00:00\u001b[0m[31m5.2 MB/s\u001b[0m eta \u001b[36m0:00:01\u001b[0m\n",
      "\u001b[?25h\u001b[38;5;2m✔ Download and installation successful\u001b[0m\n",
      "You can now load the package via spacy.load('en_core_web_sm')\n"
     ]
    }
   ],
   "source": [
    "!python3 -m spacy download en_core_web_sm"
   ]
  },
  {
   "cell_type": "code",
   "execution_count": 39,
   "metadata": {
    "id": "MgxpHhVteyLB"
   },
   "outputs": [],
   "source": [
    "import spacy\n",
    "nlp = spacy.load('en_core_web_sm')"
   ]
  },
  {
   "cell_type": "code",
   "execution_count": 40,
   "metadata": {
    "id": "iAeewCmDBggF"
   },
   "outputs": [],
   "source": [
    "def count_characters(text):\n",
    "    return len(text)\n",
    "\n",
    "def count_words(text):\n",
    "    doc = nlp(text)  # Process the text with spaCy\n",
    "    return len([token for token in doc if not token.is_space])  # Count non-space tokens\n",
    "\n",
    "def count_sentences(text):\n",
    "    doc = nlp(text)  # Process the text with spaCy\n",
    "    return len(list(doc.sents))  # Count sentences"
   ]
  },
  {
   "cell_type": "code",
   "execution_count": 41,
   "metadata": {
    "id": "nUabNFC4CwmE"
   },
   "outputs": [],
   "source": [
    "# Process the entire text column at once\n",
    "docs = list(nlp.pipe(df['text'].fillna('')))  # Fill NaN with an empty string\n",
    "\n",
    "# Create new columns for character, word, and sentence counts\n",
    "df['char_count'] = df['text'].str.len().fillna(0)  # Count characters directly\n",
    "df['word_count'] = [len([token for token in doc if not token.is_space]) for doc in docs]  # Count words\n",
    "df['sent_count'] = [len(list(doc.sents)) for doc in docs]  # Count sentences"
   ]
  },
  {
   "cell_type": "code",
   "execution_count": 42,
   "metadata": {
    "colab": {
     "base_uri": "https://localhost:8080/",
     "height": 175
    },
    "id": "9B78JTZBBltA",
    "outputId": "00aaffa9-991f-420a-8327-45cca7f9e64c"
   },
   "outputs": [
    {
     "data": {
      "text/html": [
       "<div>\n",
       "<style scoped>\n",
       "    .dataframe tbody tr th:only-of-type {\n",
       "        vertical-align: middle;\n",
       "    }\n",
       "\n",
       "    .dataframe tbody tr th {\n",
       "        vertical-align: top;\n",
       "    }\n",
       "\n",
       "    .dataframe thead th {\n",
       "        text-align: right;\n",
       "    }\n",
       "</style>\n",
       "<table border=\"1\" class=\"dataframe\">\n",
       "  <thead>\n",
       "    <tr style=\"text-align: right;\">\n",
       "      <th></th>\n",
       "      <th>char_count</th>\n",
       "      <th>word_count</th>\n",
       "      <th>sent_count</th>\n",
       "      <th>target</th>\n",
       "    </tr>\n",
       "  </thead>\n",
       "  <tbody>\n",
       "    <tr>\n",
       "      <th>char_count</th>\n",
       "      <td>1.000000</td>\n",
       "      <td>0.953295</td>\n",
       "      <td>0.107699</td>\n",
       "      <td>0.022357</td>\n",
       "    </tr>\n",
       "    <tr>\n",
       "      <th>word_count</th>\n",
       "      <td>0.953295</td>\n",
       "      <td>1.000000</td>\n",
       "      <td>0.134106</td>\n",
       "      <td>-0.015103</td>\n",
       "    </tr>\n",
       "    <tr>\n",
       "      <th>sent_count</th>\n",
       "      <td>0.107699</td>\n",
       "      <td>0.134106</td>\n",
       "      <td>1.000000</td>\n",
       "      <td>0.015587</td>\n",
       "    </tr>\n",
       "    <tr>\n",
       "      <th>target</th>\n",
       "      <td>0.022357</td>\n",
       "      <td>-0.015103</td>\n",
       "      <td>0.015587</td>\n",
       "      <td>1.000000</td>\n",
       "    </tr>\n",
       "  </tbody>\n",
       "</table>\n",
       "</div>"
      ],
      "text/plain": [
       "            char_count  word_count  sent_count    target\n",
       "char_count    1.000000    0.953295    0.107699  0.022357\n",
       "word_count    0.953295    1.000000    0.134106 -0.015103\n",
       "sent_count    0.107699    0.134106    1.000000  0.015587\n",
       "target        0.022357   -0.015103    0.015587  1.000000"
      ]
     },
     "execution_count": 42,
     "metadata": {},
     "output_type": "execute_result"
    }
   ],
   "source": [
    "df[['char_count', 'word_count', 'sent_count', 'target']].corr()"
   ]
  },
  {
   "cell_type": "code",
   "execution_count": 43,
   "metadata": {
    "id": "1lARBTJmD1Rn"
   },
   "outputs": [],
   "source": [
    "# dropping char_count as it has less correlation with target column but very high correlation with word_count\n",
    "df.drop('char_count', axis=1, inplace=True)"
   ]
  },
  {
   "cell_type": "code",
   "execution_count": 44,
   "metadata": {},
   "outputs": [],
   "source": [
    "# Embedding the text\n",
    "from sklearn.feature_extraction.text import CountVectorizer\n",
    "# Initialize CountVectorizer\n",
    "vectorizer = CountVectorizer(max_features=5000)\n",
    "\n",
    "# Fit and transform the 'text' column\n",
    "X = vectorizer.fit_transform(df['text'])\n",
    "\n",
    "# Convert the result to a DataFrame for easier inspection\n",
    "embeddings_df = pd.DataFrame(X.toarray(), columns=vectorizer.get_feature_names_out())\n",
    "df = pd.concat([df, embeddings_df], axis=1)\n",
    "df_train = df.drop('text', axis=1)"
   ]
  },
  {
   "cell_type": "code",
   "execution_count": 45,
   "metadata": {},
   "outputs": [],
   "source": [
    "# Save df_train to a CSV file\n",
    "df_train.to_csv('df_train.csv', index=False)\n"
   ]
  },
  {
   "cell_type": "markdown",
   "metadata": {},
   "source": [
    "# Model Building "
   ]
  },
  {
   "cell_type": "code",
   "execution_count": 46,
   "metadata": {},
   "outputs": [],
   "source": [
    "import pandas as pd\n",
    "df_train = pd.read_csv('df_train.csv', nrows = 10000)"
   ]
  },
  {
   "cell_type": "code",
   "execution_count": 47,
   "metadata": {},
   "outputs": [],
   "source": [
    "from sklearn.linear_model import LinearRegression, LogisticRegression\n",
    "from sklearn.model_selection import train_test_split\n",
    "from sklearn.metrics import r2_score\n",
    "from sklearn.metrics import accuracy_score"
   ]
  },
  {
   "cell_type": "code",
   "execution_count": 48,
   "metadata": {},
   "outputs": [],
   "source": [
    "X = df_train.drop('target', axis=1)\n",
    "y = df_train['target']\n",
    "X_train, X_test, y_train, y_test = train_test_split(X, y, test_size=0.2, random_state=42)"
   ]
  },
  {
   "cell_type": "code",
   "execution_count": null,
   "metadata": {},
   "outputs": [],
   "source": [
    "from sklearn.linear_model import LinearRegression\n",
    "from sklearn.metrics import accuracy_score\n",
    "\n",
    "# Train the Linear Regression model\n",
    "linear_regression = LinearRegression()\n",
    "linear_regression_model = linear_regression.fit(X_train, y_train)\n",
    "\n",
    "# Predict on the test set\n",
    "y_pred_linear = linear_regression_model.predict(X_test)\n",
    "\n",
    "# Convert continuous predictions to binary values (e.g., 0 or 1)\n",
    "y_pred_binary = (y_pred_linear >= 0.5).astype(int)\n",
    "\n",
    "# Calculate accuracy score on the test set\n",
    "print(\"Accuracy Score:\", accuracy_score(y_test, y_pred_binary))\n"
   ]
  },
  {
   "cell_type": "code",
   "execution_count": null,
   "metadata": {},
   "outputs": [],
   "source": [
    "from sklearn.linear_model import LogisticRegression\n",
    "\n",
    "# Train the Logistic Regression model\n",
    "logistic_regression = LogisticRegression()\n",
    "logistic_regression_model = logistic_regression.fit(X_train, y_train)\n",
    "\n",
    "# Predict on the test set\n",
    "y_pred_logistic = logistic_regression_model.predict(X_test)\n",
    "\n",
    "# Calculate accuracy score on the test set\n",
    "print(\"Accuracy Score:\", accuracy_score(y_test, y_pred_logistic))"
   ]
  }
 ],
 "metadata": {
  "accelerator": "GPU",
  "colab": {
   "gpuType": "T4",
   "provenance": []
  },
  "kernelspec": {
   "display_name": "Python 3 (ipykernel)",
   "language": "python",
   "name": "python3"
  },
  "language_info": {
   "codemirror_mode": {
    "name": "ipython",
    "version": 3
   },
   "file_extension": ".py",
   "mimetype": "text/x-python",
   "name": "python",
   "nbconvert_exporter": "python",
   "pygments_lexer": "ipython3",
   "version": "3.10.12"
  },
  "widgets": {
   "application/vnd.jupyter.widget-state+json": {
    "014b7e2eb9d74877b3e9548d7458c6d5": {
     "model_module": "@jupyter-widgets/controls",
     "model_module_version": "1.5.0",
     "model_name": "HBoxModel",
     "state": {
      "_dom_classes": [],
      "_model_module": "@jupyter-widgets/controls",
      "_model_module_version": "1.5.0",
      "_model_name": "HBoxModel",
      "_view_count": null,
      "_view_module": "@jupyter-widgets/controls",
      "_view_module_version": "1.5.0",
      "_view_name": "HBoxView",
      "box_style": "",
      "children": [
       "IPY_MODEL_69a8c21e343e4a6392ec6450b221a74b",
       "IPY_MODEL_63e40786c451404c9a60912c77cb9226",
       "IPY_MODEL_2c881909313a4f2a9a1aff33f7b72c4d"
      ],
      "layout": "IPY_MODEL_8636040173054dd3a9f658ee8be0cc9f"
     }
    },
    "0cf143cf7a8645deb2df32f9a06b9b82": {
     "model_module": "@jupyter-widgets/controls",
     "model_module_version": "1.5.0",
     "model_name": "HTMLModel",
     "state": {
      "_dom_classes": [],
      "_model_module": "@jupyter-widgets/controls",
      "_model_module_version": "1.5.0",
      "_model_name": "HTMLModel",
      "_view_count": null,
      "_view_module": "@jupyter-widgets/controls",
      "_view_module_version": "1.5.0",
      "_view_name": "HTMLView",
      "description": "",
      "description_tooltip": null,
      "layout": "IPY_MODEL_ae618ff2f12b422fb175523d4eeb3208",
      "placeholder": "​",
      "style": "IPY_MODEL_6047a3ce90814428ad55095f5db4bae4",
      "value": "vocab.txt: 100%"
     }
    },
    "130ab1d5d8214f53afa6e2e77b73c6ec": {
     "model_module": "@jupyter-widgets/controls",
     "model_module_version": "1.5.0",
     "model_name": "HBoxModel",
     "state": {
      "_dom_classes": [],
      "_model_module": "@jupyter-widgets/controls",
      "_model_module_version": "1.5.0",
      "_model_name": "HBoxModel",
      "_view_count": null,
      "_view_module": "@jupyter-widgets/controls",
      "_view_module_version": "1.5.0",
      "_view_name": "HBoxView",
      "box_style": "",
      "children": [
       "IPY_MODEL_fca21fe16f77471dba5a48dcb69e7694",
       "IPY_MODEL_30cb074c60804eb994b2bc62cc8817f0",
       "IPY_MODEL_dcfed4c78fd14bb79df2f4661c4c7c2d"
      ],
      "layout": "IPY_MODEL_ddcc1c12fd0249a095c0a71b3f09ca7c"
     }
    },
    "14fd97ee76df49b0894c88fc46e565d3": {
     "model_module": "@jupyter-widgets/controls",
     "model_module_version": "1.5.0",
     "model_name": "DescriptionStyleModel",
     "state": {
      "_model_module": "@jupyter-widgets/controls",
      "_model_module_version": "1.5.0",
      "_model_name": "DescriptionStyleModel",
      "_view_count": null,
      "_view_module": "@jupyter-widgets/base",
      "_view_module_version": "1.2.0",
      "_view_name": "StyleView",
      "description_width": ""
     }
    },
    "1589877c7fdc41a0b53c1a62e766703d": {
     "model_module": "@jupyter-widgets/base",
     "model_module_version": "1.2.0",
     "model_name": "LayoutModel",
     "state": {
      "_model_module": "@jupyter-widgets/base",
      "_model_module_version": "1.2.0",
      "_model_name": "LayoutModel",
      "_view_count": null,
      "_view_module": "@jupyter-widgets/base",
      "_view_module_version": "1.2.0",
      "_view_name": "LayoutView",
      "align_content": null,
      "align_items": null,
      "align_self": null,
      "border": null,
      "bottom": null,
      "display": null,
      "flex": null,
      "flex_flow": null,
      "grid_area": null,
      "grid_auto_columns": null,
      "grid_auto_flow": null,
      "grid_auto_rows": null,
      "grid_column": null,
      "grid_gap": null,
      "grid_row": null,
      "grid_template_areas": null,
      "grid_template_columns": null,
      "grid_template_rows": null,
      "height": null,
      "justify_content": null,
      "justify_items": null,
      "left": null,
      "margin": null,
      "max_height": null,
      "max_width": null,
      "min_height": null,
      "min_width": null,
      "object_fit": null,
      "object_position": null,
      "order": null,
      "overflow": null,
      "overflow_x": null,
      "overflow_y": null,
      "padding": null,
      "right": null,
      "top": null,
      "visibility": null,
      "width": null
     }
    },
    "1ec9c2794d744e10b9123b29a5fcfc2b": {
     "model_module": "@jupyter-widgets/controls",
     "model_module_version": "1.5.0",
     "model_name": "HTMLModel",
     "state": {
      "_dom_classes": [],
      "_model_module": "@jupyter-widgets/controls",
      "_model_module_version": "1.5.0",
      "_model_name": "HTMLModel",
      "_view_count": null,
      "_view_module": "@jupyter-widgets/controls",
      "_view_module_version": "1.5.0",
      "_view_name": "HTMLView",
      "description": "",
      "description_tooltip": null,
      "layout": "IPY_MODEL_1589877c7fdc41a0b53c1a62e766703d",
      "placeholder": "​",
      "style": "IPY_MODEL_3b13982dadbc4c0082309b56735515f4",
      "value": "tokenizer_config.json: 100%"
     }
    },
    "236fc387b38847f990a39ee9d8b27b5f": {
     "model_module": "@jupyter-widgets/base",
     "model_module_version": "1.2.0",
     "model_name": "LayoutModel",
     "state": {
      "_model_module": "@jupyter-widgets/base",
      "_model_module_version": "1.2.0",
      "_model_name": "LayoutModel",
      "_view_count": null,
      "_view_module": "@jupyter-widgets/base",
      "_view_module_version": "1.2.0",
      "_view_name": "LayoutView",
      "align_content": null,
      "align_items": null,
      "align_self": null,
      "border": null,
      "bottom": null,
      "display": null,
      "flex": null,
      "flex_flow": null,
      "grid_area": null,
      "grid_auto_columns": null,
      "grid_auto_flow": null,
      "grid_auto_rows": null,
      "grid_column": null,
      "grid_gap": null,
      "grid_row": null,
      "grid_template_areas": null,
      "grid_template_columns": null,
      "grid_template_rows": null,
      "height": null,
      "justify_content": null,
      "justify_items": null,
      "left": null,
      "margin": null,
      "max_height": null,
      "max_width": null,
      "min_height": null,
      "min_width": null,
      "object_fit": null,
      "object_position": null,
      "order": null,
      "overflow": null,
      "overflow_x": null,
      "overflow_y": null,
      "padding": null,
      "right": null,
      "top": null,
      "visibility": null,
      "width": null
     }
    },
    "23bb8f63ee8e4c8d8456c46dd35fcdb6": {
     "model_module": "@jupyter-widgets/controls",
     "model_module_version": "1.5.0",
     "model_name": "DescriptionStyleModel",
     "state": {
      "_model_module": "@jupyter-widgets/controls",
      "_model_module_version": "1.5.0",
      "_model_name": "DescriptionStyleModel",
      "_view_count": null,
      "_view_module": "@jupyter-widgets/base",
      "_view_module_version": "1.2.0",
      "_view_name": "StyleView",
      "description_width": ""
     }
    },
    "2c881909313a4f2a9a1aff33f7b72c4d": {
     "model_module": "@jupyter-widgets/controls",
     "model_module_version": "1.5.0",
     "model_name": "HTMLModel",
     "state": {
      "_dom_classes": [],
      "_model_module": "@jupyter-widgets/controls",
      "_model_module_version": "1.5.0",
      "_model_name": "HTMLModel",
      "_view_count": null,
      "_view_module": "@jupyter-widgets/controls",
      "_view_module_version": "1.5.0",
      "_view_name": "HTMLView",
      "description": "",
      "description_tooltip": null,
      "layout": "IPY_MODEL_e98b8557b3a041e6b447d77b724bdbc4",
      "placeholder": "​",
      "style": "IPY_MODEL_af114cf848f546b68f5386bdf6515867",
      "value": " 629/629 [00:00&lt;00:00, 40.4kB/s]"
     }
    },
    "30a8e098089b4d188608d4419c9cd49a": {
     "model_module": "@jupyter-widgets/controls",
     "model_module_version": "1.5.0",
     "model_name": "DescriptionStyleModel",
     "state": {
      "_model_module": "@jupyter-widgets/controls",
      "_model_module_version": "1.5.0",
      "_model_name": "DescriptionStyleModel",
      "_view_count": null,
      "_view_module": "@jupyter-widgets/base",
      "_view_module_version": "1.2.0",
      "_view_name": "StyleView",
      "description_width": ""
     }
    },
    "30cb074c60804eb994b2bc62cc8817f0": {
     "model_module": "@jupyter-widgets/controls",
     "model_module_version": "1.5.0",
     "model_name": "FloatProgressModel",
     "state": {
      "_dom_classes": [],
      "_model_module": "@jupyter-widgets/controls",
      "_model_module_version": "1.5.0",
      "_model_name": "FloatProgressModel",
      "_view_count": null,
      "_view_module": "@jupyter-widgets/controls",
      "_view_module_version": "1.5.0",
      "_view_name": "ProgressView",
      "bar_style": "success",
      "description": "",
      "description_tooltip": null,
      "layout": "IPY_MODEL_99a38e65550d48a1a1e0d3556f9ee849",
      "max": 267832558,
      "min": 0,
      "orientation": "horizontal",
      "style": "IPY_MODEL_7e81d3f2904c4d83a86bd607d3f92390",
      "value": 267832558
     }
    },
    "35606a7d10bf47fdaacf3f473afffcc5": {
     "model_module": "@jupyter-widgets/base",
     "model_module_version": "1.2.0",
     "model_name": "LayoutModel",
     "state": {
      "_model_module": "@jupyter-widgets/base",
      "_model_module_version": "1.2.0",
      "_model_name": "LayoutModel",
      "_view_count": null,
      "_view_module": "@jupyter-widgets/base",
      "_view_module_version": "1.2.0",
      "_view_name": "LayoutView",
      "align_content": null,
      "align_items": null,
      "align_self": null,
      "border": null,
      "bottom": null,
      "display": null,
      "flex": null,
      "flex_flow": null,
      "grid_area": null,
      "grid_auto_columns": null,
      "grid_auto_flow": null,
      "grid_auto_rows": null,
      "grid_column": null,
      "grid_gap": null,
      "grid_row": null,
      "grid_template_areas": null,
      "grid_template_columns": null,
      "grid_template_rows": null,
      "height": null,
      "justify_content": null,
      "justify_items": null,
      "left": null,
      "margin": null,
      "max_height": null,
      "max_width": null,
      "min_height": null,
      "min_width": null,
      "object_fit": null,
      "object_position": null,
      "order": null,
      "overflow": null,
      "overflow_x": null,
      "overflow_y": null,
      "padding": null,
      "right": null,
      "top": null,
      "visibility": null,
      "width": null
     }
    },
    "3b13982dadbc4c0082309b56735515f4": {
     "model_module": "@jupyter-widgets/controls",
     "model_module_version": "1.5.0",
     "model_name": "DescriptionStyleModel",
     "state": {
      "_model_module": "@jupyter-widgets/controls",
      "_model_module_version": "1.5.0",
      "_model_name": "DescriptionStyleModel",
      "_view_count": null,
      "_view_module": "@jupyter-widgets/base",
      "_view_module_version": "1.2.0",
      "_view_name": "StyleView",
      "description_width": ""
     }
    },
    "3c75a839da514481a7e17e86827e8ef3": {
     "model_module": "@jupyter-widgets/base",
     "model_module_version": "1.2.0",
     "model_name": "LayoutModel",
     "state": {
      "_model_module": "@jupyter-widgets/base",
      "_model_module_version": "1.2.0",
      "_model_name": "LayoutModel",
      "_view_count": null,
      "_view_module": "@jupyter-widgets/base",
      "_view_module_version": "1.2.0",
      "_view_name": "LayoutView",
      "align_content": null,
      "align_items": null,
      "align_self": null,
      "border": null,
      "bottom": null,
      "display": null,
      "flex": null,
      "flex_flow": null,
      "grid_area": null,
      "grid_auto_columns": null,
      "grid_auto_flow": null,
      "grid_auto_rows": null,
      "grid_column": null,
      "grid_gap": null,
      "grid_row": null,
      "grid_template_areas": null,
      "grid_template_columns": null,
      "grid_template_rows": null,
      "height": null,
      "justify_content": null,
      "justify_items": null,
      "left": null,
      "margin": null,
      "max_height": null,
      "max_width": null,
      "min_height": null,
      "min_width": null,
      "object_fit": null,
      "object_position": null,
      "order": null,
      "overflow": null,
      "overflow_x": null,
      "overflow_y": null,
      "padding": null,
      "right": null,
      "top": null,
      "visibility": null,
      "width": null
     }
    },
    "436b618495a04a09bc779022295a81fe": {
     "model_module": "@jupyter-widgets/controls",
     "model_module_version": "1.5.0",
     "model_name": "HTMLModel",
     "state": {
      "_dom_classes": [],
      "_model_module": "@jupyter-widgets/controls",
      "_model_module_version": "1.5.0",
      "_model_name": "HTMLModel",
      "_view_count": null,
      "_view_module": "@jupyter-widgets/controls",
      "_view_module_version": "1.5.0",
      "_view_name": "HTMLView",
      "description": "",
      "description_tooltip": null,
      "layout": "IPY_MODEL_65c84f1eefc94eb3bde48a10110ba316",
      "placeholder": "​",
      "style": "IPY_MODEL_30a8e098089b4d188608d4419c9cd49a",
      "value": " 48.0/48.0 [00:00&lt;00:00, 2.61kB/s]"
     }
    },
    "46361e12c52e46a0bbc35de1bd001cd8": {
     "model_module": "@jupyter-widgets/controls",
     "model_module_version": "1.5.0",
     "model_name": "DescriptionStyleModel",
     "state": {
      "_model_module": "@jupyter-widgets/controls",
      "_model_module_version": "1.5.0",
      "_model_name": "DescriptionStyleModel",
      "_view_count": null,
      "_view_module": "@jupyter-widgets/base",
      "_view_module_version": "1.2.0",
      "_view_name": "StyleView",
      "description_width": ""
     }
    },
    "584315bb91f04092bf24be26c2495b9d": {
     "model_module": "@jupyter-widgets/base",
     "model_module_version": "1.2.0",
     "model_name": "LayoutModel",
     "state": {
      "_model_module": "@jupyter-widgets/base",
      "_model_module_version": "1.2.0",
      "_model_name": "LayoutModel",
      "_view_count": null,
      "_view_module": "@jupyter-widgets/base",
      "_view_module_version": "1.2.0",
      "_view_name": "LayoutView",
      "align_content": null,
      "align_items": null,
      "align_self": null,
      "border": null,
      "bottom": null,
      "display": null,
      "flex": null,
      "flex_flow": null,
      "grid_area": null,
      "grid_auto_columns": null,
      "grid_auto_flow": null,
      "grid_auto_rows": null,
      "grid_column": null,
      "grid_gap": null,
      "grid_row": null,
      "grid_template_areas": null,
      "grid_template_columns": null,
      "grid_template_rows": null,
      "height": null,
      "justify_content": null,
      "justify_items": null,
      "left": null,
      "margin": null,
      "max_height": null,
      "max_width": null,
      "min_height": null,
      "min_width": null,
      "object_fit": null,
      "object_position": null,
      "order": null,
      "overflow": null,
      "overflow_x": null,
      "overflow_y": null,
      "padding": null,
      "right": null,
      "top": null,
      "visibility": null,
      "width": null
     }
    },
    "5d0c259f2a3540cc9bf4bb7cd937c8bd": {
     "model_module": "@jupyter-widgets/controls",
     "model_module_version": "1.5.0",
     "model_name": "DescriptionStyleModel",
     "state": {
      "_model_module": "@jupyter-widgets/controls",
      "_model_module_version": "1.5.0",
      "_model_name": "DescriptionStyleModel",
      "_view_count": null,
      "_view_module": "@jupyter-widgets/base",
      "_view_module_version": "1.2.0",
      "_view_name": "StyleView",
      "description_width": ""
     }
    },
    "6047a3ce90814428ad55095f5db4bae4": {
     "model_module": "@jupyter-widgets/controls",
     "model_module_version": "1.5.0",
     "model_name": "DescriptionStyleModel",
     "state": {
      "_model_module": "@jupyter-widgets/controls",
      "_model_module_version": "1.5.0",
      "_model_name": "DescriptionStyleModel",
      "_view_count": null,
      "_view_module": "@jupyter-widgets/base",
      "_view_module_version": "1.2.0",
      "_view_name": "StyleView",
      "description_width": ""
     }
    },
    "61afd4fe6b60484ba17d6f2713575f8d": {
     "model_module": "@jupyter-widgets/base",
     "model_module_version": "1.2.0",
     "model_name": "LayoutModel",
     "state": {
      "_model_module": "@jupyter-widgets/base",
      "_model_module_version": "1.2.0",
      "_model_name": "LayoutModel",
      "_view_count": null,
      "_view_module": "@jupyter-widgets/base",
      "_view_module_version": "1.2.0",
      "_view_name": "LayoutView",
      "align_content": null,
      "align_items": null,
      "align_self": null,
      "border": null,
      "bottom": null,
      "display": null,
      "flex": null,
      "flex_flow": null,
      "grid_area": null,
      "grid_auto_columns": null,
      "grid_auto_flow": null,
      "grid_auto_rows": null,
      "grid_column": null,
      "grid_gap": null,
      "grid_row": null,
      "grid_template_areas": null,
      "grid_template_columns": null,
      "grid_template_rows": null,
      "height": null,
      "justify_content": null,
      "justify_items": null,
      "left": null,
      "margin": null,
      "max_height": null,
      "max_width": null,
      "min_height": null,
      "min_width": null,
      "object_fit": null,
      "object_position": null,
      "order": null,
      "overflow": null,
      "overflow_x": null,
      "overflow_y": null,
      "padding": null,
      "right": null,
      "top": null,
      "visibility": null,
      "width": null
     }
    },
    "63e40786c451404c9a60912c77cb9226": {
     "model_module": "@jupyter-widgets/controls",
     "model_module_version": "1.5.0",
     "model_name": "FloatProgressModel",
     "state": {
      "_dom_classes": [],
      "_model_module": "@jupyter-widgets/controls",
      "_model_module_version": "1.5.0",
      "_model_name": "FloatProgressModel",
      "_view_count": null,
      "_view_module": "@jupyter-widgets/controls",
      "_view_module_version": "1.5.0",
      "_view_name": "ProgressView",
      "bar_style": "success",
      "description": "",
      "description_tooltip": null,
      "layout": "IPY_MODEL_236fc387b38847f990a39ee9d8b27b5f",
      "max": 629,
      "min": 0,
      "orientation": "horizontal",
      "style": "IPY_MODEL_8a61e6eaf3784b668fc5139b9945865b",
      "value": 629
     }
    },
    "65c84f1eefc94eb3bde48a10110ba316": {
     "model_module": "@jupyter-widgets/base",
     "model_module_version": "1.2.0",
     "model_name": "LayoutModel",
     "state": {
      "_model_module": "@jupyter-widgets/base",
      "_model_module_version": "1.2.0",
      "_model_name": "LayoutModel",
      "_view_count": null,
      "_view_module": "@jupyter-widgets/base",
      "_view_module_version": "1.2.0",
      "_view_name": "LayoutView",
      "align_content": null,
      "align_items": null,
      "align_self": null,
      "border": null,
      "bottom": null,
      "display": null,
      "flex": null,
      "flex_flow": null,
      "grid_area": null,
      "grid_auto_columns": null,
      "grid_auto_flow": null,
      "grid_auto_rows": null,
      "grid_column": null,
      "grid_gap": null,
      "grid_row": null,
      "grid_template_areas": null,
      "grid_template_columns": null,
      "grid_template_rows": null,
      "height": null,
      "justify_content": null,
      "justify_items": null,
      "left": null,
      "margin": null,
      "max_height": null,
      "max_width": null,
      "min_height": null,
      "min_width": null,
      "object_fit": null,
      "object_position": null,
      "order": null,
      "overflow": null,
      "overflow_x": null,
      "overflow_y": null,
      "padding": null,
      "right": null,
      "top": null,
      "visibility": null,
      "width": null
     }
    },
    "69a8c21e343e4a6392ec6450b221a74b": {
     "model_module": "@jupyter-widgets/controls",
     "model_module_version": "1.5.0",
     "model_name": "HTMLModel",
     "state": {
      "_dom_classes": [],
      "_model_module": "@jupyter-widgets/controls",
      "_model_module_version": "1.5.0",
      "_model_name": "HTMLModel",
      "_view_count": null,
      "_view_module": "@jupyter-widgets/controls",
      "_view_module_version": "1.5.0",
      "_view_name": "HTMLView",
      "description": "",
      "description_tooltip": null,
      "layout": "IPY_MODEL_fdfe999982974786b8f987ce127e55dd",
      "placeholder": "​",
      "style": "IPY_MODEL_46361e12c52e46a0bbc35de1bd001cd8",
      "value": "config.json: 100%"
     }
    },
    "7820703903da40a186c7a41e7b5ef581": {
     "model_module": "@jupyter-widgets/base",
     "model_module_version": "1.2.0",
     "model_name": "LayoutModel",
     "state": {
      "_model_module": "@jupyter-widgets/base",
      "_model_module_version": "1.2.0",
      "_model_name": "LayoutModel",
      "_view_count": null,
      "_view_module": "@jupyter-widgets/base",
      "_view_module_version": "1.2.0",
      "_view_name": "LayoutView",
      "align_content": null,
      "align_items": null,
      "align_self": null,
      "border": null,
      "bottom": null,
      "display": null,
      "flex": null,
      "flex_flow": null,
      "grid_area": null,
      "grid_auto_columns": null,
      "grid_auto_flow": null,
      "grid_auto_rows": null,
      "grid_column": null,
      "grid_gap": null,
      "grid_row": null,
      "grid_template_areas": null,
      "grid_template_columns": null,
      "grid_template_rows": null,
      "height": null,
      "justify_content": null,
      "justify_items": null,
      "left": null,
      "margin": null,
      "max_height": null,
      "max_width": null,
      "min_height": null,
      "min_width": null,
      "object_fit": null,
      "object_position": null,
      "order": null,
      "overflow": null,
      "overflow_x": null,
      "overflow_y": null,
      "padding": null,
      "right": null,
      "top": null,
      "visibility": null,
      "width": null
     }
    },
    "7e81d3f2904c4d83a86bd607d3f92390": {
     "model_module": "@jupyter-widgets/controls",
     "model_module_version": "1.5.0",
     "model_name": "ProgressStyleModel",
     "state": {
      "_model_module": "@jupyter-widgets/controls",
      "_model_module_version": "1.5.0",
      "_model_name": "ProgressStyleModel",
      "_view_count": null,
      "_view_module": "@jupyter-widgets/base",
      "_view_module_version": "1.2.0",
      "_view_name": "StyleView",
      "bar_color": null,
      "description_width": ""
     }
    },
    "8636040173054dd3a9f658ee8be0cc9f": {
     "model_module": "@jupyter-widgets/base",
     "model_module_version": "1.2.0",
     "model_name": "LayoutModel",
     "state": {
      "_model_module": "@jupyter-widgets/base",
      "_model_module_version": "1.2.0",
      "_model_name": "LayoutModel",
      "_view_count": null,
      "_view_module": "@jupyter-widgets/base",
      "_view_module_version": "1.2.0",
      "_view_name": "LayoutView",
      "align_content": null,
      "align_items": null,
      "align_self": null,
      "border": null,
      "bottom": null,
      "display": null,
      "flex": null,
      "flex_flow": null,
      "grid_area": null,
      "grid_auto_columns": null,
      "grid_auto_flow": null,
      "grid_auto_rows": null,
      "grid_column": null,
      "grid_gap": null,
      "grid_row": null,
      "grid_template_areas": null,
      "grid_template_columns": null,
      "grid_template_rows": null,
      "height": null,
      "justify_content": null,
      "justify_items": null,
      "left": null,
      "margin": null,
      "max_height": null,
      "max_width": null,
      "min_height": null,
      "min_width": null,
      "object_fit": null,
      "object_position": null,
      "order": null,
      "overflow": null,
      "overflow_x": null,
      "overflow_y": null,
      "padding": null,
      "right": null,
      "top": null,
      "visibility": null,
      "width": null
     }
    },
    "8a61e6eaf3784b668fc5139b9945865b": {
     "model_module": "@jupyter-widgets/controls",
     "model_module_version": "1.5.0",
     "model_name": "ProgressStyleModel",
     "state": {
      "_model_module": "@jupyter-widgets/controls",
      "_model_module_version": "1.5.0",
      "_model_name": "ProgressStyleModel",
      "_view_count": null,
      "_view_module": "@jupyter-widgets/base",
      "_view_module_version": "1.2.0",
      "_view_name": "StyleView",
      "bar_color": null,
      "description_width": ""
     }
    },
    "93d4f45e7aed4640982b74c08d9bb48a": {
     "model_module": "@jupyter-widgets/controls",
     "model_module_version": "1.5.0",
     "model_name": "FloatProgressModel",
     "state": {
      "_dom_classes": [],
      "_model_module": "@jupyter-widgets/controls",
      "_model_module_version": "1.5.0",
      "_model_name": "FloatProgressModel",
      "_view_count": null,
      "_view_module": "@jupyter-widgets/controls",
      "_view_module_version": "1.5.0",
      "_view_name": "ProgressView",
      "bar_style": "success",
      "description": "",
      "description_tooltip": null,
      "layout": "IPY_MODEL_3c75a839da514481a7e17e86827e8ef3",
      "max": 231508,
      "min": 0,
      "orientation": "horizontal",
      "style": "IPY_MODEL_ef47b6ff1a3b4841abbb04fb046b6118",
      "value": 231508
     }
    },
    "93e88e82bb3449f8a4e9f431a1ba3921": {
     "model_module": "@jupyter-widgets/controls",
     "model_module_version": "1.5.0",
     "model_name": "HBoxModel",
     "state": {
      "_dom_classes": [],
      "_model_module": "@jupyter-widgets/controls",
      "_model_module_version": "1.5.0",
      "_model_name": "HBoxModel",
      "_view_count": null,
      "_view_module": "@jupyter-widgets/controls",
      "_view_module_version": "1.5.0",
      "_view_name": "HBoxView",
      "box_style": "",
      "children": [
       "IPY_MODEL_0cf143cf7a8645deb2df32f9a06b9b82",
       "IPY_MODEL_93d4f45e7aed4640982b74c08d9bb48a",
       "IPY_MODEL_a8c2793c98e34b0ab4b43329b759bef6"
      ],
      "layout": "IPY_MODEL_7820703903da40a186c7a41e7b5ef581"
     }
    },
    "9968a5f8763147bda7c8d02deb0eaa96": {
     "model_module": "@jupyter-widgets/controls",
     "model_module_version": "1.5.0",
     "model_name": "FloatProgressModel",
     "state": {
      "_dom_classes": [],
      "_model_module": "@jupyter-widgets/controls",
      "_model_module_version": "1.5.0",
      "_model_name": "FloatProgressModel",
      "_view_count": null,
      "_view_module": "@jupyter-widgets/controls",
      "_view_module_version": "1.5.0",
      "_view_name": "ProgressView",
      "bar_style": "success",
      "description": "",
      "description_tooltip": null,
      "layout": "IPY_MODEL_35606a7d10bf47fdaacf3f473afffcc5",
      "max": 48,
      "min": 0,
      "orientation": "horizontal",
      "style": "IPY_MODEL_fcaa3a3b8b5c455aa6e5bcbec952929b",
      "value": 48
     }
    },
    "99a38e65550d48a1a1e0d3556f9ee849": {
     "model_module": "@jupyter-widgets/base",
     "model_module_version": "1.2.0",
     "model_name": "LayoutModel",
     "state": {
      "_model_module": "@jupyter-widgets/base",
      "_model_module_version": "1.2.0",
      "_model_name": "LayoutModel",
      "_view_count": null,
      "_view_module": "@jupyter-widgets/base",
      "_view_module_version": "1.2.0",
      "_view_name": "LayoutView",
      "align_content": null,
      "align_items": null,
      "align_self": null,
      "border": null,
      "bottom": null,
      "display": null,
      "flex": null,
      "flex_flow": null,
      "grid_area": null,
      "grid_auto_columns": null,
      "grid_auto_flow": null,
      "grid_auto_rows": null,
      "grid_column": null,
      "grid_gap": null,
      "grid_row": null,
      "grid_template_areas": null,
      "grid_template_columns": null,
      "grid_template_rows": null,
      "height": null,
      "justify_content": null,
      "justify_items": null,
      "left": null,
      "margin": null,
      "max_height": null,
      "max_width": null,
      "min_height": null,
      "min_width": null,
      "object_fit": null,
      "object_position": null,
      "order": null,
      "overflow": null,
      "overflow_x": null,
      "overflow_y": null,
      "padding": null,
      "right": null,
      "top": null,
      "visibility": null,
      "width": null
     }
    },
    "a8c2793c98e34b0ab4b43329b759bef6": {
     "model_module": "@jupyter-widgets/controls",
     "model_module_version": "1.5.0",
     "model_name": "HTMLModel",
     "state": {
      "_dom_classes": [],
      "_model_module": "@jupyter-widgets/controls",
      "_model_module_version": "1.5.0",
      "_model_name": "HTMLModel",
      "_view_count": null,
      "_view_module": "@jupyter-widgets/controls",
      "_view_module_version": "1.5.0",
      "_view_name": "HTMLView",
      "description": "",
      "description_tooltip": null,
      "layout": "IPY_MODEL_61afd4fe6b60484ba17d6f2713575f8d",
      "placeholder": "​",
      "style": "IPY_MODEL_5d0c259f2a3540cc9bf4bb7cd937c8bd",
      "value": " 232k/232k [00:00&lt;00:00, 4.93MB/s]"
     }
    },
    "ae618ff2f12b422fb175523d4eeb3208": {
     "model_module": "@jupyter-widgets/base",
     "model_module_version": "1.2.0",
     "model_name": "LayoutModel",
     "state": {
      "_model_module": "@jupyter-widgets/base",
      "_model_module_version": "1.2.0",
      "_model_name": "LayoutModel",
      "_view_count": null,
      "_view_module": "@jupyter-widgets/base",
      "_view_module_version": "1.2.0",
      "_view_name": "LayoutView",
      "align_content": null,
      "align_items": null,
      "align_self": null,
      "border": null,
      "bottom": null,
      "display": null,
      "flex": null,
      "flex_flow": null,
      "grid_area": null,
      "grid_auto_columns": null,
      "grid_auto_flow": null,
      "grid_auto_rows": null,
      "grid_column": null,
      "grid_gap": null,
      "grid_row": null,
      "grid_template_areas": null,
      "grid_template_columns": null,
      "grid_template_rows": null,
      "height": null,
      "justify_content": null,
      "justify_items": null,
      "left": null,
      "margin": null,
      "max_height": null,
      "max_width": null,
      "min_height": null,
      "min_width": null,
      "object_fit": null,
      "object_position": null,
      "order": null,
      "overflow": null,
      "overflow_x": null,
      "overflow_y": null,
      "padding": null,
      "right": null,
      "top": null,
      "visibility": null,
      "width": null
     }
    },
    "af114cf848f546b68f5386bdf6515867": {
     "model_module": "@jupyter-widgets/controls",
     "model_module_version": "1.5.0",
     "model_name": "DescriptionStyleModel",
     "state": {
      "_model_module": "@jupyter-widgets/controls",
      "_model_module_version": "1.5.0",
      "_model_name": "DescriptionStyleModel",
      "_view_count": null,
      "_view_module": "@jupyter-widgets/base",
      "_view_module_version": "1.2.0",
      "_view_name": "StyleView",
      "description_width": ""
     }
    },
    "b68a77ef928e4b2c9cd85454d7e342c8": {
     "model_module": "@jupyter-widgets/base",
     "model_module_version": "1.2.0",
     "model_name": "LayoutModel",
     "state": {
      "_model_module": "@jupyter-widgets/base",
      "_model_module_version": "1.2.0",
      "_model_name": "LayoutModel",
      "_view_count": null,
      "_view_module": "@jupyter-widgets/base",
      "_view_module_version": "1.2.0",
      "_view_name": "LayoutView",
      "align_content": null,
      "align_items": null,
      "align_self": null,
      "border": null,
      "bottom": null,
      "display": null,
      "flex": null,
      "flex_flow": null,
      "grid_area": null,
      "grid_auto_columns": null,
      "grid_auto_flow": null,
      "grid_auto_rows": null,
      "grid_column": null,
      "grid_gap": null,
      "grid_row": null,
      "grid_template_areas": null,
      "grid_template_columns": null,
      "grid_template_rows": null,
      "height": null,
      "justify_content": null,
      "justify_items": null,
      "left": null,
      "margin": null,
      "max_height": null,
      "max_width": null,
      "min_height": null,
      "min_width": null,
      "object_fit": null,
      "object_position": null,
      "order": null,
      "overflow": null,
      "overflow_x": null,
      "overflow_y": null,
      "padding": null,
      "right": null,
      "top": null,
      "visibility": null,
      "width": null
     }
    },
    "cc7db9a238cd4ee09fb82223af14d5ad": {
     "model_module": "@jupyter-widgets/base",
     "model_module_version": "1.2.0",
     "model_name": "LayoutModel",
     "state": {
      "_model_module": "@jupyter-widgets/base",
      "_model_module_version": "1.2.0",
      "_model_name": "LayoutModel",
      "_view_count": null,
      "_view_module": "@jupyter-widgets/base",
      "_view_module_version": "1.2.0",
      "_view_name": "LayoutView",
      "align_content": null,
      "align_items": null,
      "align_self": null,
      "border": null,
      "bottom": null,
      "display": null,
      "flex": null,
      "flex_flow": null,
      "grid_area": null,
      "grid_auto_columns": null,
      "grid_auto_flow": null,
      "grid_auto_rows": null,
      "grid_column": null,
      "grid_gap": null,
      "grid_row": null,
      "grid_template_areas": null,
      "grid_template_columns": null,
      "grid_template_rows": null,
      "height": null,
      "justify_content": null,
      "justify_items": null,
      "left": null,
      "margin": null,
      "max_height": null,
      "max_width": null,
      "min_height": null,
      "min_width": null,
      "object_fit": null,
      "object_position": null,
      "order": null,
      "overflow": null,
      "overflow_x": null,
      "overflow_y": null,
      "padding": null,
      "right": null,
      "top": null,
      "visibility": null,
      "width": null
     }
    },
    "d19076acbc5d4d659076b076404cb66d": {
     "model_module": "@jupyter-widgets/controls",
     "model_module_version": "1.5.0",
     "model_name": "HBoxModel",
     "state": {
      "_dom_classes": [],
      "_model_module": "@jupyter-widgets/controls",
      "_model_module_version": "1.5.0",
      "_model_name": "HBoxModel",
      "_view_count": null,
      "_view_module": "@jupyter-widgets/controls",
      "_view_module_version": "1.5.0",
      "_view_name": "HBoxView",
      "box_style": "",
      "children": [
       "IPY_MODEL_1ec9c2794d744e10b9123b29a5fcfc2b",
       "IPY_MODEL_9968a5f8763147bda7c8d02deb0eaa96",
       "IPY_MODEL_436b618495a04a09bc779022295a81fe"
      ],
      "layout": "IPY_MODEL_b68a77ef928e4b2c9cd85454d7e342c8"
     }
    },
    "dcfed4c78fd14bb79df2f4661c4c7c2d": {
     "model_module": "@jupyter-widgets/controls",
     "model_module_version": "1.5.0",
     "model_name": "HTMLModel",
     "state": {
      "_dom_classes": [],
      "_model_module": "@jupyter-widgets/controls",
      "_model_module_version": "1.5.0",
      "_model_name": "HTMLModel",
      "_view_count": null,
      "_view_module": "@jupyter-widgets/controls",
      "_view_module_version": "1.5.0",
      "_view_name": "HTMLView",
      "description": "",
      "description_tooltip": null,
      "layout": "IPY_MODEL_584315bb91f04092bf24be26c2495b9d",
      "placeholder": "​",
      "style": "IPY_MODEL_14fd97ee76df49b0894c88fc46e565d3",
      "value": " 268M/268M [00:01&lt;00:00, 168MB/s]"
     }
    },
    "ddcc1c12fd0249a095c0a71b3f09ca7c": {
     "model_module": "@jupyter-widgets/base",
     "model_module_version": "1.2.0",
     "model_name": "LayoutModel",
     "state": {
      "_model_module": "@jupyter-widgets/base",
      "_model_module_version": "1.2.0",
      "_model_name": "LayoutModel",
      "_view_count": null,
      "_view_module": "@jupyter-widgets/base",
      "_view_module_version": "1.2.0",
      "_view_name": "LayoutView",
      "align_content": null,
      "align_items": null,
      "align_self": null,
      "border": null,
      "bottom": null,
      "display": null,
      "flex": null,
      "flex_flow": null,
      "grid_area": null,
      "grid_auto_columns": null,
      "grid_auto_flow": null,
      "grid_auto_rows": null,
      "grid_column": null,
      "grid_gap": null,
      "grid_row": null,
      "grid_template_areas": null,
      "grid_template_columns": null,
      "grid_template_rows": null,
      "height": null,
      "justify_content": null,
      "justify_items": null,
      "left": null,
      "margin": null,
      "max_height": null,
      "max_width": null,
      "min_height": null,
      "min_width": null,
      "object_fit": null,
      "object_position": null,
      "order": null,
      "overflow": null,
      "overflow_x": null,
      "overflow_y": null,
      "padding": null,
      "right": null,
      "top": null,
      "visibility": null,
      "width": null
     }
    },
    "e98b8557b3a041e6b447d77b724bdbc4": {
     "model_module": "@jupyter-widgets/base",
     "model_module_version": "1.2.0",
     "model_name": "LayoutModel",
     "state": {
      "_model_module": "@jupyter-widgets/base",
      "_model_module_version": "1.2.0",
      "_model_name": "LayoutModel",
      "_view_count": null,
      "_view_module": "@jupyter-widgets/base",
      "_view_module_version": "1.2.0",
      "_view_name": "LayoutView",
      "align_content": null,
      "align_items": null,
      "align_self": null,
      "border": null,
      "bottom": null,
      "display": null,
      "flex": null,
      "flex_flow": null,
      "grid_area": null,
      "grid_auto_columns": null,
      "grid_auto_flow": null,
      "grid_auto_rows": null,
      "grid_column": null,
      "grid_gap": null,
      "grid_row": null,
      "grid_template_areas": null,
      "grid_template_columns": null,
      "grid_template_rows": null,
      "height": null,
      "justify_content": null,
      "justify_items": null,
      "left": null,
      "margin": null,
      "max_height": null,
      "max_width": null,
      "min_height": null,
      "min_width": null,
      "object_fit": null,
      "object_position": null,
      "order": null,
      "overflow": null,
      "overflow_x": null,
      "overflow_y": null,
      "padding": null,
      "right": null,
      "top": null,
      "visibility": null,
      "width": null
     }
    },
    "ef47b6ff1a3b4841abbb04fb046b6118": {
     "model_module": "@jupyter-widgets/controls",
     "model_module_version": "1.5.0",
     "model_name": "ProgressStyleModel",
     "state": {
      "_model_module": "@jupyter-widgets/controls",
      "_model_module_version": "1.5.0",
      "_model_name": "ProgressStyleModel",
      "_view_count": null,
      "_view_module": "@jupyter-widgets/base",
      "_view_module_version": "1.2.0",
      "_view_name": "StyleView",
      "bar_color": null,
      "description_width": ""
     }
    },
    "fca21fe16f77471dba5a48dcb69e7694": {
     "model_module": "@jupyter-widgets/controls",
     "model_module_version": "1.5.0",
     "model_name": "HTMLModel",
     "state": {
      "_dom_classes": [],
      "_model_module": "@jupyter-widgets/controls",
      "_model_module_version": "1.5.0",
      "_model_name": "HTMLModel",
      "_view_count": null,
      "_view_module": "@jupyter-widgets/controls",
      "_view_module_version": "1.5.0",
      "_view_name": "HTMLView",
      "description": "",
      "description_tooltip": null,
      "layout": "IPY_MODEL_cc7db9a238cd4ee09fb82223af14d5ad",
      "placeholder": "​",
      "style": "IPY_MODEL_23bb8f63ee8e4c8d8456c46dd35fcdb6",
      "value": "model.safetensors: 100%"
     }
    },
    "fcaa3a3b8b5c455aa6e5bcbec952929b": {
     "model_module": "@jupyter-widgets/controls",
     "model_module_version": "1.5.0",
     "model_name": "ProgressStyleModel",
     "state": {
      "_model_module": "@jupyter-widgets/controls",
      "_model_module_version": "1.5.0",
      "_model_name": "ProgressStyleModel",
      "_view_count": null,
      "_view_module": "@jupyter-widgets/base",
      "_view_module_version": "1.2.0",
      "_view_name": "StyleView",
      "bar_color": null,
      "description_width": ""
     }
    },
    "fdfe999982974786b8f987ce127e55dd": {
     "model_module": "@jupyter-widgets/base",
     "model_module_version": "1.2.0",
     "model_name": "LayoutModel",
     "state": {
      "_model_module": "@jupyter-widgets/base",
      "_model_module_version": "1.2.0",
      "_model_name": "LayoutModel",
      "_view_count": null,
      "_view_module": "@jupyter-widgets/base",
      "_view_module_version": "1.2.0",
      "_view_name": "LayoutView",
      "align_content": null,
      "align_items": null,
      "align_self": null,
      "border": null,
      "bottom": null,
      "display": null,
      "flex": null,
      "flex_flow": null,
      "grid_area": null,
      "grid_auto_columns": null,
      "grid_auto_flow": null,
      "grid_auto_rows": null,
      "grid_column": null,
      "grid_gap": null,
      "grid_row": null,
      "grid_template_areas": null,
      "grid_template_columns": null,
      "grid_template_rows": null,
      "height": null,
      "justify_content": null,
      "justify_items": null,
      "left": null,
      "margin": null,
      "max_height": null,
      "max_width": null,
      "min_height": null,
      "min_width": null,
      "object_fit": null,
      "object_position": null,
      "order": null,
      "overflow": null,
      "overflow_x": null,
      "overflow_y": null,
      "padding": null,
      "right": null,
      "top": null,
      "visibility": null,
      "width": null
     }
    }
   }
  }
 },
 "nbformat": 4,
 "nbformat_minor": 4
}
