{
 "cells": [
  {
   "cell_type": "markdown",
   "metadata": {
    "id": "YZblv_H6Jf3m"
   },
   "source": [
    "# Importing the tweets.csv dataset"
   ]
  },
  {
   "cell_type": "code",
   "execution_count": 1,
   "metadata": {
    "id": "MNzzEOvrJksd"
   },
   "outputs": [],
   "source": [
    "import pandas as pd\n",
    "import numpy as np\n",
    "df = pd.read_csv('tweets.csv')"
   ]
  },
  {
   "cell_type": "code",
   "execution_count": 89,
   "metadata": {
    "colab": {
     "base_uri": "https://localhost:8080/",
     "height": 36
    },
    "id": "6ssMNX-iJqz0",
    "outputId": "af515e5a-1ab1-4188-e62e-05172912d543"
   },
   "outputs": [
    {
     "data": {
      "text/plain": [
       "0.9988606490598608"
      ]
     },
     "execution_count": 89,
     "metadata": {},
     "output_type": "execute_result"
    }
   ],
   "source": [
    "from sklearn.preprocessing import StandardScaler\n",
    "\n",
    "# Initialize the StandardScaler\n",
    "scaler = StandardScaler()\n",
    "\n",
    "# Apply StandardScaler to the 'target' column\n",
    "df['target'] = scaler.fit_transform(df[['target']])\n",
    "df['target'].max()"
   ]
  },
  {
   "cell_type": "markdown",
   "metadata": {
    "id": "KR3fQYWoXBBy"
   },
   "source": [
    "# Basic Pre-Processing of text"
   ]
  },
  {
   "cell_type": "code",
   "execution_count": 3,
   "metadata": {
    "colab": {
     "base_uri": "https://localhost:8080/",
     "height": 112
    },
    "id": "gqtTn0b9XLHh",
    "outputId": "6292ba53-1e5c-4af3-afdc-c7476ffc9b72"
   },
   "outputs": [
    {
     "data": {
      "text/html": [
       "<div>\n",
       "<style scoped>\n",
       "    .dataframe tbody tr th:only-of-type {\n",
       "        vertical-align: middle;\n",
       "    }\n",
       "\n",
       "    .dataframe tbody tr th {\n",
       "        vertical-align: top;\n",
       "    }\n",
       "\n",
       "    .dataframe thead th {\n",
       "        text-align: right;\n",
       "    }\n",
       "</style>\n",
       "<table border=\"1\" class=\"dataframe\">\n",
       "  <thead>\n",
       "    <tr style=\"text-align: right;\">\n",
       "      <th></th>\n",
       "      <th>target</th>\n",
       "      <th>id</th>\n",
       "      <th>date</th>\n",
       "      <th>flag</th>\n",
       "      <th>user</th>\n",
       "      <th>text</th>\n",
       "    </tr>\n",
       "  </thead>\n",
       "  <tbody>\n",
       "    <tr>\n",
       "      <th>0</th>\n",
       "      <td>0</td>\n",
       "      <td>2200003196</td>\n",
       "      <td>Tue Jun 16 18:18:12 PDT 2009</td>\n",
       "      <td>NO_QUERY</td>\n",
       "      <td>LaLaLindsey0609</td>\n",
       "      <td>@chrishasboobs ahhh i hope your ok!!!</td>\n",
       "    </tr>\n",
       "    <tr>\n",
       "      <th>1</th>\n",
       "      <td>0</td>\n",
       "      <td>1467998485</td>\n",
       "      <td>Mon Apr 06 23:11:14 PDT 2009</td>\n",
       "      <td>NO_QUERY</td>\n",
       "      <td>sexygrneyes</td>\n",
       "      <td>@misstoriblack cool , i have no tweet apps  fo...</td>\n",
       "    </tr>\n",
       "  </tbody>\n",
       "</table>\n",
       "</div>"
      ],
      "text/plain": [
       "   target          id                          date      flag  \\\n",
       "0       0  2200003196  Tue Jun 16 18:18:12 PDT 2009  NO_QUERY   \n",
       "1       0  1467998485  Mon Apr 06 23:11:14 PDT 2009  NO_QUERY   \n",
       "\n",
       "              user                                               text  \n",
       "0  LaLaLindsey0609             @chrishasboobs ahhh i hope your ok!!!   \n",
       "1      sexygrneyes  @misstoriblack cool , i have no tweet apps  fo...  "
      ]
     },
     "execution_count": 3,
     "metadata": {},
     "output_type": "execute_result"
    }
   ],
   "source": [
    "# lowercasing\n",
    "df['text'] = df['text'].str.lower()\n",
    "df.head(2)"
   ]
  },
  {
   "cell_type": "code",
   "execution_count": 4,
   "metadata": {
    "colab": {
     "base_uri": "https://localhost:8080/",
     "height": 112
    },
    "id": "OQNoZCTXX1o-",
    "outputId": "81e39408-306b-4865-d492-785eab6b018d"
   },
   "outputs": [
    {
     "data": {
      "text/html": [
       "<div>\n",
       "<style scoped>\n",
       "    .dataframe tbody tr th:only-of-type {\n",
       "        vertical-align: middle;\n",
       "    }\n",
       "\n",
       "    .dataframe tbody tr th {\n",
       "        vertical-align: top;\n",
       "    }\n",
       "\n",
       "    .dataframe thead th {\n",
       "        text-align: right;\n",
       "    }\n",
       "</style>\n",
       "<table border=\"1\" class=\"dataframe\">\n",
       "  <thead>\n",
       "    <tr style=\"text-align: right;\">\n",
       "      <th></th>\n",
       "      <th>target</th>\n",
       "      <th>id</th>\n",
       "      <th>date</th>\n",
       "      <th>flag</th>\n",
       "      <th>user</th>\n",
       "      <th>text</th>\n",
       "    </tr>\n",
       "  </thead>\n",
       "  <tbody>\n",
       "    <tr>\n",
       "      <th>0</th>\n",
       "      <td>0</td>\n",
       "      <td>2200003196</td>\n",
       "      <td>Tue Jun 16 18:18:12 PDT 2009</td>\n",
       "      <td>NO_QUERY</td>\n",
       "      <td>LaLaLindsey0609</td>\n",
       "      <td>@chrishasboobs ahhh i hope your ok!!!</td>\n",
       "    </tr>\n",
       "    <tr>\n",
       "      <th>1</th>\n",
       "      <td>0</td>\n",
       "      <td>1467998485</td>\n",
       "      <td>Mon Apr 06 23:11:14 PDT 2009</td>\n",
       "      <td>NO_QUERY</td>\n",
       "      <td>sexygrneyes</td>\n",
       "      <td>@misstoriblack cool , i have no tweet apps  fo...</td>\n",
       "    </tr>\n",
       "  </tbody>\n",
       "</table>\n",
       "</div>"
      ],
      "text/plain": [
       "   target          id                          date      flag  \\\n",
       "0       0  2200003196  Tue Jun 16 18:18:12 PDT 2009  NO_QUERY   \n",
       "1       0  1467998485  Mon Apr 06 23:11:14 PDT 2009  NO_QUERY   \n",
       "\n",
       "              user                                               text  \n",
       "0  LaLaLindsey0609             @chrishasboobs ahhh i hope your ok!!!   \n",
       "1      sexygrneyes  @misstoriblack cool , i have no tweet apps  fo...  "
      ]
     },
     "execution_count": 4,
     "metadata": {},
     "output_type": "execute_result"
    }
   ],
   "source": [
    "# removing html tags\n",
    "import re\n",
    "def remove_html(text):\n",
    "  pattern = re.compile('<.*?>')\n",
    "  return pattern.sub(r'', text)\n",
    "\n",
    "df['text'] = df['text'].apply(remove_html)\n",
    "df.head(2)"
   ]
  },
  {
   "cell_type": "code",
   "execution_count": 5,
   "metadata": {
    "colab": {
     "base_uri": "https://localhost:8080/",
     "height": 112
    },
    "id": "MyS8mLZmYTFT",
    "outputId": "c9aeb052-0b2b-4b1a-fe32-7714833cc424"
   },
   "outputs": [
    {
     "data": {
      "text/html": [
       "<div>\n",
       "<style scoped>\n",
       "    .dataframe tbody tr th:only-of-type {\n",
       "        vertical-align: middle;\n",
       "    }\n",
       "\n",
       "    .dataframe tbody tr th {\n",
       "        vertical-align: top;\n",
       "    }\n",
       "\n",
       "    .dataframe thead th {\n",
       "        text-align: right;\n",
       "    }\n",
       "</style>\n",
       "<table border=\"1\" class=\"dataframe\">\n",
       "  <thead>\n",
       "    <tr style=\"text-align: right;\">\n",
       "      <th></th>\n",
       "      <th>target</th>\n",
       "      <th>id</th>\n",
       "      <th>date</th>\n",
       "      <th>flag</th>\n",
       "      <th>user</th>\n",
       "      <th>text</th>\n",
       "    </tr>\n",
       "  </thead>\n",
       "  <tbody>\n",
       "    <tr>\n",
       "      <th>0</th>\n",
       "      <td>0</td>\n",
       "      <td>2200003196</td>\n",
       "      <td>Tue Jun 16 18:18:12 PDT 2009</td>\n",
       "      <td>NO_QUERY</td>\n",
       "      <td>LaLaLindsey0609</td>\n",
       "      <td>@chrishasboobs ahhh i hope your ok!!!</td>\n",
       "    </tr>\n",
       "    <tr>\n",
       "      <th>1</th>\n",
       "      <td>0</td>\n",
       "      <td>1467998485</td>\n",
       "      <td>Mon Apr 06 23:11:14 PDT 2009</td>\n",
       "      <td>NO_QUERY</td>\n",
       "      <td>sexygrneyes</td>\n",
       "      <td>@misstoriblack cool , i have no tweet apps  fo...</td>\n",
       "    </tr>\n",
       "  </tbody>\n",
       "</table>\n",
       "</div>"
      ],
      "text/plain": [
       "   target          id                          date      flag  \\\n",
       "0       0  2200003196  Tue Jun 16 18:18:12 PDT 2009  NO_QUERY   \n",
       "1       0  1467998485  Mon Apr 06 23:11:14 PDT 2009  NO_QUERY   \n",
       "\n",
       "              user                                               text  \n",
       "0  LaLaLindsey0609             @chrishasboobs ahhh i hope your ok!!!   \n",
       "1      sexygrneyes  @misstoriblack cool , i have no tweet apps  fo...  "
      ]
     },
     "execution_count": 5,
     "metadata": {},
     "output_type": "execute_result"
    }
   ],
   "source": [
    "# removing URLs\n",
    "def remove_url(text):\n",
    "  pattern = re.compile(r'https?://\\S+|www\\.\\S+')\n",
    "  return pattern.sub(r'', text)\n",
    "\n",
    "df['text'] = df['text'].apply(remove_url)\n",
    "df.head(2)"
   ]
  },
  {
   "cell_type": "code",
   "execution_count": 6,
   "metadata": {
    "colab": {
     "base_uri": "https://localhost:8080/",
     "height": 112
    },
    "id": "ctcM9OIqYDhM",
    "outputId": "6f961824-9b46-43d1-fb95-f81a2d19024e"
   },
   "outputs": [
    {
     "data": {
      "text/html": [
       "<div>\n",
       "<style scoped>\n",
       "    .dataframe tbody tr th:only-of-type {\n",
       "        vertical-align: middle;\n",
       "    }\n",
       "\n",
       "    .dataframe tbody tr th {\n",
       "        vertical-align: top;\n",
       "    }\n",
       "\n",
       "    .dataframe thead th {\n",
       "        text-align: right;\n",
       "    }\n",
       "</style>\n",
       "<table border=\"1\" class=\"dataframe\">\n",
       "  <thead>\n",
       "    <tr style=\"text-align: right;\">\n",
       "      <th></th>\n",
       "      <th>target</th>\n",
       "      <th>id</th>\n",
       "      <th>date</th>\n",
       "      <th>flag</th>\n",
       "      <th>user</th>\n",
       "      <th>text</th>\n",
       "    </tr>\n",
       "  </thead>\n",
       "  <tbody>\n",
       "    <tr>\n",
       "      <th>0</th>\n",
       "      <td>0</td>\n",
       "      <td>2200003196</td>\n",
       "      <td>Tue Jun 16 18:18:12 PDT 2009</td>\n",
       "      <td>NO_QUERY</td>\n",
       "      <td>LaLaLindsey0609</td>\n",
       "      <td>chrishasboobs ahhh i hope your ok</td>\n",
       "    </tr>\n",
       "    <tr>\n",
       "      <th>1</th>\n",
       "      <td>0</td>\n",
       "      <td>1467998485</td>\n",
       "      <td>Mon Apr 06 23:11:14 PDT 2009</td>\n",
       "      <td>NO_QUERY</td>\n",
       "      <td>sexygrneyes</td>\n",
       "      <td>misstoriblack cool  i have no tweet apps  for ...</td>\n",
       "    </tr>\n",
       "  </tbody>\n",
       "</table>\n",
       "</div>"
      ],
      "text/plain": [
       "   target          id                          date      flag  \\\n",
       "0       0  2200003196  Tue Jun 16 18:18:12 PDT 2009  NO_QUERY   \n",
       "1       0  1467998485  Mon Apr 06 23:11:14 PDT 2009  NO_QUERY   \n",
       "\n",
       "              user                                               text  \n",
       "0  LaLaLindsey0609                 chrishasboobs ahhh i hope your ok   \n",
       "1      sexygrneyes  misstoriblack cool  i have no tweet apps  for ...  "
      ]
     },
     "execution_count": 6,
     "metadata": {},
     "output_type": "execute_result"
    }
   ],
   "source": [
    "# removing punctuation\n",
    "import string\n",
    "punc = string.punctuation\n",
    "def remove_punc(text):\n",
    "  return text.translate(str.maketrans('', '', punc))\n",
    "\n",
    "df['text'] = df['text'].apply(remove_punc)\n",
    "df.head(2)"
   ]
  },
  {
   "cell_type": "code",
   "execution_count": 7,
   "metadata": {
    "colab": {
     "base_uri": "https://localhost:8080/",
     "height": 112
    },
    "id": "z3NDdHP4YIVW",
    "outputId": "d4308625-2e47-4092-fdea-a15d50b40b3e"
   },
   "outputs": [
    {
     "data": {
      "text/html": [
       "<div>\n",
       "<style scoped>\n",
       "    .dataframe tbody tr th:only-of-type {\n",
       "        vertical-align: middle;\n",
       "    }\n",
       "\n",
       "    .dataframe tbody tr th {\n",
       "        vertical-align: top;\n",
       "    }\n",
       "\n",
       "    .dataframe thead th {\n",
       "        text-align: right;\n",
       "    }\n",
       "</style>\n",
       "<table border=\"1\" class=\"dataframe\">\n",
       "  <thead>\n",
       "    <tr style=\"text-align: right;\">\n",
       "      <th></th>\n",
       "      <th>target</th>\n",
       "      <th>id</th>\n",
       "      <th>date</th>\n",
       "      <th>flag</th>\n",
       "      <th>user</th>\n",
       "      <th>text</th>\n",
       "    </tr>\n",
       "  </thead>\n",
       "  <tbody>\n",
       "    <tr>\n",
       "      <th>0</th>\n",
       "      <td>0</td>\n",
       "      <td>2200003196</td>\n",
       "      <td>Tue Jun 16 18:18:12 PDT 2009</td>\n",
       "      <td>NO_QUERY</td>\n",
       "      <td>LaLaLindsey0609</td>\n",
       "      <td>chrishasboobs ahhh i hope your ok</td>\n",
       "    </tr>\n",
       "    <tr>\n",
       "      <th>1</th>\n",
       "      <td>0</td>\n",
       "      <td>1467998485</td>\n",
       "      <td>Mon Apr 06 23:11:14 PDT 2009</td>\n",
       "      <td>NO_QUERY</td>\n",
       "      <td>sexygrneyes</td>\n",
       "      <td>misstoriblack cool i have no tweet apps for my...</td>\n",
       "    </tr>\n",
       "  </tbody>\n",
       "</table>\n",
       "</div>"
      ],
      "text/plain": [
       "   target          id                          date      flag  \\\n",
       "0       0  2200003196  Tue Jun 16 18:18:12 PDT 2009  NO_QUERY   \n",
       "1       0  1467998485  Mon Apr 06 23:11:14 PDT 2009  NO_QUERY   \n",
       "\n",
       "              user                                               text  \n",
       "0  LaLaLindsey0609                  chrishasboobs ahhh i hope your ok  \n",
       "1      sexygrneyes  misstoriblack cool i have no tweet apps for my...  "
      ]
     },
     "execution_count": 7,
     "metadata": {},
     "output_type": "execute_result"
    }
   ],
   "source": [
    "# handling chat words\n",
    "chat_words = {\n",
    "    \"AFAIK\": \"As Far As I Know\",\n",
    "    \"AFK\": \"Away From Keyboard\",\n",
    "    \"ASAP\": \"As Soon As Possible\",\n",
    "    \"ATK\": \"At The Keyboard\",\n",
    "    \"ATM\": \"At The Moment\",\n",
    "    \"A3\": \"Anytime, Anywhere, Anyplace\",\n",
    "    \"BAK\": \"Back At Keyboard\",\n",
    "    \"BBL\": \"Be Back Later\",\n",
    "    \"BBS\": \"Be Back Soon\",\n",
    "    \"BFN\": \"Bye For Now\",\n",
    "    \"B4N\": \"Bye For Now\",\n",
    "    \"BRB\": \"Be Right Back\",\n",
    "    \"BRT\": \"Be Right There\",\n",
    "    \"BTW\": \"By The Way\",\n",
    "    \"B4\": \"Before\",\n",
    "    \"B4N\": \"Bye For Now\",\n",
    "    \"CU\": \"See You\",\n",
    "    \"CUL8R\": \"See You Later\",\n",
    "    \"CYA\": \"See You\",\n",
    "    \"FAQ\": \"Frequently Asked Questions\",\n",
    "    \"FC\": \"Fingers Crossed\",\n",
    "    \"FWIW\": \"For What It's Worth\",\n",
    "    \"FYI\": \"For Your Information\",\n",
    "    \"GAL\": \"Get A Life\",\n",
    "    \"GG\": \"Good Game\",\n",
    "    \"GN\": \"Good Night\",\n",
    "    \"GMTA\": \"Great Minds Think Alike\",\n",
    "    \"GR8\": \"Great!\",\n",
    "    \"G9\": \"Genius\",\n",
    "    \"IC\": \"I See\",\n",
    "    \"ICQ\": \"I Seek you (also a chat program)\",\n",
    "    \"ILU\": \"ILU: I Love You\",\n",
    "    \"IMHO\": \"In My Honest/Humble Opinion\",\n",
    "    \"IMO\": \"In My Opinion\",\n",
    "    \"IOW\": \"In Other Words\",\n",
    "    \"IRL\": \"In Real Life\",\n",
    "    \"KISS\": \"Keep It Simple, Stupid\",\n",
    "    \"LDR\": \"Long Distance Relationship\",\n",
    "    \"LMAO\": \"Laugh My A.. Off\",\n",
    "    \"LOL\": \"Laughing Out Loud\",\n",
    "    \"LTNS\": \"Long Time No See\",\n",
    "    \"L8R\": \"Later\",\n",
    "    \"MTE\": \"My Thoughts Exactly\",\n",
    "    \"M8\": \"Mate\",\n",
    "    \"NRN\": \"No Reply Necessary\",\n",
    "    \"OIC\": \"Oh I See\",\n",
    "    \"PITA\": \"Pain In The A..\",\n",
    "    \"PRT\": \"Party\",\n",
    "    \"PRW\": \"Parents Are Watching\",\n",
    "    \"QPSA?\": \"Que Pasa?\",\n",
    "    \"ROFL\": \"Rolling On The Floor Laughing\",\n",
    "    \"ROFLOL\": \"Rolling On The Floor Laughing Out Loud\",\n",
    "    \"ROTFLMAO\": \"Rolling On The Floor Laughing My A.. Off\",\n",
    "    \"SK8\": \"Skate\",\n",
    "    \"STATS\": \"Your sex and age\",\n",
    "    \"ASL\": \"Age, Sex, Location\",\n",
    "    \"THX\": \"Thank You\",\n",
    "    \"TTFN\": \"Ta-Ta For Now!\",\n",
    "    \"TTYL\": \"Talk To You Later\",\n",
    "    \"U\": \"You\",\n",
    "    \"U2\": \"You Too\",\n",
    "    \"U4E\": \"Yours For Ever\",\n",
    "    \"WB\": \"Welcome Back\",\n",
    "    \"WTF\": \"What The F...\",\n",
    "    \"WTG\": \"Way To Go!\",\n",
    "    \"WUF\": \"Where Are You From?\",\n",
    "    \"W8\": \"Wait...\",\n",
    "    \"7K\": \"Sick:-D Laugher\",\n",
    "    \"TFW\": \"That feeling when\",\n",
    "    \"MFW\": \"My face when\",\n",
    "    \"MRW\": \"My reaction when\",\n",
    "    \"IFYP\": \"I feel your pain\",\n",
    "    \"TNTL\": \"Trying not to laugh\",\n",
    "    \"JK\": \"Just kidding\",\n",
    "    \"IDC\": \"I don't care\",\n",
    "    \"ILY\": \"I love you\",\n",
    "    \"IMU\": \"I miss you\",\n",
    "    \"ADIH\": \"Another day in hell\",\n",
    "    \"ZZZ\": \"Sleeping, bored, tired\",\n",
    "    \"WYWH\": \"Wish you were here\",\n",
    "    \"TIME\": \"Tears in my eyes\",\n",
    "    \"BAE\": \"Before anyone else\",\n",
    "    \"FIMH\": \"Forever in my heart\",\n",
    "    \"BSAAW\": \"Big smile and a wink\",\n",
    "    \"BWL\": \"Bursting with laughter\",\n",
    "    \"BFF\": \"Best friends forever\",\n",
    "    \"CSL\": \"Can't stop laughing\"\n",
    "}\n",
    "\n",
    "# Function\n",
    "def chat_conversion(text):\n",
    "    new_text = []\n",
    "    for i in text.split():\n",
    "        if i.upper() in chat_words:\n",
    "            new_text.append(chat_words[i.upper()])\n",
    "        else:\n",
    "            new_text.append(i)\n",
    "    return \" \".join(new_text)\n",
    "\n",
    "df['text'] = df['text'].apply(chat_conversion)\n",
    "df.head(2)"
   ]
  },
  {
   "cell_type": "code",
   "execution_count": 8,
   "metadata": {
    "id": "NsfvPBsYpamv"
   },
   "outputs": [],
   "source": [
    "# decontraction of words\n",
    "import re\n",
    "\n",
    "# Contractions dictionary\n",
    "contractions = {\n",
    "    \"ain't\": \"am not\", \"aren't\": \"are not\", \"can't\": \"can not\", \"can't've\": \"can not have\", \"'cause\": \"because\",\n",
    "    \"could've\": \"could have\", \"couldn't\": \"could not\", \"couldn't've\": \"could not have\", \"didn't\": \"did not\",\n",
    "    \"doesn't\": \"does not\", \"don't\": \"do not\", \"hadn't\": \"had not\", \"hadn't've\": \"had not have\", \"hasn't\": \"has not\",\n",
    "    \"haven't\": \"have not\", \"he'd\": \"he would\", \"he'd've\": \"he would have\", \"he'll\": \"he will\", \"he'll've\": \"he will have\",\n",
    "    \"he's\": \"he is\", \"how'd\": \"how did\", \"how'd'y\": \"how do you\", \"how'll\": \"how will\", \"how's\": \"how is\", \"i'd\": \"i would\",\n",
    "    \"i'd've\": \"i would have\", \"i'll\": \"i will\", \"i'll've\": \"i will have\", \"i'm\": \"i am\", \"i've\": \"i have\", \"isn't\": \"is not\",\n",
    "    \"it'd\": \"it would\", \"it'd've\": \"it would have\", \"it'll\": \"it will\", \"it'll've\": \"it will have\", \"it's\": \"it is\",\n",
    "    \"let's\": \"let us\", \"ma'am\": \"madam\", \"mayn't\": \"may not\", \"might've\": \"might have\", \"mightn't\": \"might not\",\n",
    "    \"mightn't've\": \"might not have\", \"must've\": \"must have\", \"mustn't\": \"must not\", \"mustn't've\": \"must not have\",\n",
    "    \"needn't\": \"need not\", \"needn't've\": \"need not have\", \"o'clock\": \"of the clock\", \"oughtn't\": \"ought not\",\n",
    "    \"oughtn't've\": \"ought not have\", \"shan't\": \"shall not\", \"sha'n't\": \"shall not\", \"shan't've\": \"shall not have\",\n",
    "    \"she'd\": \"she would\", \"she'd've\": \"she would have\", \"she'll\": \"she will\", \"she'll've\": \"she will have\", \"she's\": \"she is\",\n",
    "    \"should've\": \"should have\", \"shouldn't\": \"should not\", \"shouldn't've\": \"should not have\", \"so've\": \"so have\",\n",
    "    \"so's\": \"so as\", \"that'd\": \"that would\", \"that'd've\": \"that would have\", \"that's\": \"that is\", \"there'd\": \"there would\",\n",
    "    \"there'd've\": \"there would have\", \"there's\": \"there is\", \"they'd\": \"they would\", \"they'd've\": \"they would have\",\n",
    "    \"they'll\": \"they will\", \"they'll've\": \"they will have\", \"they're\": \"they are\", \"they've\": \"they have\", \"to've\": \"to have\",\n",
    "    \"wasn't\": \"was not\", \"we'd\": \"we would\", \"we'd've\": \"we would have\", \"we'll\": \"we will\", \"we'll've\": \"we will have\",\n",
    "    \"we're\": \"we are\", \"we've\": \"we have\", \"weren't\": \"were not\", \"what'll\": \"what will\", \"what'll've\": \"what will have\",\n",
    "    \"what're\": \"what are\", \"what's\": \"what is\", \"what've\": \"what have\", \"when's\": \"when is\", \"when've\": \"when have\",\n",
    "    \"where'd\": \"where did\", \"where's\": \"where is\", \"where've\": \"where have\", \"who'll\": \"who will\", \"who'll've\": \"who will have\",\n",
    "    \"who's\": \"who is\", \"who've\": \"who have\", \"why's\": \"why is\", \"why've\": \"why have\", \"will've\": \"will have\", \"won't\": \"will not\",\n",
    "    \"won't've\": \"will not have\", \"would've\": \"would have\", \"wouldn't\": \"would not\", \"wouldn't've\": \"would not have\",\n",
    "    \"y'all\": \"you all\", \"y'all'd\": \"you all would\", \"y'all'd've\": \"you all would have\", \"y'all're\": \"you all are\",\n",
    "    \"y'all've\": \"you all have\", \"you'd\": \"you would\", \"you'd've\": \"you would have\", \"you'll\": \"you will\", \"you'll've\": \"you will have\",\n",
    "    \"you're\": \"you are\", \"you've\": \"you have\"\n",
    "}\n",
    "\n",
    "def decontract_text(text):\n",
    "    \"\"\"\n",
    "    Decontracts common English contractions in a given text.\n",
    "    \"\"\"\n",
    "    if not isinstance(text, str):\n",
    "        return text\n",
    "\n",
    "    # Split the text into words\n",
    "    words = text.split()\n",
    "    # Replace each contracted form in the words with the expanded form\n",
    "    expanded_words = [contractions[word.lower()] if word.lower() in contractions else word for word in words]\n",
    "\n",
    "    # Join words back into a sentence\n",
    "    text = ' '.join(expanded_words)\n",
    "\n",
    "    # Handle remaining common contractions in case insensitive manner\n",
    "    text = re.sub(r\"\\b've\\b\", \" have\", text, flags=re.IGNORECASE)\n",
    "    text = re.sub(r\"\\bn't\\b\", \" not\", text, flags=re.IGNORECASE)\n",
    "    text = re.sub(r\"\\b're\\b\", \" are\", text, flags=re.IGNORECASE)\n",
    "    text = re.sub(r\"\\b'll\\b\", \" will\", text, flags=re.IGNORECASE)\n",
    "\n",
    "    return text\n",
    "\n",
    "df['text'] = df['text'].apply(decontract_text)"
   ]
  },
  {
   "cell_type": "code",
   "execution_count": 9,
   "metadata": {
    "colab": {
     "base_uri": "https://localhost:8080/",
     "height": 148
    },
    "id": "hG8y90YvY9vP",
    "outputId": "49dc67e4-651f-4341-d89c-7310e540c11b"
   },
   "outputs": [
    {
     "name": "stdout",
     "output_type": "stream",
     "text": [
      "Defaulting to user installation because normal site-packages is not writeable\n",
      "Collecting symspellpy\n",
      "  Downloading symspellpy-6.7.8-py3-none-any.whl.metadata (3.9 kB)\n",
      "Collecting editdistpy>=0.1.3 (from symspellpy)\n",
      "  Downloading editdistpy-0.1.5-cp310-cp310-manylinux_2_5_x86_64.manylinux1_x86_64.manylinux_2_17_x86_64.manylinux2014_x86_64.whl.metadata (7.9 kB)\n",
      "Downloading symspellpy-6.7.8-py3-none-any.whl (2.6 MB)\n",
      "\u001b[2K   \u001b[38;2;114;156;31m━━━━━━━━━━━━━━━━━━━━━━━━━━━━━━━━━━━━━━━━\u001b[0m \u001b[32m2.6/2.6 MB\u001b[0m \u001b[31m6.0 MB/s\u001b[0m eta \u001b[36m0:00:00\u001b[0m MB/s\u001b[0m eta \u001b[36m0:00:01\u001b[0m\n",
      "\u001b[?25hDownloading editdistpy-0.1.5-cp310-cp310-manylinux_2_5_x86_64.manylinux1_x86_64.manylinux_2_17_x86_64.manylinux2014_x86_64.whl (144 kB)\n",
      "Installing collected packages: editdistpy, symspellpy\n",
      "Successfully installed editdistpy-0.1.5 symspellpy-6.7.8\n",
      "\n",
      "\u001b[1m[\u001b[0m\u001b[34;49mnotice\u001b[0m\u001b[1;39;49m]\u001b[0m\u001b[39;49m A new release of pip is available: \u001b[0m\u001b[31;49m24.2\u001b[0m\u001b[39;49m -> \u001b[0m\u001b[32;49m24.3.1\u001b[0m\n",
      "\u001b[1m[\u001b[0m\u001b[34;49mnotice\u001b[0m\u001b[1;39;49m]\u001b[0m\u001b[39;49m To update, run: \u001b[0m\u001b[32;49mpython3 -m pip install --upgrade pip\u001b[0m\n"
     ]
    },
    {
     "name": "stderr",
     "output_type": "stream",
     "text": [
      "2024-11-08 17:29:13,173: E symspellpy.symspellpy] Dictionary file not found at /content/en-80k.txt.\n"
     ]
    },
    {
     "data": {
      "text/html": [
       "<div>\n",
       "<style scoped>\n",
       "    .dataframe tbody tr th:only-of-type {\n",
       "        vertical-align: middle;\n",
       "    }\n",
       "\n",
       "    .dataframe tbody tr th {\n",
       "        vertical-align: top;\n",
       "    }\n",
       "\n",
       "    .dataframe thead th {\n",
       "        text-align: right;\n",
       "    }\n",
       "</style>\n",
       "<table border=\"1\" class=\"dataframe\">\n",
       "  <thead>\n",
       "    <tr style=\"text-align: right;\">\n",
       "      <th></th>\n",
       "      <th>target</th>\n",
       "      <th>id</th>\n",
       "      <th>date</th>\n",
       "      <th>flag</th>\n",
       "      <th>user</th>\n",
       "      <th>text</th>\n",
       "    </tr>\n",
       "  </thead>\n",
       "  <tbody>\n",
       "    <tr>\n",
       "      <th>0</th>\n",
       "      <td>0</td>\n",
       "      <td>2200003196</td>\n",
       "      <td>Tue Jun 16 18:18:12 PDT 2009</td>\n",
       "      <td>NO_QUERY</td>\n",
       "      <td>LaLaLindsey0609</td>\n",
       "      <td>chrishasboobs ahhh i hope your ok</td>\n",
       "    </tr>\n",
       "    <tr>\n",
       "      <th>1</th>\n",
       "      <td>0</td>\n",
       "      <td>1467998485</td>\n",
       "      <td>Mon Apr 06 23:11:14 PDT 2009</td>\n",
       "      <td>NO_QUERY</td>\n",
       "      <td>sexygrneyes</td>\n",
       "      <td>misstoriblack cool i have no tweet apps for my...</td>\n",
       "    </tr>\n",
       "  </tbody>\n",
       "</table>\n",
       "</div>"
      ],
      "text/plain": [
       "   target          id                          date      flag  \\\n",
       "0       0  2200003196  Tue Jun 16 18:18:12 PDT 2009  NO_QUERY   \n",
       "1       0  1467998485  Mon Apr 06 23:11:14 PDT 2009  NO_QUERY   \n",
       "\n",
       "              user                                               text  \n",
       "0  LaLaLindsey0609                  chrishasboobs ahhh i hope your ok  \n",
       "1      sexygrneyes  misstoriblack cool i have no tweet apps for my...  "
      ]
     },
     "execution_count": 9,
     "metadata": {},
     "output_type": "execute_result"
    }
   ],
   "source": [
    "!pip install symspellpy\n",
    "\n",
    "from symspellpy import SymSpell, Verbosity\n",
    "\n",
    "# Initialize SymSpell with default values\n",
    "sym_spell = SymSpell(max_dictionary_edit_distance=2, prefix_length=7)\n",
    "\n",
    "# Load a dictionary for spell correction\n",
    "dictionary_path = \"/content/en-80k.txt\"\n",
    "sym_spell.load_dictionary(dictionary_path, term_index=0, count_index=1)\n",
    "\n",
    "# Define a function for spell correction using SymSpell\n",
    "def correct_spelling(text):\n",
    "    corrected_words = []\n",
    "    for word in text.split():\n",
    "        # Get the best suggestion for each word\n",
    "        suggestion = sym_spell.lookup(word, Verbosity.CLOSEST, max_edit_distance=2)\n",
    "        corrected_words.append(suggestion[0].term if suggestion else word)  # Append the corrected term or original\n",
    "    return \" \".join(corrected_words)\n",
    "\n",
    "# Apply the spell correction function to the DataFrame\n",
    "df['text'] = df['text'].apply(correct_spelling)\n",
    "\n",
    "df.head(2)"
   ]
  },
  {
   "cell_type": "code",
   "execution_count": 10,
   "metadata": {
    "colab": {
     "base_uri": "https://localhost:8080/"
    },
    "id": "HSNs6Nefiow4",
    "outputId": "1890b7e4-03d1-45e7-d611-604d5faef3ac"
   },
   "outputs": [
    {
     "name": "stderr",
     "output_type": "stream",
     "text": [
      "[nltk_data] Downloading package stopwords to /home/mridul/nltk_data...\n",
      "[nltk_data]   Unzipping corpora/stopwords.zip.\n"
     ]
    },
    {
     "data": {
      "text/plain": [
       "True"
      ]
     },
     "execution_count": 10,
     "metadata": {},
     "output_type": "execute_result"
    }
   ],
   "source": [
    "import nltk\n",
    "nltk.download('stopwords')"
   ]
  },
  {
   "cell_type": "code",
   "execution_count": 11,
   "metadata": {
    "colab": {
     "base_uri": "https://localhost:8080/",
     "height": 112
    },
    "id": "VEVCFvKBZH4M",
    "outputId": "a9ffb9b1-cc0b-41d1-f343-822907d800a2"
   },
   "outputs": [
    {
     "data": {
      "text/html": [
       "<div>\n",
       "<style scoped>\n",
       "    .dataframe tbody tr th:only-of-type {\n",
       "        vertical-align: middle;\n",
       "    }\n",
       "\n",
       "    .dataframe tbody tr th {\n",
       "        vertical-align: top;\n",
       "    }\n",
       "\n",
       "    .dataframe thead th {\n",
       "        text-align: right;\n",
       "    }\n",
       "</style>\n",
       "<table border=\"1\" class=\"dataframe\">\n",
       "  <thead>\n",
       "    <tr style=\"text-align: right;\">\n",
       "      <th></th>\n",
       "      <th>target</th>\n",
       "      <th>id</th>\n",
       "      <th>date</th>\n",
       "      <th>flag</th>\n",
       "      <th>user</th>\n",
       "      <th>text</th>\n",
       "    </tr>\n",
       "  </thead>\n",
       "  <tbody>\n",
       "    <tr>\n",
       "      <th>0</th>\n",
       "      <td>0</td>\n",
       "      <td>2200003196</td>\n",
       "      <td>Tue Jun 16 18:18:12 PDT 2009</td>\n",
       "      <td>NO_QUERY</td>\n",
       "      <td>LaLaLindsey0609</td>\n",
       "      <td>chrishasboobs ahhh  hope  ok</td>\n",
       "    </tr>\n",
       "    <tr>\n",
       "      <th>1</th>\n",
       "      <td>0</td>\n",
       "      <td>1467998485</td>\n",
       "      <td>Mon Apr 06 23:11:14 PDT 2009</td>\n",
       "      <td>NO_QUERY</td>\n",
       "      <td>sexygrneyes</td>\n",
       "      <td>misstoriblack cool    tweet apps   razr 2</td>\n",
       "    </tr>\n",
       "  </tbody>\n",
       "</table>\n",
       "</div>"
      ],
      "text/plain": [
       "   target          id                          date      flag  \\\n",
       "0       0  2200003196  Tue Jun 16 18:18:12 PDT 2009  NO_QUERY   \n",
       "1       0  1467998485  Mon Apr 06 23:11:14 PDT 2009  NO_QUERY   \n",
       "\n",
       "              user                                       text  \n",
       "0  LaLaLindsey0609               chrishasboobs ahhh  hope  ok  \n",
       "1      sexygrneyes  misstoriblack cool    tweet apps   razr 2  "
      ]
     },
     "execution_count": 11,
     "metadata": {},
     "output_type": "execute_result"
    }
   ],
   "source": [
    "# removing StopWords\n",
    "from nltk.corpus import stopwords\n",
    "stopword = stopwords.words('english')\n",
    "\n",
    "# Function\n",
    "def remove_stopwords(text):\n",
    "    new_text = []\n",
    "\n",
    "    for word in text.split():\n",
    "        if word in stopword:\n",
    "            new_text.append('')\n",
    "        else:\n",
    "            new_text.append(word)\n",
    "    x = new_text[:]\n",
    "    new_text.clear()\n",
    "    return \" \".join(x)\n",
    "\n",
    "df['text'] = df['text'].apply(remove_stopwords)\n",
    "df.head(2)"
   ]
  },
  {
   "cell_type": "code",
   "execution_count": 12,
   "metadata": {
    "colab": {
     "base_uri": "https://localhost:8080/",
     "height": 130
    },
    "id": "iuPvbrpFZUGe",
    "outputId": "16566541-e967-498d-ba94-924034cedff1"
   },
   "outputs": [
    {
     "name": "stdout",
     "output_type": "stream",
     "text": [
      "Defaulting to user installation because normal site-packages is not writeable\n",
      "Requirement already satisfied: emoji in /home/mridul/.local/lib/python3.10/site-packages (2.14.0)\n",
      "\n",
      "\u001b[1m[\u001b[0m\u001b[34;49mnotice\u001b[0m\u001b[1;39;49m]\u001b[0m\u001b[39;49m A new release of pip is available: \u001b[0m\u001b[31;49m24.2\u001b[0m\u001b[39;49m -> \u001b[0m\u001b[32;49m24.3.1\u001b[0m\n",
      "\u001b[1m[\u001b[0m\u001b[34;49mnotice\u001b[0m\u001b[1;39;49m]\u001b[0m\u001b[39;49m To update, run: \u001b[0m\u001b[32;49mpython3 -m pip install --upgrade pip\u001b[0m\n"
     ]
    },
    {
     "data": {
      "text/html": [
       "<div>\n",
       "<style scoped>\n",
       "    .dataframe tbody tr th:only-of-type {\n",
       "        vertical-align: middle;\n",
       "    }\n",
       "\n",
       "    .dataframe tbody tr th {\n",
       "        vertical-align: top;\n",
       "    }\n",
       "\n",
       "    .dataframe thead th {\n",
       "        text-align: right;\n",
       "    }\n",
       "</style>\n",
       "<table border=\"1\" class=\"dataframe\">\n",
       "  <thead>\n",
       "    <tr style=\"text-align: right;\">\n",
       "      <th></th>\n",
       "      <th>target</th>\n",
       "      <th>id</th>\n",
       "      <th>date</th>\n",
       "      <th>flag</th>\n",
       "      <th>user</th>\n",
       "      <th>text</th>\n",
       "    </tr>\n",
       "  </thead>\n",
       "  <tbody>\n",
       "    <tr>\n",
       "      <th>0</th>\n",
       "      <td>0</td>\n",
       "      <td>2200003196</td>\n",
       "      <td>Tue Jun 16 18:18:12 PDT 2009</td>\n",
       "      <td>NO_QUERY</td>\n",
       "      <td>LaLaLindsey0609</td>\n",
       "      <td>chrishasboobs ahhh  hope  ok</td>\n",
       "    </tr>\n",
       "    <tr>\n",
       "      <th>1</th>\n",
       "      <td>0</td>\n",
       "      <td>1467998485</td>\n",
       "      <td>Mon Apr 06 23:11:14 PDT 2009</td>\n",
       "      <td>NO_QUERY</td>\n",
       "      <td>sexygrneyes</td>\n",
       "      <td>misstoriblack cool    tweet apps   razr 2</td>\n",
       "    </tr>\n",
       "  </tbody>\n",
       "</table>\n",
       "</div>"
      ],
      "text/plain": [
       "   target          id                          date      flag  \\\n",
       "0       0  2200003196  Tue Jun 16 18:18:12 PDT 2009  NO_QUERY   \n",
       "1       0  1467998485  Mon Apr 06 23:11:14 PDT 2009  NO_QUERY   \n",
       "\n",
       "              user                                       text  \n",
       "0  LaLaLindsey0609               chrishasboobs ahhh  hope  ok  \n",
       "1      sexygrneyes  misstoriblack cool    tweet apps   razr 2  "
      ]
     },
     "execution_count": 12,
     "metadata": {},
     "output_type": "execute_result"
    }
   ],
   "source": [
    "# Handling Emojis\n",
    "!pip install emoji\n",
    "import emoji\n",
    "\n",
    "df['text'] = df['text'].apply(lambda x: emoji.demojize(x))\n",
    "df.head(2)"
   ]
  },
  {
   "cell_type": "code",
   "execution_count": 13,
   "metadata": {
    "colab": {
     "base_uri": "https://localhost:8080/"
    },
    "id": "_XQb7rNvwW9r",
    "outputId": "90288045-c3f8-49e4-acdc-88f8c38a153e"
   },
   "outputs": [
    {
     "name": "stderr",
     "output_type": "stream",
     "text": [
      "[nltk_data] Downloading package wordnet to /home/mridul/nltk_data...\n"
     ]
    },
    {
     "data": {
      "text/plain": [
       "True"
      ]
     },
     "execution_count": 13,
     "metadata": {},
     "output_type": "execute_result"
    }
   ],
   "source": [
    "import nltk\n",
    "nltk.download('wordnet')"
   ]
  },
  {
   "cell_type": "code",
   "execution_count": 14,
   "metadata": {
    "colab": {
     "base_uri": "https://localhost:8080/",
     "height": 112
    },
    "id": "uRxlzlXkeNr8",
    "outputId": "6fdead7a-70c2-4b8f-c0de-0d3cdb5b53d7"
   },
   "outputs": [
    {
     "data": {
      "text/html": [
       "<div>\n",
       "<style scoped>\n",
       "    .dataframe tbody tr th:only-of-type {\n",
       "        vertical-align: middle;\n",
       "    }\n",
       "\n",
       "    .dataframe tbody tr th {\n",
       "        vertical-align: top;\n",
       "    }\n",
       "\n",
       "    .dataframe thead th {\n",
       "        text-align: right;\n",
       "    }\n",
       "</style>\n",
       "<table border=\"1\" class=\"dataframe\">\n",
       "  <thead>\n",
       "    <tr style=\"text-align: right;\">\n",
       "      <th></th>\n",
       "      <th>target</th>\n",
       "      <th>id</th>\n",
       "      <th>date</th>\n",
       "      <th>flag</th>\n",
       "      <th>user</th>\n",
       "      <th>text</th>\n",
       "    </tr>\n",
       "  </thead>\n",
       "  <tbody>\n",
       "    <tr>\n",
       "      <th>0</th>\n",
       "      <td>0</td>\n",
       "      <td>2200003196</td>\n",
       "      <td>Tue Jun 16 18:18:12 PDT 2009</td>\n",
       "      <td>NO_QUERY</td>\n",
       "      <td>LaLaLindsey0609</td>\n",
       "      <td>chrishasboobs ahhh hope ok</td>\n",
       "    </tr>\n",
       "    <tr>\n",
       "      <th>1</th>\n",
       "      <td>0</td>\n",
       "      <td>1467998485</td>\n",
       "      <td>Mon Apr 06 23:11:14 PDT 2009</td>\n",
       "      <td>NO_QUERY</td>\n",
       "      <td>sexygrneyes</td>\n",
       "      <td>misstoriblack cool tweet apps razr 2</td>\n",
       "    </tr>\n",
       "  </tbody>\n",
       "</table>\n",
       "</div>"
      ],
      "text/plain": [
       "   target          id                          date      flag  \\\n",
       "0       0  2200003196  Tue Jun 16 18:18:12 PDT 2009  NO_QUERY   \n",
       "1       0  1467998485  Mon Apr 06 23:11:14 PDT 2009  NO_QUERY   \n",
       "\n",
       "              user                                  text  \n",
       "0  LaLaLindsey0609            chrishasboobs ahhh hope ok  \n",
       "1      sexygrneyes  misstoriblack cool tweet apps razr 2  "
      ]
     },
     "execution_count": 14,
     "metadata": {},
     "output_type": "execute_result"
    }
   ],
   "source": [
    "# Import WordNetLemmatizer from NLTK library\n",
    "from nltk.stem import WordNetLemmatizer\n",
    "\n",
    "# Initialize lemmatizer\n",
    "lemmatizer = WordNetLemmatizer()\n",
    "\n",
    "# Function to lemmatize words\n",
    "def lemmatize_words(text):\n",
    "    return \" \".join([lemmatizer.lemmatize(word) for word in text.split()])\n",
    "\n",
    "# Apply the lemmatization function to the 'text' column\n",
    "df['text'] = df['text'].apply(lemmatize_words)\n",
    "df.head(2)"
   ]
  },
  {
   "cell_type": "code",
   "execution_count": 22,
   "metadata": {
    "id": "lN4cnguTVCsl"
   },
   "outputs": [],
   "source": [
    "import re\n",
    "\n",
    "# Step 1: Extract mentions\n",
    "# Function to extract mentions from tweet text\n",
    "def extract_mentions(tweet):\n",
    "    return re.findall(r'@(\\w+)', tweet)\n",
    "\n",
    "# Apply the function to extract mentions into a new column\n",
    "df['mentions'] = df['text'].apply(extract_mentions)"
   ]
  },
  {
   "cell_type": "code",
   "execution_count": 23,
   "metadata": {
    "id": "IVKMBBQuVHNX"
   },
   "outputs": [],
   "source": [
    "df_mention = df[df['mentions'].apply(len) > 0]"
   ]
  },
  {
   "cell_type": "code",
   "execution_count": 24,
   "metadata": {
    "colab": {
     "base_uri": "https://localhost:8080/",
     "height": 206
    },
    "id": "RWuJmOUXVUUk",
    "outputId": "2cfbee95-3110-40d5-a9d3-c889571a494b"
   },
   "outputs": [
    {
     "data": {
      "text/html": [
       "<div>\n",
       "<style scoped>\n",
       "    .dataframe tbody tr th:only-of-type {\n",
       "        vertical-align: middle;\n",
       "    }\n",
       "\n",
       "    .dataframe tbody tr th {\n",
       "        vertical-align: top;\n",
       "    }\n",
       "\n",
       "    .dataframe thead th {\n",
       "        text-align: right;\n",
       "    }\n",
       "</style>\n",
       "<table border=\"1\" class=\"dataframe\">\n",
       "  <thead>\n",
       "    <tr style=\"text-align: right;\">\n",
       "      <th></th>\n",
       "      <th>target</th>\n",
       "      <th>id</th>\n",
       "      <th>date</th>\n",
       "      <th>flag</th>\n",
       "      <th>user</th>\n",
       "      <th>text</th>\n",
       "      <th>mentions</th>\n",
       "    </tr>\n",
       "  </thead>\n",
       "  <tbody>\n",
       "  </tbody>\n",
       "</table>\n",
       "</div>"
      ],
      "text/plain": [
       "Empty DataFrame\n",
       "Columns: [target, id, date, flag, user, text, mentions]\n",
       "Index: []"
      ]
     },
     "execution_count": 24,
     "metadata": {},
     "output_type": "execute_result"
    }
   ],
   "source": [
    "df_mention.head()"
   ]
  },
  {
   "cell_type": "code",
   "execution_count": 20,
   "metadata": {
    "colab": {
     "base_uri": "https://localhost:8080/",
     "height": 335
    },
    "id": "unmtWSmIZQF2",
    "outputId": "b43c2039-0ef9-47e0-8c0b-26ef0c30a689"
   },
   "outputs": [
    {
     "data": {
      "text/plain": [
       "count    0.0\n",
       "mean     NaN\n",
       "std      NaN\n",
       "min      NaN\n",
       "25%      NaN\n",
       "50%      NaN\n",
       "75%      NaN\n",
       "max      NaN\n",
       "Name: target, dtype: float64"
      ]
     },
     "execution_count": 20,
     "metadata": {},
     "output_type": "execute_result"
    }
   ],
   "source": [
    "df_mention['target'].describe()"
   ]
  },
  {
   "cell_type": "code",
   "execution_count": null,
   "metadata": {
    "id": "UOezgQ49XH36"
   },
   "outputs": [],
   "source": [
    "sample_mean = df_mention['target'].mean()\n",
    "sample_std = df_mention['target'].std()"
   ]
  },
  {
   "cell_type": "code",
   "execution_count": null,
   "metadata": {
    "colab": {
     "base_uri": "https://localhost:8080/"
    },
    "id": "6ZeCORSAXVvX",
    "outputId": "5c49496d-f4ad-4f73-87e4-ca0cddaf29f8"
   },
   "outputs": [],
   "source": [
    "val = (sample_mean - 0.5) / (sample_std / np.sqrt(len(df_mention)))\n",
    "val"
   ]
  },
  {
   "cell_type": "markdown",
   "metadata": {
    "id": "Az78REI7VJcE"
   },
   "source": [
    "# Word Hypothesis Testing"
   ]
  },
  {
   "cell_type": "markdown",
   "metadata": {},
   "source": [
    "## Intelligent(+ve sentiment accepted)"
   ]
  },
  {
   "cell_type": "code",
   "execution_count": 227,
   "metadata": {},
   "outputs": [
    {
     "data": {
      "text/plain": [
       "8"
      ]
     },
     "execution_count": 227,
     "metadata": {},
     "output_type": "execute_result"
    }
   ],
   "source": [
    "count = df['text'].str.lower().str.count(r'\\bintelligent\\b').sum()\n",
    "count"
   ]
  },
  {
   "cell_type": "code",
   "execution_count": 228,
   "metadata": {},
   "outputs": [
    {
     "data": {
      "text/html": [
       "<div>\n",
       "<style scoped>\n",
       "    .dataframe tbody tr th:only-of-type {\n",
       "        vertical-align: middle;\n",
       "    }\n",
       "\n",
       "    .dataframe tbody tr th {\n",
       "        vertical-align: top;\n",
       "    }\n",
       "\n",
       "    .dataframe thead th {\n",
       "        text-align: right;\n",
       "    }\n",
       "</style>\n",
       "<table border=\"1\" class=\"dataframe\">\n",
       "  <thead>\n",
       "    <tr style=\"text-align: right;\">\n",
       "      <th></th>\n",
       "      <th>target</th>\n",
       "      <th>id</th>\n",
       "      <th>date</th>\n",
       "      <th>flag</th>\n",
       "      <th>user</th>\n",
       "      <th>text</th>\n",
       "      <th>mentions</th>\n",
       "    </tr>\n",
       "  </thead>\n",
       "  <tbody>\n",
       "    <tr>\n",
       "      <th>3673</th>\n",
       "      <td>0.998861</td>\n",
       "      <td>1558291733</td>\n",
       "      <td>Sun Apr 19 07:55:02 PDT 2009</td>\n",
       "      <td>NO_QUERY</td>\n",
       "      <td>Ellsbeth</td>\n",
       "      <td>paulawhite started reading scifi 8th gr h libr...</td>\n",
       "      <td>[]</td>\n",
       "    </tr>\n",
       "    <tr>\n",
       "      <th>17195</th>\n",
       "      <td>0.998861</td>\n",
       "      <td>1573088861</td>\n",
       "      <td>Mon Apr 20 23:40:36 PDT 2009</td>\n",
       "      <td>NO_QUERY</td>\n",
       "      <td>korkykathman</td>\n",
       "      <td>kellyann18 dont silly everyone intelligent way</td>\n",
       "      <td>[]</td>\n",
       "    </tr>\n",
       "    <tr>\n",
       "      <th>59101</th>\n",
       "      <td>0.998861</td>\n",
       "      <td>1881811712</td>\n",
       "      <td>Fri May 22 05:36:54 PDT 2009</td>\n",
       "      <td>NO_QUERY</td>\n",
       "      <td>WahooPooh</td>\n",
       "      <td>flick follower diverse intelligent hilarious s...</td>\n",
       "      <td>[]</td>\n",
       "    </tr>\n",
       "    <tr>\n",
       "      <th>60267</th>\n",
       "      <td>-1.001141</td>\n",
       "      <td>1826210676</td>\n",
       "      <td>Sun May 17 07:57:50 PDT 2009</td>\n",
       "      <td>NO_QUERY</td>\n",
       "      <td>VictoriaBush</td>\n",
       "      <td>missjahan im intelligent like thatahahaha fric...</td>\n",
       "      <td>[]</td>\n",
       "    </tr>\n",
       "    <tr>\n",
       "      <th>70212</th>\n",
       "      <td>-1.001141</td>\n",
       "      <td>2243540897</td>\n",
       "      <td>Fri Jun 19 13:34:51 PDT 2009</td>\n",
       "      <td>NO_QUERY</td>\n",
       "      <td>litrock</td>\n",
       "      <td>baiting crazy guy work difficult refuse see po...</td>\n",
       "      <td>[]</td>\n",
       "    </tr>\n",
       "  </tbody>\n",
       "</table>\n",
       "</div>"
      ],
      "text/plain": [
       "         target          id                          date      flag  \\\n",
       "3673   0.998861  1558291733  Sun Apr 19 07:55:02 PDT 2009  NO_QUERY   \n",
       "17195  0.998861  1573088861  Mon Apr 20 23:40:36 PDT 2009  NO_QUERY   \n",
       "59101  0.998861  1881811712  Fri May 22 05:36:54 PDT 2009  NO_QUERY   \n",
       "60267 -1.001141  1826210676  Sun May 17 07:57:50 PDT 2009  NO_QUERY   \n",
       "70212 -1.001141  2243540897  Fri Jun 19 13:34:51 PDT 2009  NO_QUERY   \n",
       "\n",
       "               user                                               text  \\\n",
       "3673       Ellsbeth  paulawhite started reading scifi 8th gr h libr...   \n",
       "17195  korkykathman     kellyann18 dont silly everyone intelligent way   \n",
       "59101     WahooPooh  flick follower diverse intelligent hilarious s...   \n",
       "60267  VictoriaBush  missjahan im intelligent like thatahahaha fric...   \n",
       "70212       litrock  baiting crazy guy work difficult refuse see po...   \n",
       "\n",
       "      mentions  \n",
       "3673        []  \n",
       "17195       []  \n",
       "59101       []  \n",
       "60267       []  \n",
       "70212       []  "
      ]
     },
     "execution_count": 228,
     "metadata": {},
     "output_type": "execute_result"
    }
   ],
   "source": [
    "filtered_df = df[df['text'].str.contains(r'\\bintelligent\\b', case=False, na=False)]\n",
    "filtered_df.head()"
   ]
  },
  {
   "cell_type": "code",
   "execution_count": 229,
   "metadata": {},
   "outputs": [
    {
     "data": {
      "text/plain": [
       "-2.0525034506325652"
      ]
     },
     "execution_count": 229,
     "metadata": {},
     "output_type": "execute_result"
    }
   ],
   "source": [
    "sample_mean = filtered_df['target'].mean()\n",
    "sample_standard_deviation = filtered_df['target'].std()\n",
    "test_char = ((sample_mean - 1)/sample_standard_deviation)*(np.sqrt(count))\n",
    "test_char"
   ]
  },
  {
   "cell_type": "markdown",
   "metadata": {},
   "source": [
    "### Confidence Interval for Mean:"
   ]
  },
  {
   "cell_type": "code",
   "execution_count": 230,
   "metadata": {},
   "outputs": [
    {
     "name": "stdout",
     "output_type": "stream",
     "text": [
      "Confidence Interval = (-1.0316435535797932, 1.5293638769985647)\n"
     ]
    }
   ],
   "source": [
    "t = 3.499\n",
    "mean_interval_min = sample_mean - t*(sample_standard_deviation)/(np.sqrt(count))\n",
    "mean_interval_max = sample_mean + t*(sample_standard_deviation)/(np.sqrt(count))\n",
    "Confidence_Interval = (mean_interval_min, mean_interval_max)\n",
    "print(f\"Confidence Interval = {Confidence_Interval}\")"
   ]
  },
  {
   "cell_type": "markdown",
   "metadata": {
    "jp-MarkdownHeadingCollapsed": true
   },
   "source": [
    "## Allergic(-ve sentiment accepted)"
   ]
  },
  {
   "cell_type": "code",
   "execution_count": 231,
   "metadata": {},
   "outputs": [
    {
     "data": {
      "text/plain": [
       "37"
      ]
     },
     "execution_count": 231,
     "metadata": {},
     "output_type": "execute_result"
    }
   ],
   "source": [
    "count = df['text'].str.lower().str.count(r'\\ballergic\\b').sum()\n",
    "count"
   ]
  },
  {
   "cell_type": "code",
   "execution_count": 232,
   "metadata": {},
   "outputs": [
    {
     "data": {
      "text/html": [
       "<div>\n",
       "<style scoped>\n",
       "    .dataframe tbody tr th:only-of-type {\n",
       "        vertical-align: middle;\n",
       "    }\n",
       "\n",
       "    .dataframe tbody tr th {\n",
       "        vertical-align: top;\n",
       "    }\n",
       "\n",
       "    .dataframe thead th {\n",
       "        text-align: right;\n",
       "    }\n",
       "</style>\n",
       "<table border=\"1\" class=\"dataframe\">\n",
       "  <thead>\n",
       "    <tr style=\"text-align: right;\">\n",
       "      <th></th>\n",
       "      <th>target</th>\n",
       "      <th>id</th>\n",
       "      <th>date</th>\n",
       "      <th>flag</th>\n",
       "      <th>user</th>\n",
       "      <th>text</th>\n",
       "      <th>mentions</th>\n",
       "    </tr>\n",
       "  </thead>\n",
       "  <tbody>\n",
       "    <tr>\n",
       "      <th>32</th>\n",
       "      <td>-1.001141</td>\n",
       "      <td>2181196503</td>\n",
       "      <td>Mon Jun 15 11:29:59 PDT 2009</td>\n",
       "      <td>NO_QUERY</td>\n",
       "      <td>grskell3</td>\n",
       "      <td>im allergic reaction silver earings</td>\n",
       "      <td>[]</td>\n",
       "    </tr>\n",
       "    <tr>\n",
       "      <th>892</th>\n",
       "      <td>-1.001141</td>\n",
       "      <td>2006900117</td>\n",
       "      <td>Tue Jun 02 11:51:02 PDT 2009</td>\n",
       "      <td>NO_QUERY</td>\n",
       "      <td>JasonTankerley</td>\n",
       "      <td>know ive said million time buti really wish wa...</td>\n",
       "      <td>[]</td>\n",
       "    </tr>\n",
       "    <tr>\n",
       "      <th>3045</th>\n",
       "      <td>-1.001141</td>\n",
       "      <td>2186452810</td>\n",
       "      <td>Mon Jun 15 18:51:40 PDT 2009</td>\n",
       "      <td>NO_QUERY</td>\n",
       "      <td>knight_jonathan</td>\n",
       "      <td>querlvox adult allergic close campus ill try B...</td>\n",
       "      <td>[]</td>\n",
       "    </tr>\n",
       "    <tr>\n",
       "      <th>16431</th>\n",
       "      <td>-1.001141</td>\n",
       "      <td>1770838938</td>\n",
       "      <td>Mon May 11 22:23:36 PDT 2009</td>\n",
       "      <td>NO_QUERY</td>\n",
       "      <td>marynunez</td>\n",
       "      <td>jonathanuniza im allergic seafood lovvvve seafood</td>\n",
       "      <td>[]</td>\n",
       "    </tr>\n",
       "    <tr>\n",
       "      <th>17341</th>\n",
       "      <td>-1.001141</td>\n",
       "      <td>2228675483</td>\n",
       "      <td>Thu Jun 18 14:44:37 PDT 2009</td>\n",
       "      <td>NO_QUERY</td>\n",
       "      <td>leidygee</td>\n",
       "      <td>que claro way school allergic reaction</td>\n",
       "      <td>[]</td>\n",
       "    </tr>\n",
       "  </tbody>\n",
       "</table>\n",
       "</div>"
      ],
      "text/plain": [
       "         target          id                          date      flag  \\\n",
       "32    -1.001141  2181196503  Mon Jun 15 11:29:59 PDT 2009  NO_QUERY   \n",
       "892   -1.001141  2006900117  Tue Jun 02 11:51:02 PDT 2009  NO_QUERY   \n",
       "3045  -1.001141  2186452810  Mon Jun 15 18:51:40 PDT 2009  NO_QUERY   \n",
       "16431 -1.001141  1770838938  Mon May 11 22:23:36 PDT 2009  NO_QUERY   \n",
       "17341 -1.001141  2228675483  Thu Jun 18 14:44:37 PDT 2009  NO_QUERY   \n",
       "\n",
       "                  user                                               text  \\\n",
       "32            grskell3                im allergic reaction silver earings   \n",
       "892     JasonTankerley  know ive said million time buti really wish wa...   \n",
       "3045   knight_jonathan  querlvox adult allergic close campus ill try B...   \n",
       "16431        marynunez  jonathanuniza im allergic seafood lovvvve seafood   \n",
       "17341         leidygee             que claro way school allergic reaction   \n",
       "\n",
       "      mentions  \n",
       "32          []  \n",
       "892         []  \n",
       "3045        []  \n",
       "16431       []  \n",
       "17341       []  "
      ]
     },
     "execution_count": 232,
     "metadata": {},
     "output_type": "execute_result"
    }
   ],
   "source": [
    "filtered_df = df[df['text'].str.contains(r'\\ballergic\\b', case=False, na=False)]\n",
    "filtered_df.head()"
   ]
  },
  {
   "cell_type": "code",
   "execution_count": 233,
   "metadata": {},
   "outputs": [
    {
     "data": {
      "text/plain": [
       "2.1096174003329065"
      ]
     },
     "execution_count": 233,
     "metadata": {},
     "output_type": "execute_result"
    }
   ],
   "source": [
    "sample_mean = filtered_df['target'].mean()\n",
    "sample_standard_deviation = filtered_df['target'].std()\n",
    "test_char = ((sample_mean + 1)/sample_standard_deviation)*(np.sqrt(count))\n",
    "test_char"
   ]
  },
  {
   "cell_type": "markdown",
   "metadata": {},
   "source": [
    "### Confidence Interval for Mean:"
   ]
  },
  {
   "cell_type": "code",
   "execution_count": 234,
   "metadata": {},
   "outputs": [
    {
     "name": "stdout",
     "output_type": "stream",
     "text": [
      "Confidence Interval = (-1.0622895531304988, -0.49554701470758755)\n"
     ]
    }
   ],
   "source": [
    "t = 2.704\n",
    "mean_interval_min = sample_mean - t*(sample_standard_deviation)/(np.sqrt(count))\n",
    "mean_interval_max = sample_mean + t*(sample_standard_deviation)/(np.sqrt(count))\n",
    "Confidence_Interval = (mean_interval_min, mean_interval_max)\n",
    "print(f\"Confidence Interval = {Confidence_Interval}\")"
   ]
  },
  {
   "cell_type": "markdown",
   "metadata": {},
   "source": [
    "## False(-ve sentiment accepted)"
   ]
  },
  {
   "cell_type": "code",
   "execution_count": 235,
   "metadata": {},
   "outputs": [
    {
     "data": {
      "text/plain": [
       "9"
      ]
     },
     "execution_count": 235,
     "metadata": {},
     "output_type": "execute_result"
    }
   ],
   "source": [
    "count = df['text'].str.lower().str.count(r'\\bfalse\\b').sum()\n",
    "count"
   ]
  },
  {
   "cell_type": "code",
   "execution_count": 236,
   "metadata": {},
   "outputs": [
    {
     "data": {
      "text/html": [
       "<div>\n",
       "<style scoped>\n",
       "    .dataframe tbody tr th:only-of-type {\n",
       "        vertical-align: middle;\n",
       "    }\n",
       "\n",
       "    .dataframe tbody tr th {\n",
       "        vertical-align: top;\n",
       "    }\n",
       "\n",
       "    .dataframe thead th {\n",
       "        text-align: right;\n",
       "    }\n",
       "</style>\n",
       "<table border=\"1\" class=\"dataframe\">\n",
       "  <thead>\n",
       "    <tr style=\"text-align: right;\">\n",
       "      <th></th>\n",
       "      <th>target</th>\n",
       "      <th>id</th>\n",
       "      <th>date</th>\n",
       "      <th>flag</th>\n",
       "      <th>user</th>\n",
       "      <th>text</th>\n",
       "      <th>mentions</th>\n",
       "    </tr>\n",
       "  </thead>\n",
       "  <tbody>\n",
       "    <tr>\n",
       "      <th>3502</th>\n",
       "      <td>-1.001141</td>\n",
       "      <td>2004492253</td>\n",
       "      <td>Tue Jun 02 08:17:07 PDT 2009</td>\n",
       "      <td>NO_QUERY</td>\n",
       "      <td>thanate7</td>\n",
       "      <td>craftster sweets4ever false advertising suitca...</td>\n",
       "      <td>[]</td>\n",
       "    </tr>\n",
       "    <tr>\n",
       "      <th>18124</th>\n",
       "      <td>0.998861</td>\n",
       "      <td>1753921652</td>\n",
       "      <td>Sun May 10 04:08:21 PDT 2009</td>\n",
       "      <td>NO_QUERY</td>\n",
       "      <td>red_fairy</td>\n",
       "      <td>thejayson thats false</td>\n",
       "      <td>[]</td>\n",
       "    </tr>\n",
       "    <tr>\n",
       "      <th>42359</th>\n",
       "      <td>-1.001141</td>\n",
       "      <td>2061412838</td>\n",
       "      <td>Sat Jun 06 20:48:59 PDT 2009</td>\n",
       "      <td>NO_QUERY</td>\n",
       "      <td>katekillgour</td>\n",
       "      <td>hating look nice outside get flippin freezing ...</td>\n",
       "      <td>[]</td>\n",
       "    </tr>\n",
       "    <tr>\n",
       "      <th>47530</th>\n",
       "      <td>0.998861</td>\n",
       "      <td>1932529678</td>\n",
       "      <td>Tue May 26 21:39:20 PDT 2009</td>\n",
       "      <td>NO_QUERY</td>\n",
       "      <td>dannigyrl</td>\n",
       "      <td>dynamicdiva42 personally lash thing dont wear ...</td>\n",
       "      <td>[]</td>\n",
       "    </tr>\n",
       "    <tr>\n",
       "      <th>63128</th>\n",
       "      <td>-1.001141</td>\n",
       "      <td>2066772610</td>\n",
       "      <td>Sun Jun 07 11:08:36 PDT 2009</td>\n",
       "      <td>NO_QUERY</td>\n",
       "      <td>one_by_one</td>\n",
       "      <td>stupid trip bletchley park tomorrow apprentice...</td>\n",
       "      <td>[]</td>\n",
       "    </tr>\n",
       "  </tbody>\n",
       "</table>\n",
       "</div>"
      ],
      "text/plain": [
       "         target          id                          date      flag  \\\n",
       "3502  -1.001141  2004492253  Tue Jun 02 08:17:07 PDT 2009  NO_QUERY   \n",
       "18124  0.998861  1753921652  Sun May 10 04:08:21 PDT 2009  NO_QUERY   \n",
       "42359 -1.001141  2061412838  Sat Jun 06 20:48:59 PDT 2009  NO_QUERY   \n",
       "47530  0.998861  1932529678  Tue May 26 21:39:20 PDT 2009  NO_QUERY   \n",
       "63128 -1.001141  2066772610  Sun Jun 07 11:08:36 PDT 2009  NO_QUERY   \n",
       "\n",
       "               user                                               text  \\\n",
       "3502       thanate7  craftster sweets4ever false advertising suitca...   \n",
       "18124     red_fairy                              thejayson thats false   \n",
       "42359  katekillgour  hating look nice outside get flippin freezing ...   \n",
       "47530     dannigyrl  dynamicdiva42 personally lash thing dont wear ...   \n",
       "63128    one_by_one  stupid trip bletchley park tomorrow apprentice...   \n",
       "\n",
       "      mentions  \n",
       "3502        []  \n",
       "18124       []  \n",
       "42359       []  \n",
       "47530       []  \n",
       "63128       []  "
      ]
     },
     "execution_count": 236,
     "metadata": {},
     "output_type": "execute_result"
    }
   ],
   "source": [
    "filtered_df = df[df['text'].str.contains(r'\\bfalse\\b', case=False, na=False)]\n",
    "filtered_df.head()"
   ]
  },
  {
   "cell_type": "code",
   "execution_count": 237,
   "metadata": {},
   "outputs": [
    {
     "data": {
      "text/plain": [
       "1.5079777661312845"
      ]
     },
     "execution_count": 237,
     "metadata": {},
     "output_type": "execute_result"
    }
   ],
   "source": [
    "sample_mean = filtered_df['target'].mean()\n",
    "sample_standard_deviation = filtered_df['target'].std()\n",
    "test_char = ((sample_mean + 1)/sample_standard_deviation)*(np.sqrt(count))\n",
    "test_char"
   ]
  },
  {
   "cell_type": "markdown",
   "metadata": {},
   "source": [
    "### Confidence Interval for Mean:"
   ]
  },
  {
   "cell_type": "code",
   "execution_count": 238,
   "metadata": {},
   "outputs": [
    {
     "name": "stdout",
     "output_type": "stream",
     "text": [
      "Confidence Interval = (-1.542973852471591, 0.4295820178782306)\n"
     ]
    }
   ],
   "source": [
    "t = 3.355\n",
    "mean_interval_min = sample_mean - t*(sample_standard_deviation)/(np.sqrt(count))\n",
    "mean_interval_max = sample_mean + t*(sample_standard_deviation)/(np.sqrt(count))\n",
    "Confidence_Interval = (mean_interval_min, mean_interval_max)\n",
    "print(f\"Confidence Interval = {Confidence_Interval}\")"
   ]
  },
  {
   "cell_type": "markdown",
   "metadata": {},
   "source": [
    "## Admit(Neutral sentiment accepted)"
   ]
  },
  {
   "cell_type": "code",
   "execution_count": 239,
   "metadata": {},
   "outputs": [
    {
     "data": {
      "text/plain": [
       "40"
      ]
     },
     "execution_count": 239,
     "metadata": {},
     "output_type": "execute_result"
    }
   ],
   "source": [
    "count = df['text'].str.lower().str.count(r'\\badmit\\b').sum()\n",
    "count"
   ]
  },
  {
   "cell_type": "code",
   "execution_count": 240,
   "metadata": {},
   "outputs": [
    {
     "data": {
      "text/html": [
       "<div>\n",
       "<style scoped>\n",
       "    .dataframe tbody tr th:only-of-type {\n",
       "        vertical-align: middle;\n",
       "    }\n",
       "\n",
       "    .dataframe tbody tr th {\n",
       "        vertical-align: top;\n",
       "    }\n",
       "\n",
       "    .dataframe thead th {\n",
       "        text-align: right;\n",
       "    }\n",
       "</style>\n",
       "<table border=\"1\" class=\"dataframe\">\n",
       "  <thead>\n",
       "    <tr style=\"text-align: right;\">\n",
       "      <th></th>\n",
       "      <th>target</th>\n",
       "      <th>id</th>\n",
       "      <th>date</th>\n",
       "      <th>flag</th>\n",
       "      <th>user</th>\n",
       "      <th>text</th>\n",
       "      <th>mentions</th>\n",
       "    </tr>\n",
       "  </thead>\n",
       "  <tbody>\n",
       "    <tr>\n",
       "      <th>33</th>\n",
       "      <td>-1.001141</td>\n",
       "      <td>1999945855</td>\n",
       "      <td>Mon Jun 01 21:06:49 PDT 2009</td>\n",
       "      <td>NO_QUERY</td>\n",
       "      <td>nailbiter2</td>\n",
       "      <td>rocdoogie ill admit maybe ill feel better tomo...</td>\n",
       "      <td>[]</td>\n",
       "    </tr>\n",
       "    <tr>\n",
       "      <th>2609</th>\n",
       "      <td>0.998861</td>\n",
       "      <td>2067143151</td>\n",
       "      <td>Sun Jun 07 11:49:32 PDT 2009</td>\n",
       "      <td>NO_QUERY</td>\n",
       "      <td>NatalieBabess_x</td>\n",
       "      <td>valberg1 problem theyll miss really dont wanna...</td>\n",
       "      <td>[]</td>\n",
       "    </tr>\n",
       "    <tr>\n",
       "      <th>3753</th>\n",
       "      <td>-1.001141</td>\n",
       "      <td>2213527696</td>\n",
       "      <td>Wed Jun 17 15:29:43 PDT 2009</td>\n",
       "      <td>NO_QUERY</td>\n",
       "      <td>CanarsieFlossy</td>\n",
       "      <td>get started mid term admit im little nervous</td>\n",
       "      <td>[]</td>\n",
       "    </tr>\n",
       "    <tr>\n",
       "      <th>4010</th>\n",
       "      <td>0.998861</td>\n",
       "      <td>1968749501</td>\n",
       "      <td>Fri May 29 22:07:33 PDT 2009</td>\n",
       "      <td>NO_QUERY</td>\n",
       "      <td>TankaBar_Linda</td>\n",
       "      <td>rosevillerockln pretty darn good must admit wi...</td>\n",
       "      <td>[]</td>\n",
       "    </tr>\n",
       "    <tr>\n",
       "      <th>8393</th>\n",
       "      <td>-1.001141</td>\n",
       "      <td>1759771797</td>\n",
       "      <td>Sun May 10 19:56:32 PDT 2009</td>\n",
       "      <td>NO_QUERY</td>\n",
       "      <td>tracyfisher67</td>\n",
       "      <td>ok admit watching apprentice first watched fin...</td>\n",
       "      <td>[]</td>\n",
       "    </tr>\n",
       "  </tbody>\n",
       "</table>\n",
       "</div>"
      ],
      "text/plain": [
       "        target          id                          date      flag  \\\n",
       "33   -1.001141  1999945855  Mon Jun 01 21:06:49 PDT 2009  NO_QUERY   \n",
       "2609  0.998861  2067143151  Sun Jun 07 11:49:32 PDT 2009  NO_QUERY   \n",
       "3753 -1.001141  2213527696  Wed Jun 17 15:29:43 PDT 2009  NO_QUERY   \n",
       "4010  0.998861  1968749501  Fri May 29 22:07:33 PDT 2009  NO_QUERY   \n",
       "8393 -1.001141  1759771797  Sun May 10 19:56:32 PDT 2009  NO_QUERY   \n",
       "\n",
       "                 user                                               text  \\\n",
       "33         nailbiter2  rocdoogie ill admit maybe ill feel better tomo...   \n",
       "2609  NatalieBabess_x  valberg1 problem theyll miss really dont wanna...   \n",
       "3753   CanarsieFlossy       get started mid term admit im little nervous   \n",
       "4010   TankaBar_Linda  rosevillerockln pretty darn good must admit wi...   \n",
       "8393    tracyfisher67  ok admit watching apprentice first watched fin...   \n",
       "\n",
       "     mentions  \n",
       "33         []  \n",
       "2609       []  \n",
       "3753       []  \n",
       "4010       []  \n",
       "8393       []  "
      ]
     },
     "execution_count": 240,
     "metadata": {},
     "output_type": "execute_result"
    }
   ],
   "source": [
    "filtered_df = df[df['text'].str.contains(r'\\badmit\\b', case=False, na=False)]\n",
    "filtered_df.head()"
   ]
  },
  {
   "cell_type": "code",
   "execution_count": 241,
   "metadata": {},
   "outputs": [
    {
     "data": {
      "text/plain": [
       "2.7177727848368787"
      ]
     },
     "execution_count": 241,
     "metadata": {},
     "output_type": "execute_result"
    }
   ],
   "source": [
    "sample_mean = filtered_df['target'].mean()\n",
    "sample_standard_deviation = filtered_df['target'].std()\n",
    "test_char = ((sample_mean + 0)/sample_standard_deviation)*(np.sqrt(count))\n",
    "test_char"
   ]
  },
  {
   "cell_type": "markdown",
   "metadata": {},
   "source": [
    "### Confidence Interval for Mean:"
   ]
  },
  {
   "cell_type": "code",
   "execution_count": 242,
   "metadata": {},
   "outputs": [
    {
     "name": "stdout",
     "output_type": "stream",
     "text": [
      "Confidence Interval = (0.002021293523987555, 0.7956992248349739)\n"
     ]
    }
   ],
   "source": [
    "t = 2.704\n",
    "mean_interval_min = sample_mean - t*(sample_standard_deviation)/(np.sqrt(count))\n",
    "mean_interval_max = sample_mean + t*(sample_standard_deviation)/(np.sqrt(count))\n",
    "Confidence_Interval = (mean_interval_min, mean_interval_max)\n",
    "print(f\"Confidence Interval = {Confidence_Interval}\")"
   ]
  },
  {
   "cell_type": "markdown",
   "metadata": {},
   "source": [
    "## Calm(+ve sentiment rejected)"
   ]
  },
  {
   "cell_type": "code",
   "execution_count": 243,
   "metadata": {},
   "outputs": [
    {
     "data": {
      "text/plain": [
       "35"
      ]
     },
     "execution_count": 243,
     "metadata": {},
     "output_type": "execute_result"
    }
   ],
   "source": [
    "count = df['text'].str.lower().str.count(r'\\bcalm\\b').sum()\n",
    "count"
   ]
  },
  {
   "cell_type": "code",
   "execution_count": 244,
   "metadata": {},
   "outputs": [
    {
     "data": {
      "text/html": [
       "<div>\n",
       "<style scoped>\n",
       "    .dataframe tbody tr th:only-of-type {\n",
       "        vertical-align: middle;\n",
       "    }\n",
       "\n",
       "    .dataframe tbody tr th {\n",
       "        vertical-align: top;\n",
       "    }\n",
       "\n",
       "    .dataframe thead th {\n",
       "        text-align: right;\n",
       "    }\n",
       "</style>\n",
       "<table border=\"1\" class=\"dataframe\">\n",
       "  <thead>\n",
       "    <tr style=\"text-align: right;\">\n",
       "      <th></th>\n",
       "      <th>target</th>\n",
       "      <th>id</th>\n",
       "      <th>date</th>\n",
       "      <th>flag</th>\n",
       "      <th>user</th>\n",
       "      <th>text</th>\n",
       "      <th>mentions</th>\n",
       "    </tr>\n",
       "  </thead>\n",
       "  <tbody>\n",
       "    <tr>\n",
       "      <th>15</th>\n",
       "      <td>0.998861</td>\n",
       "      <td>1834598659</td>\n",
       "      <td>Mon May 18 03:32:38 PDT 2009</td>\n",
       "      <td>NO_QUERY</td>\n",
       "      <td>andylackie</td>\n",
       "      <td>wizely Laughing Out Loud calm got 30day loan o...</td>\n",
       "      <td>[]</td>\n",
       "    </tr>\n",
       "    <tr>\n",
       "      <th>3665</th>\n",
       "      <td>0.998861</td>\n",
       "      <td>1565432946</td>\n",
       "      <td>Mon Apr 20 06:44:46 PDT 2009</td>\n",
       "      <td>NO_QUERY</td>\n",
       "      <td>michelle_dunlap</td>\n",
       "      <td>aeremaee good luck stay calm professional youl...</td>\n",
       "      <td>[]</td>\n",
       "    </tr>\n",
       "    <tr>\n",
       "      <th>3922</th>\n",
       "      <td>-1.001141</td>\n",
       "      <td>1980415360</td>\n",
       "      <td>Sun May 31 06:40:38 PDT 2009</td>\n",
       "      <td>NO_QUERY</td>\n",
       "      <td>creativedbq</td>\n",
       "      <td>prefer calm sunday bell amp bird crude obnoxio...</td>\n",
       "      <td>[]</td>\n",
       "    </tr>\n",
       "    <tr>\n",
       "      <th>6330</th>\n",
       "      <td>0.998861</td>\n",
       "      <td>1974364432</td>\n",
       "      <td>Sat May 30 12:59:10 PDT 2009</td>\n",
       "      <td>NO_QUERY</td>\n",
       "      <td>nikk29</td>\n",
       "      <td>enjoying much deserved day calm summer school ...</td>\n",
       "      <td>[]</td>\n",
       "    </tr>\n",
       "    <tr>\n",
       "      <th>6333</th>\n",
       "      <td>0.998861</td>\n",
       "      <td>1973655012</td>\n",
       "      <td>Sat May 30 11:34:28 PDT 2009</td>\n",
       "      <td>NO_QUERY</td>\n",
       "      <td>Ellyn_Carnall</td>\n",
       "      <td>joe calm joe breathe breathe</td>\n",
       "      <td>[]</td>\n",
       "    </tr>\n",
       "  </tbody>\n",
       "</table>\n",
       "</div>"
      ],
      "text/plain": [
       "        target          id                          date      flag  \\\n",
       "15    0.998861  1834598659  Mon May 18 03:32:38 PDT 2009  NO_QUERY   \n",
       "3665  0.998861  1565432946  Mon Apr 20 06:44:46 PDT 2009  NO_QUERY   \n",
       "3922 -1.001141  1980415360  Sun May 31 06:40:38 PDT 2009  NO_QUERY   \n",
       "6330  0.998861  1974364432  Sat May 30 12:59:10 PDT 2009  NO_QUERY   \n",
       "6333  0.998861  1973655012  Sat May 30 11:34:28 PDT 2009  NO_QUERY   \n",
       "\n",
       "                 user                                               text  \\\n",
       "15         andylackie  wizely Laughing Out Loud calm got 30day loan o...   \n",
       "3665  michelle_dunlap  aeremaee good luck stay calm professional youl...   \n",
       "3922      creativedbq  prefer calm sunday bell amp bird crude obnoxio...   \n",
       "6330           nikk29  enjoying much deserved day calm summer school ...   \n",
       "6333    Ellyn_Carnall                       joe calm joe breathe breathe   \n",
       "\n",
       "     mentions  \n",
       "15         []  \n",
       "3665       []  \n",
       "3922       []  \n",
       "6330       []  \n",
       "6333       []  "
      ]
     },
     "execution_count": 244,
     "metadata": {},
     "output_type": "execute_result"
    }
   ],
   "source": [
    "filtered_df = df[df['text'].str.contains(r'\\bcalm\\b', case=False, na=False)]\n",
    "filtered_df.head()"
   ]
  },
  {
   "cell_type": "code",
   "execution_count": 245,
   "metadata": {},
   "outputs": [
    {
     "data": {
      "text/plain": [
       "-4.218782809863097"
      ]
     },
     "execution_count": 245,
     "metadata": {},
     "output_type": "execute_result"
    }
   ],
   "source": [
    "sample_mean = filtered_df['target'].mean()\n",
    "sample_standard_deviation = filtered_df['target'].std()\n",
    "test_char = ((sample_mean - 1)/sample_standard_deviation)*(np.sqrt(count))\n",
    "test_char"
   ]
  },
  {
   "cell_type": "markdown",
   "metadata": {},
   "source": [
    "## Ghost(-ve sentiment rejected)"
   ]
  },
  {
   "cell_type": "code",
   "execution_count": 246,
   "metadata": {},
   "outputs": [
    {
     "data": {
      "text/plain": [
       "36"
      ]
     },
     "execution_count": 246,
     "metadata": {},
     "output_type": "execute_result"
    }
   ],
   "source": [
    "count = df['text'].str.lower().str.count(r'\\bghost\\b').sum()\n",
    "count"
   ]
  },
  {
   "cell_type": "code",
   "execution_count": 247,
   "metadata": {},
   "outputs": [
    {
     "data": {
      "text/html": [
       "<div>\n",
       "<style scoped>\n",
       "    .dataframe tbody tr th:only-of-type {\n",
       "        vertical-align: middle;\n",
       "    }\n",
       "\n",
       "    .dataframe tbody tr th {\n",
       "        vertical-align: top;\n",
       "    }\n",
       "\n",
       "    .dataframe thead th {\n",
       "        text-align: right;\n",
       "    }\n",
       "</style>\n",
       "<table border=\"1\" class=\"dataframe\">\n",
       "  <thead>\n",
       "    <tr style=\"text-align: right;\">\n",
       "      <th></th>\n",
       "      <th>target</th>\n",
       "      <th>id</th>\n",
       "      <th>date</th>\n",
       "      <th>flag</th>\n",
       "      <th>user</th>\n",
       "      <th>text</th>\n",
       "      <th>mentions</th>\n",
       "    </tr>\n",
       "  </thead>\n",
       "  <tbody>\n",
       "    <tr>\n",
       "      <th>985</th>\n",
       "      <td>0.998861</td>\n",
       "      <td>1684793209</td>\n",
       "      <td>Sat May 02 22:03:57 PDT 2009</td>\n",
       "      <td>NO_QUERY</td>\n",
       "      <td>workmanxx2012</td>\n",
       "      <td>ksbong scrabble fun pac man make nervous play ...</td>\n",
       "      <td>[]</td>\n",
       "    </tr>\n",
       "    <tr>\n",
       "      <th>2104</th>\n",
       "      <td>-1.001141</td>\n",
       "      <td>1967169014</td>\n",
       "      <td>Fri May 29 19:05:48 PDT 2009</td>\n",
       "      <td>NO_QUERY</td>\n",
       "      <td>heydecember</td>\n",
       "      <td>chinesei cant believe last ep ghost whisperer ...</td>\n",
       "      <td>[]</td>\n",
       "    </tr>\n",
       "    <tr>\n",
       "      <th>2479</th>\n",
       "      <td>0.998861</td>\n",
       "      <td>2062755622</td>\n",
       "      <td>Sun Jun 07 00:11:38 PDT 2009</td>\n",
       "      <td>NO_QUERY</td>\n",
       "      <td>Barbie1270</td>\n",
       "      <td>wow im youtube check ouut type ghost picture s...</td>\n",
       "      <td>[]</td>\n",
       "    </tr>\n",
       "    <tr>\n",
       "      <th>8117</th>\n",
       "      <td>-1.001141</td>\n",
       "      <td>1997593646</td>\n",
       "      <td>Mon Jun 01 17:07:13 PDT 2009</td>\n",
       "      <td>NO_QUERY</td>\n",
       "      <td>Hawser24</td>\n",
       "      <td>mattdavelewis awwwwwwww im watchin ghost chann...</td>\n",
       "      <td>[]</td>\n",
       "    </tr>\n",
       "    <tr>\n",
       "      <th>8416</th>\n",
       "      <td>0.998861</td>\n",
       "      <td>1694687191</td>\n",
       "      <td>Mon May 04 03:43:20 PDT 2009</td>\n",
       "      <td>NO_QUERY</td>\n",
       "      <td>alex_bettylou</td>\n",
       "      <td>waiting last movie finish test screening ghost...</td>\n",
       "      <td>[]</td>\n",
       "    </tr>\n",
       "  </tbody>\n",
       "</table>\n",
       "</div>"
      ],
      "text/plain": [
       "        target          id                          date      flag  \\\n",
       "985   0.998861  1684793209  Sat May 02 22:03:57 PDT 2009  NO_QUERY   \n",
       "2104 -1.001141  1967169014  Fri May 29 19:05:48 PDT 2009  NO_QUERY   \n",
       "2479  0.998861  2062755622  Sun Jun 07 00:11:38 PDT 2009  NO_QUERY   \n",
       "8117 -1.001141  1997593646  Mon Jun 01 17:07:13 PDT 2009  NO_QUERY   \n",
       "8416  0.998861  1694687191  Mon May 04 03:43:20 PDT 2009  NO_QUERY   \n",
       "\n",
       "               user                                               text  \\\n",
       "985   workmanxx2012  ksbong scrabble fun pac man make nervous play ...   \n",
       "2104    heydecember  chinesei cant believe last ep ghost whisperer ...   \n",
       "2479     Barbie1270  wow im youtube check ouut type ghost picture s...   \n",
       "8117       Hawser24  mattdavelewis awwwwwwww im watchin ghost chann...   \n",
       "8416  alex_bettylou  waiting last movie finish test screening ghost...   \n",
       "\n",
       "     mentions  \n",
       "985        []  \n",
       "2104       []  \n",
       "2479       []  \n",
       "8117       []  \n",
       "8416       []  "
      ]
     },
     "execution_count": 247,
     "metadata": {},
     "output_type": "execute_result"
    }
   ],
   "source": [
    "filtered_df = df[df['text'].str.contains(r'\\bghost\\b', case=False, na=False)]\n",
    "filtered_df.head()"
   ]
  },
  {
   "cell_type": "code",
   "execution_count": 248,
   "metadata": {},
   "outputs": [
    {
     "data": {
      "text/plain": [
       "5.284712401794339"
      ]
     },
     "execution_count": 248,
     "metadata": {},
     "output_type": "execute_result"
    }
   ],
   "source": [
    "sample_mean = filtered_df['target'].mean()\n",
    "sample_standard_deviation = filtered_df['target'].std()\n",
    "test_char = ((sample_mean + 1)/sample_standard_deviation)*(np.sqrt(count))\n",
    "test_char"
   ]
  },
  {
   "cell_type": "markdown",
   "metadata": {},
   "source": [
    "## Heat(Neutral sentiment rejected)"
   ]
  },
  {
   "cell_type": "code",
   "execution_count": 249,
   "metadata": {},
   "outputs": [
    {
     "data": {
      "text/plain": [
       "87"
      ]
     },
     "execution_count": 249,
     "metadata": {},
     "output_type": "execute_result"
    }
   ],
   "source": [
    "count = df['text'].str.lower().str.count(r'\\bheat\\b').sum()\n",
    "count"
   ]
  },
  {
   "cell_type": "code",
   "execution_count": 250,
   "metadata": {},
   "outputs": [
    {
     "data": {
      "text/html": [
       "<div>\n",
       "<style scoped>\n",
       "    .dataframe tbody tr th:only-of-type {\n",
       "        vertical-align: middle;\n",
       "    }\n",
       "\n",
       "    .dataframe tbody tr th {\n",
       "        vertical-align: top;\n",
       "    }\n",
       "\n",
       "    .dataframe thead th {\n",
       "        text-align: right;\n",
       "    }\n",
       "</style>\n",
       "<table border=\"1\" class=\"dataframe\">\n",
       "  <thead>\n",
       "    <tr style=\"text-align: right;\">\n",
       "      <th></th>\n",
       "      <th>target</th>\n",
       "      <th>id</th>\n",
       "      <th>date</th>\n",
       "      <th>flag</th>\n",
       "      <th>user</th>\n",
       "      <th>text</th>\n",
       "      <th>mentions</th>\n",
       "    </tr>\n",
       "  </thead>\n",
       "  <tbody>\n",
       "    <tr>\n",
       "      <th>2744</th>\n",
       "      <td>0.998861</td>\n",
       "      <td>1969289746</td>\n",
       "      <td>Fri May 29 23:34:34 PDT 2009</td>\n",
       "      <td>NO_QUERY</td>\n",
       "      <td>PinkBerryGirl</td>\n",
       "      <td>paulharriott awww sound like lot work hope sta...</td>\n",
       "      <td>[]</td>\n",
       "    </tr>\n",
       "    <tr>\n",
       "      <th>3435</th>\n",
       "      <td>-1.001141</td>\n",
       "      <td>1983306628</td>\n",
       "      <td>Sun May 31 12:54:19 PDT 2009</td>\n",
       "      <td>NO_QUERY</td>\n",
       "      <td>SarahLx</td>\n",
       "      <td>bad heat rash body sucksss buttt im going watc...</td>\n",
       "      <td>[]</td>\n",
       "    </tr>\n",
       "    <tr>\n",
       "      <th>4191</th>\n",
       "      <td>-1.001141</td>\n",
       "      <td>2017608705</td>\n",
       "      <td>Wed Jun 03 08:40:04 PDT 2009</td>\n",
       "      <td>NO_QUERY</td>\n",
       "      <td>levkaizer</td>\n",
       "      <td>would rather heat massive loud air con unit ri...</td>\n",
       "      <td>[]</td>\n",
       "    </tr>\n",
       "    <tr>\n",
       "      <th>4392</th>\n",
       "      <td>-1.001141</td>\n",
       "      <td>1694485846</td>\n",
       "      <td>Mon May 04 02:50:42 PDT 2009</td>\n",
       "      <td>NO_QUERY</td>\n",
       "      <td>WayneMcNicol</td>\n",
       "      <td>propper gutted heat went last night</td>\n",
       "      <td>[]</td>\n",
       "    </tr>\n",
       "    <tr>\n",
       "      <th>4452</th>\n",
       "      <td>-1.001141</td>\n",
       "      <td>2063382158</td>\n",
       "      <td>Sun Jun 07 02:26:00 PDT 2009</td>\n",
       "      <td>NO_QUERY</td>\n",
       "      <td>lovelylaura1982</td>\n",
       "      <td>liking rain cold wheres heat sunshine gone</td>\n",
       "      <td>[]</td>\n",
       "    </tr>\n",
       "  </tbody>\n",
       "</table>\n",
       "</div>"
      ],
      "text/plain": [
       "        target          id                          date      flag  \\\n",
       "2744  0.998861  1969289746  Fri May 29 23:34:34 PDT 2009  NO_QUERY   \n",
       "3435 -1.001141  1983306628  Sun May 31 12:54:19 PDT 2009  NO_QUERY   \n",
       "4191 -1.001141  2017608705  Wed Jun 03 08:40:04 PDT 2009  NO_QUERY   \n",
       "4392 -1.001141  1694485846  Mon May 04 02:50:42 PDT 2009  NO_QUERY   \n",
       "4452 -1.001141  2063382158  Sun Jun 07 02:26:00 PDT 2009  NO_QUERY   \n",
       "\n",
       "                 user                                               text  \\\n",
       "2744    PinkBerryGirl  paulharriott awww sound like lot work hope sta...   \n",
       "3435          SarahLx  bad heat rash body sucksss buttt im going watc...   \n",
       "4191        levkaizer  would rather heat massive loud air con unit ri...   \n",
       "4392     WayneMcNicol                propper gutted heat went last night   \n",
       "4452  lovelylaura1982         liking rain cold wheres heat sunshine gone   \n",
       "\n",
       "     mentions  \n",
       "2744       []  \n",
       "3435       []  \n",
       "4191       []  \n",
       "4392       []  \n",
       "4452       []  "
      ]
     },
     "execution_count": 250,
     "metadata": {},
     "output_type": "execute_result"
    }
   ],
   "source": [
    "filtered_df = df[df['text'].str.contains(r'\\bheat\\b', case=False, na=False)]\n",
    "filtered_df.head()"
   ]
  },
  {
   "cell_type": "code",
   "execution_count": 251,
   "metadata": {},
   "outputs": [
    {
     "data": {
      "text/plain": [
       "-6.165997788441167"
      ]
     },
     "execution_count": 251,
     "metadata": {},
     "output_type": "execute_result"
    }
   ],
   "source": [
    "sample_mean = filtered_df['target'].mean()\n",
    "sample_standard_deviation = filtered_df['target'].std()\n",
    "test_char = ((sample_mean + 0)/sample_standard_deviation)*(np.sqrt(count))\n",
    "test_char"
   ]
  }
 ],
 "metadata": {
  "colab": {
   "collapsed_sections": [
    "3If7ugr3R6wh",
    "Q_wmS2OJSnGz",
    "JHBY6uzUT3oq"
   ],
   "provenance": []
  },
  "kernelspec": {
   "display_name": "Python 3 (ipykernel)",
   "language": "python",
   "name": "python3"
  },
  "language_info": {
   "codemirror_mode": {
    "name": "ipython",
    "version": 3
   },
   "file_extension": ".py",
   "mimetype": "text/x-python",
   "name": "python",
   "nbconvert_exporter": "python",
   "pygments_lexer": "ipython3",
   "version": "3.10.12"
  }
 },
 "nbformat": 4,
 "nbformat_minor": 4
}
